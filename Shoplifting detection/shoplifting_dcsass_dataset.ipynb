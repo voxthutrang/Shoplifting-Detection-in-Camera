{
 "cells": [
  {
   "cell_type": "code",
   "execution_count": 1,
   "id": "9b2d8e98",
   "metadata": {
    "execution": {
     "iopub.execute_input": "2025-03-12T23:13:06.829978Z",
     "iopub.status.busy": "2025-03-12T23:13:06.829756Z",
     "iopub.status.idle": "2025-03-12T23:13:06.846195Z",
     "shell.execute_reply": "2025-03-12T23:13:06.845426Z"
    },
    "id": "8hnDa4cPX8FX",
    "outputId": "99ed19db-242c-4c39-8d21-52d28f77d9bc",
    "papermill": {
     "duration": 0.023632,
     "end_time": "2025-03-12T23:13:06.847469",
     "exception": false,
     "start_time": "2025-03-12T23:13:06.823837",
     "status": "completed"
    },
    "tags": []
   },
   "outputs": [
    {
     "name": "stdout",
     "output_type": "stream",
     "text": [
      "Dataset contents: ['RoadAccidents', 'Assault', 'Vandalism', 'Arrest', 'Labels', 'Shooting', 'Arson', 'Explosion', 'Shoplifting', 'Robbery', 'Stealing', 'Burglary', 'Abuse', 'Fighting']\n"
     ]
    }
   ],
   "source": [
    "import os\n",
    "\n",
    "root_dir = \"/kaggle/input/dcsass-dataset/DCSASS Dataset\"\n",
    "\n",
    "print(\"Dataset contents:\", os.listdir(root_dir))"
   ]
  },
  {
   "cell_type": "markdown",
   "id": "206e607a",
   "metadata": {
    "_cell_guid": "b1076dfc-b9ad-4769-8c92-a6c4dae69d19",
    "_uuid": "8f2839f25d086af736a60e9eeb907d3b93b6e0e5",
    "execution": {
     "iopub.execute_input": "2025-02-28T18:09:10.823684Z",
     "iopub.status.busy": "2025-02-28T18:09:10.823341Z",
     "iopub.status.idle": "2025-02-28T18:09:11.272406Z",
     "shell.execute_reply": "2025-02-28T18:09:11.271191Z",
     "shell.execute_reply.started": "2025-02-28T18:09:10.823657Z"
    },
    "id": "cmpC43suWQjj",
    "papermill": {
     "duration": 0.00422,
     "end_time": "2025-03-12T23:13:06.856785",
     "exception": false,
     "start_time": "2025-03-12T23:13:06.852565",
     "status": "completed"
    },
    "tags": []
   },
   "source": [
    "## Libraries"
   ]
  },
  {
   "cell_type": "code",
   "execution_count": 2,
   "id": "e118c493",
   "metadata": {
    "execution": {
     "iopub.execute_input": "2025-03-12T23:13:06.866348Z",
     "iopub.status.busy": "2025-03-12T23:13:06.866138Z",
     "iopub.status.idle": "2025-03-12T23:13:43.843631Z",
     "shell.execute_reply": "2025-03-12T23:13:43.842735Z"
    },
    "id": "K_52mCRNWQjj",
    "outputId": "c77c30fd-66e7-41f4-c7b7-147bd47a3a90",
    "papermill": {
     "duration": 36.983995,
     "end_time": "2025-03-12T23:13:43.845265",
     "exception": false,
     "start_time": "2025-03-12T23:13:06.861270",
     "status": "completed"
    },
    "tags": []
   },
   "outputs": [
    {
     "name": "stdout",
     "output_type": "stream",
     "text": [
      "  Installing build dependencies ... \u001b[?25l\u001b[?25hdone\r\n",
      "  Getting requirements to build wheel ... \u001b[?25l\u001b[?25hdone\r\n",
      "  Preparing metadata (pyproject.toml) ... \u001b[?25l\u001b[?25hdone\r\n",
      "\u001b[2K   \u001b[90m━━━━━━━━━━━━━━━━━━━━━━━━━━━━━━━━━━━━━━━━\u001b[0m \u001b[32m10.5/10.5 MB\u001b[0m \u001b[31m65.9 MB/s\u001b[0m eta \u001b[36m0:00:00\u001b[0m\r\n",
      "\u001b[2K   \u001b[90m━━━━━━━━━━━━━━━━━━━━━━━━━━━━━━━━━━━━━━━━\u001b[0m \u001b[32m932.6/932.6 kB\u001b[0m \u001b[31m44.6 MB/s\u001b[0m eta \u001b[36m0:00:00\u001b[0m\r\n",
      "\u001b[2K   \u001b[90m━━━━━━━━━━━━━━━━━━━━━━━━━━━━━━━━━━━━━━━━\u001b[0m \u001b[32m99.7/99.7 kB\u001b[0m \u001b[31m5.9 MB/s\u001b[0m eta \u001b[36m0:00:00\u001b[0m\r\n",
      "\u001b[2K   \u001b[90m━━━━━━━━━━━━━━━━━━━━━━━━━━━━━━━━━━━━━━━━\u001b[0m \u001b[32m61.7/61.7 kB\u001b[0m \u001b[31m4.2 MB/s\u001b[0m eta \u001b[36m0:00:00\u001b[0m\r\n",
      "\u001b[2K   \u001b[90m━━━━━━━━━━━━━━━━━━━━━━━━━━━━━━━━━━━━━━━━\u001b[0m \u001b[32m79.9/79.9 MB\u001b[0m \u001b[31m21.9 MB/s\u001b[0m eta \u001b[36m0:00:00\u001b[0m\r\n",
      "\u001b[2K   \u001b[90m━━━━━━━━━━━━━━━━━━━━━━━━━━━━━━━━━━━━━━━━\u001b[0m \u001b[32m112.4/112.4 kB\u001b[0m \u001b[31m7.4 MB/s\u001b[0m eta \u001b[36m0:00:00\u001b[0m\r\n",
      "\u001b[2K   \u001b[90m━━━━━━━━━━━━━━━━━━━━━━━━━━━━━━━━━━━━━━━━\u001b[0m \u001b[32m74.8/74.8 kB\u001b[0m \u001b[31m4.0 MB/s\u001b[0m eta \u001b[36m0:00:00\u001b[0m\r\n",
      "\u001b[2K   \u001b[90m━━━━━━━━━━━━━━━━━━━━━━━━━━━━━━━━━━━━━━━━\u001b[0m \u001b[32m1.4/1.4 MB\u001b[0m \u001b[31m57.9 MB/s\u001b[0m eta \u001b[36m0:00:00\u001b[0m\r\n",
      "\u001b[2K   \u001b[90m━━━━━━━━━━━━━━━━━━━━━━━━━━━━━━━━━━━━━━━━\u001b[0m \u001b[32m72.0/72.0 kB\u001b[0m \u001b[31m5.4 MB/s\u001b[0m eta \u001b[36m0:00:00\u001b[0m\r\n",
      "\u001b[2K   \u001b[90m━━━━━━━━━━━━━━━━━━━━━━━━━━━━━━━━━━━━━━━━\u001b[0m \u001b[32m943.0/943.0 kB\u001b[0m \u001b[31m47.6 MB/s\u001b[0m eta \u001b[36m0:00:00\u001b[0m\r\n",
      "\u001b[2K   \u001b[90m━━━━━━━━━━━━━━━━━━━━━━━━━━━━━━━━━━━━━━━━\u001b[0m \u001b[32m43.8/43.8 kB\u001b[0m \u001b[31m2.6 MB/s\u001b[0m eta \u001b[36m0:00:00\u001b[0m\r\n",
      "\u001b[2K   \u001b[90m━━━━━━━━━━━━━━━━━━━━━━━━━━━━━━━━━━━━━━━━\u001b[0m \u001b[32m44.8/44.8 kB\u001b[0m \u001b[31m3.2 MB/s\u001b[0m eta \u001b[36m0:00:00\u001b[0m\r\n",
      "\u001b[2K   \u001b[90m━━━━━━━━━━━━━━━━━━━━━━━━━━━━━━━━━━━━━━━━\u001b[0m \u001b[32m102.1/102.1 kB\u001b[0m \u001b[31m5.7 MB/s\u001b[0m eta \u001b[36m0:00:00\u001b[0m\r\n",
      "\u001b[2K   \u001b[90m━━━━━━━━━━━━━━━━━━━━━━━━━━━━━━━━━━━━━━━━\u001b[0m \u001b[32m296.2/296.2 kB\u001b[0m \u001b[31m18.1 MB/s\u001b[0m eta \u001b[36m0:00:00\u001b[0m\r\n",
      "\u001b[2K   \u001b[90m━━━━━━━━━━━━━━━━━━━━━━━━━━━━━━━━━━━━━━━━\u001b[0m \u001b[32m203.4/203.4 kB\u001b[0m \u001b[31m14.8 MB/s\u001b[0m eta \u001b[36m0:00:00\u001b[0m\r\n",
      "\u001b[2K   \u001b[90m━━━━━━━━━━━━━━━━━━━━━━━━━━━━━━━━━━━━━━━━\u001b[0m \u001b[32m67.9/67.9 kB\u001b[0m \u001b[31m3.7 MB/s\u001b[0m eta \u001b[36m0:00:00\u001b[0m\r\n",
      "\u001b[2K   \u001b[90m━━━━━━━━━━━━━━━━━━━━━━━━━━━━━━━━━━━━━━━━\u001b[0m \u001b[32m3.0/3.0 MB\u001b[0m \u001b[31m81.7 MB/s\u001b[0m eta \u001b[36m0:00:00\u001b[0m\r\n",
      "\u001b[2K   \u001b[90m━━━━━━━━━━━━━━━━━━━━━━━━━━━━━━━━━━━━━━━━\u001b[0m \u001b[32m93.3/93.3 kB\u001b[0m \u001b[31m6.0 MB/s\u001b[0m eta \u001b[36m0:00:00\u001b[0m\r\n",
      "\u001b[2K   \u001b[90m━━━━━━━━━━━━━━━━━━━━━━━━━━━━━━━━━━━━━━━━\u001b[0m \u001b[32m49.6/49.6 kB\u001b[0m \u001b[31m3.3 MB/s\u001b[0m eta \u001b[36m0:00:00\u001b[0m\r\n",
      "\u001b[2K   \u001b[90m━━━━━━━━━━━━━━━━━━━━━━━━━━━━━━━━━━━━━━━━\u001b[0m \u001b[32m139.0/139.0 kB\u001b[0m \u001b[31m8.6 MB/s\u001b[0m eta \u001b[36m0:00:00\u001b[0m\r\n",
      "\u001b[2K   \u001b[90m━━━━━━━━━━━━━━━━━━━━━━━━━━━━━━━━━━━━━━━━\u001b[0m \u001b[32m413.7/413.7 kB\u001b[0m \u001b[31m21.2 MB/s\u001b[0m eta \u001b[36m0:00:00\u001b[0m\r\n",
      "\u001b[?25h  Building wheel for fiftyone-db (pyproject.toml) ... \u001b[?25l\u001b[?25hdone\r\n",
      "\u001b[31mERROR: pip's dependency resolver does not currently take into account all the packages that are installed. This behaviour is the source of the following dependency conflicts.\r\n",
      "ydata-profiling 4.12.2 requires dacite>=1.8, but you have dacite 1.7.0 which is incompatible.\u001b[0m\u001b[31m\r\n",
      "\u001b[0mCollecting deep-sort-realtime\r\n",
      "  Downloading deep_sort_realtime-1.3.2-py3-none-any.whl.metadata (12 kB)\r\n",
      "Requirement already satisfied: numpy in /usr/local/lib/python3.10/dist-packages (from deep-sort-realtime) (1.26.4)\r\n",
      "Requirement already satisfied: scipy in /usr/local/lib/python3.10/dist-packages (from deep-sort-realtime) (1.13.1)\r\n",
      "Requirement already satisfied: opencv-python in /usr/local/lib/python3.10/dist-packages (from deep-sort-realtime) (4.10.0.84)\r\n",
      "Requirement already satisfied: mkl_fft in /usr/local/lib/python3.10/dist-packages (from numpy->deep-sort-realtime) (1.3.8)\r\n",
      "Requirement already satisfied: mkl_random in /usr/local/lib/python3.10/dist-packages (from numpy->deep-sort-realtime) (1.2.4)\r\n",
      "Requirement already satisfied: mkl_umath in /usr/local/lib/python3.10/dist-packages (from numpy->deep-sort-realtime) (0.1.1)\r\n",
      "Requirement already satisfied: mkl in /usr/local/lib/python3.10/dist-packages (from numpy->deep-sort-realtime) (2025.0.1)\r\n",
      "Requirement already satisfied: tbb4py in /usr/local/lib/python3.10/dist-packages (from numpy->deep-sort-realtime) (2022.0.0)\r\n",
      "Requirement already satisfied: mkl-service in /usr/local/lib/python3.10/dist-packages (from numpy->deep-sort-realtime) (2.4.1)\r\n",
      "Requirement already satisfied: intel-openmp>=2024 in /usr/local/lib/python3.10/dist-packages (from mkl->numpy->deep-sort-realtime) (2024.2.0)\r\n",
      "Requirement already satisfied: tbb==2022.* in /usr/local/lib/python3.10/dist-packages (from mkl->numpy->deep-sort-realtime) (2022.0.0)\r\n",
      "Requirement already satisfied: tcmlib==1.* in /usr/local/lib/python3.10/dist-packages (from tbb==2022.*->mkl->numpy->deep-sort-realtime) (1.2.0)\r\n",
      "Requirement already satisfied: intel-cmplr-lib-rt in /usr/local/lib/python3.10/dist-packages (from mkl_umath->numpy->deep-sort-realtime) (2024.2.0)\r\n",
      "Requirement already satisfied: intel-cmplr-lib-ur==2024.2.0 in /usr/local/lib/python3.10/dist-packages (from intel-openmp>=2024->mkl->numpy->deep-sort-realtime) (2024.2.0)\r\n",
      "Downloading deep_sort_realtime-1.3.2-py3-none-any.whl (8.4 MB)\r\n",
      "\u001b[2K   \u001b[90m━━━━━━━━━━━━━━━━━━━━━━━━━━━━━━━━━━━━━━━━\u001b[0m \u001b[32m8.4/8.4 MB\u001b[0m \u001b[31m82.0 MB/s\u001b[0m eta \u001b[36m0:00:00\u001b[0m\r\n",
      "\u001b[?25hInstalling collected packages: deep-sort-realtime\r\n",
      "Successfully installed deep-sort-realtime-1.3.2\r\n"
     ]
    }
   ],
   "source": [
    "!pip install fiftyone ultralytics --quiet\n",
    "!pip install deep-sort-realtime"
   ]
  },
  {
   "cell_type": "code",
   "execution_count": 3,
   "id": "f52b9723",
   "metadata": {
    "execution": {
     "iopub.execute_input": "2025-03-12T23:13:43.860577Z",
     "iopub.status.busy": "2025-03-12T23:13:43.860301Z",
     "iopub.status.idle": "2025-03-12T23:14:05.956677Z",
     "shell.execute_reply": "2025-03-12T23:14:05.955949Z"
    },
    "id": "rd3FsqjrWQjk",
    "outputId": "e1f340d8-ac9b-4299-ff95-1b1992143509",
    "papermill": {
     "duration": 22.105497,
     "end_time": "2025-03-12T23:14:05.958081",
     "exception": false,
     "start_time": "2025-03-12T23:13:43.852584",
     "status": "completed"
    },
    "tags": []
   },
   "outputs": [
    {
     "name": "stdout",
     "output_type": "stream",
     "text": [
      "Creating new Ultralytics Settings v0.0.6 file ✅ \n",
      "View Ultralytics Settings with 'yolo settings' or at '/root/.config/Ultralytics/settings.json'\n",
      "Update Settings with 'yolo settings key=value', i.e. 'yolo settings runs_dir=path/to/dir'. For help see https://docs.ultralytics.com/quickstart/#ultralytics-settings.\n"
     ]
    }
   ],
   "source": [
    "import pandas as pd\n",
    "import numpy as np\n",
    "import os\n",
    "import cv2\n",
    "import torch\n",
    "import matplotlib.pyplot as plt\n",
    "import random\n",
    "import math\n",
    "import tensorflow as tf\n",
    "from ultralytics import YOLO\n",
    "from deep_sort_realtime.deepsort_tracker import DeepSort\n",
    "\n",
    "from sklearn.model_selection import train_test_split\n",
    "\n",
    "from tensorflow.keras.layers import *\n",
    "from tensorflow.keras.models import Sequential\n",
    "from tensorflow.keras.utils import to_categorical\n",
    "from tensorflow.keras.callbacks import EarlyStopping\n",
    "from tensorflow.keras.utils import plot_model\n",
    "from tensorflow.keras.regularizers import l2"
   ]
  },
  {
   "cell_type": "code",
   "execution_count": 4,
   "id": "16078d60",
   "metadata": {
    "execution": {
     "iopub.execute_input": "2025-03-12T23:14:05.973533Z",
     "iopub.status.busy": "2025-03-12T23:14:05.973055Z",
     "iopub.status.idle": "2025-03-12T23:14:05.976722Z",
     "shell.execute_reply": "2025-03-12T23:14:05.976130Z"
    },
    "id": "YJZvufpOWQjk",
    "papermill": {
     "duration": 0.012382,
     "end_time": "2025-03-12T23:14:05.977983",
     "exception": false,
     "start_time": "2025-03-12T23:14:05.965601",
     "status": "completed"
    },
    "tags": []
   },
   "outputs": [],
   "source": [
    "# Set seed\n",
    "seed_constant = 42\n",
    "np.random.seed(seed_constant)\n",
    "random.seed(seed_constant)\n",
    "tf.random.set_seed(seed_constant)"
   ]
  },
  {
   "cell_type": "markdown",
   "id": "003be8cc",
   "metadata": {
    "id": "rOwEVO8JWQjk",
    "papermill": {
     "duration": 0.00698,
     "end_time": "2025-03-12T23:14:05.992474",
     "exception": false,
     "start_time": "2025-03-12T23:14:05.985494",
     "status": "completed"
    },
    "tags": []
   },
   "source": [
    "## Load Dataset (Shoplifting folder)"
   ]
  },
  {
   "cell_type": "code",
   "execution_count": 5,
   "id": "4c8b118e",
   "metadata": {
    "execution": {
     "iopub.execute_input": "2025-03-12T23:14:06.007291Z",
     "iopub.status.busy": "2025-03-12T23:14:06.007026Z",
     "iopub.status.idle": "2025-03-12T23:14:06.054022Z",
     "shell.execute_reply": "2025-03-12T23:14:06.053315Z"
    },
    "id": "zQvAOX7qWQjl",
    "outputId": "a53c539c-50a6-4b33-837e-1bbf16233752",
    "papermill": {
     "duration": 0.055766,
     "end_time": "2025-03-12T23:14:06.055228",
     "exception": false,
     "start_time": "2025-03-12T23:14:05.999462",
     "status": "completed"
    },
    "tags": []
   },
   "outputs": [
    {
     "data": {
      "text/html": [
       "<div>\n",
       "<style scoped>\n",
       "    .dataframe tbody tr th:only-of-type {\n",
       "        vertical-align: middle;\n",
       "    }\n",
       "\n",
       "    .dataframe tbody tr th {\n",
       "        vertical-align: top;\n",
       "    }\n",
       "\n",
       "    .dataframe thead th {\n",
       "        text-align: right;\n",
       "    }\n",
       "</style>\n",
       "<table border=\"1\" class=\"dataframe\">\n",
       "  <thead>\n",
       "    <tr style=\"text-align: right;\">\n",
       "      <th></th>\n",
       "      <th>0</th>\n",
       "      <th>1</th>\n",
       "      <th>2</th>\n",
       "    </tr>\n",
       "  </thead>\n",
       "  <tbody>\n",
       "    <tr>\n",
       "      <th>0</th>\n",
       "      <td>Shoplifting001_x264_0</td>\n",
       "      <td>Shoplifting</td>\n",
       "      <td>0</td>\n",
       "    </tr>\n",
       "    <tr>\n",
       "      <th>1</th>\n",
       "      <td>Shoplifting001_x264_1</td>\n",
       "      <td>Shoplifting</td>\n",
       "      <td>0</td>\n",
       "    </tr>\n",
       "    <tr>\n",
       "      <th>2</th>\n",
       "      <td>Shoplifting001_x264_2</td>\n",
       "      <td>Shoplifting</td>\n",
       "      <td>0</td>\n",
       "    </tr>\n",
       "    <tr>\n",
       "      <th>3</th>\n",
       "      <td>Shoplifting001_x264_3</td>\n",
       "      <td>Shoplifting</td>\n",
       "      <td>0</td>\n",
       "    </tr>\n",
       "    <tr>\n",
       "      <th>4</th>\n",
       "      <td>Shoplifting001_x264_4</td>\n",
       "      <td>Shoplifting</td>\n",
       "      <td>0</td>\n",
       "    </tr>\n",
       "  </tbody>\n",
       "</table>\n",
       "</div>"
      ],
      "text/plain": [
       "                       0            1  2\n",
       "0  Shoplifting001_x264_0  Shoplifting  0\n",
       "1  Shoplifting001_x264_1  Shoplifting  0\n",
       "2  Shoplifting001_x264_2  Shoplifting  0\n",
       "3  Shoplifting001_x264_3  Shoplifting  0\n",
       "4  Shoplifting001_x264_4  Shoplifting  0"
      ]
     },
     "execution_count": 5,
     "metadata": {},
     "output_type": "execute_result"
    }
   ],
   "source": [
    "LABEL_DIR = os.path.join(root_dir, \"Labels/Shoplifting.csv\")\n",
    "df = pd.read_csv(LABEL_DIR, header=None)\n",
    "df.head()"
   ]
  },
  {
   "cell_type": "code",
   "execution_count": 6,
   "id": "14febcb6",
   "metadata": {
    "execution": {
     "iopub.execute_input": "2025-03-12T23:14:06.069982Z",
     "iopub.status.busy": "2025-03-12T23:14:06.069763Z",
     "iopub.status.idle": "2025-03-12T23:14:06.085847Z",
     "shell.execute_reply": "2025-03-12T23:14:06.085241Z"
    },
    "id": "7fdX_cmxWQjl",
    "outputId": "9092c439-fa06-4acc-8087-5caa4a49bc42",
    "papermill": {
     "duration": 0.02485,
     "end_time": "2025-03-12T23:14:06.087123",
     "exception": false,
     "start_time": "2025-03-12T23:14:06.062273",
     "status": "completed"
    },
    "tags": []
   },
   "outputs": [
    {
     "data": {
      "text/html": [
       "<div>\n",
       "<style scoped>\n",
       "    .dataframe tbody tr th:only-of-type {\n",
       "        vertical-align: middle;\n",
       "    }\n",
       "\n",
       "    .dataframe tbody tr th {\n",
       "        vertical-align: top;\n",
       "    }\n",
       "\n",
       "    .dataframe thead th {\n",
       "        text-align: right;\n",
       "    }\n",
       "</style>\n",
       "<table border=\"1\" class=\"dataframe\">\n",
       "  <thead>\n",
       "    <tr style=\"text-align: right;\">\n",
       "      <th></th>\n",
       "      <th>name</th>\n",
       "      <th>label</th>\n",
       "    </tr>\n",
       "  </thead>\n",
       "  <tbody>\n",
       "    <tr>\n",
       "      <th>0</th>\n",
       "      <td>Shoplifting001_x264_0</td>\n",
       "      <td>0</td>\n",
       "    </tr>\n",
       "    <tr>\n",
       "      <th>1</th>\n",
       "      <td>Shoplifting001_x264_1</td>\n",
       "      <td>0</td>\n",
       "    </tr>\n",
       "    <tr>\n",
       "      <th>2</th>\n",
       "      <td>Shoplifting001_x264_2</td>\n",
       "      <td>0</td>\n",
       "    </tr>\n",
       "    <tr>\n",
       "      <th>3</th>\n",
       "      <td>Shoplifting001_x264_3</td>\n",
       "      <td>0</td>\n",
       "    </tr>\n",
       "    <tr>\n",
       "      <th>4</th>\n",
       "      <td>Shoplifting001_x264_4</td>\n",
       "      <td>0</td>\n",
       "    </tr>\n",
       "  </tbody>\n",
       "</table>\n",
       "</div>"
      ],
      "text/plain": [
       "                    name  label\n",
       "0  Shoplifting001_x264_0      0\n",
       "1  Shoplifting001_x264_1      0\n",
       "2  Shoplifting001_x264_2      0\n",
       "3  Shoplifting001_x264_3      0\n",
       "4  Shoplifting001_x264_4      0"
      ]
     },
     "metadata": {},
     "output_type": "display_data"
    },
    {
     "data": {
      "text/plain": [
       "(896, 2)"
      ]
     },
     "execution_count": 6,
     "metadata": {},
     "output_type": "execute_result"
    }
   ],
   "source": [
    "df = df.drop(columns=[1])\n",
    "df = df.rename(columns={0: 'name'})\n",
    "df = df.rename(columns={2: 'label'})\n",
    "\n",
    "display(df.head())\n",
    "df.shape"
   ]
  },
  {
   "cell_type": "code",
   "execution_count": 7,
   "id": "0899adff",
   "metadata": {
    "execution": {
     "iopub.execute_input": "2025-03-12T23:14:06.102287Z",
     "iopub.status.busy": "2025-03-12T23:14:06.102082Z",
     "iopub.status.idle": "2025-03-12T23:14:06.114088Z",
     "shell.execute_reply": "2025-03-12T23:14:06.113459Z"
    },
    "id": "aCws9y8HWQjl",
    "outputId": "3187e03f-46ae-4d11-bbe9-f8f2a42169d8",
    "papermill": {
     "duration": 0.020824,
     "end_time": "2025-03-12T23:14:06.115318",
     "exception": false,
     "start_time": "2025-03-12T23:14:06.094494",
     "status": "completed"
    },
    "tags": []
   },
   "outputs": [
    {
     "data": {
      "text/plain": [
       "label\n",
       "0    741\n",
       "1    155\n",
       "Name: count, dtype: int64"
      ]
     },
     "execution_count": 7,
     "metadata": {},
     "output_type": "execute_result"
    }
   ],
   "source": [
    "# normal (0) & abnormal (1)\n",
    "df['label'].value_counts()"
   ]
  },
  {
   "cell_type": "markdown",
   "id": "0c871124",
   "metadata": {
    "id": "2F45OXkbWQjm",
    "papermill": {
     "duration": 0.007109,
     "end_time": "2025-03-12T23:14:06.129882",
     "exception": false,
     "start_time": "2025-03-12T23:14:06.122773",
     "status": "completed"
    },
    "tags": []
   },
   "source": [
    "## Set constant parameters"
   ]
  },
  {
   "cell_type": "code",
   "execution_count": 8,
   "id": "492c2c04",
   "metadata": {
    "execution": {
     "iopub.execute_input": "2025-03-12T23:14:06.145123Z",
     "iopub.status.busy": "2025-03-12T23:14:06.144896Z",
     "iopub.status.idle": "2025-03-12T23:14:06.901527Z",
     "shell.execute_reply": "2025-03-12T23:14:06.900437Z"
    },
    "id": "Q96CGuNWWQjm",
    "outputId": "470cf5ba-6129-49ec-a35e-c4ac0502dd7e",
    "papermill": {
     "duration": 0.765873,
     "end_time": "2025-03-12T23:14:06.903005",
     "exception": false,
     "start_time": "2025-03-12T23:14:06.137132",
     "status": "completed"
    },
    "tags": []
   },
   "outputs": [
    {
     "name": "stdout",
     "output_type": "stream",
     "text": [
      "Downloading https://github.com/ultralytics/assets/releases/download/v8.3.0/yolov8n.pt to 'yolov8n.pt'...\n"
     ]
    },
    {
     "name": "stderr",
     "output_type": "stream",
     "text": [
      "100%|██████████| 6.25M/6.25M [00:00<00:00, 120MB/s]\n"
     ]
    }
   ],
   "source": [
    "DATA_DIR = os.path.join(root_dir, \"Shoplifting\")\n",
    "SEQUENCE_LENGTH = 20 # frames number of each video (step is 4 frames)\n",
    "IMAGE_HEIGHT, IMAGE_WIDTH = 64, 64\n",
    "\n",
    "yolo_model = YOLO(\"yolov8n.pt\")"
   ]
  },
  {
   "cell_type": "markdown",
   "id": "013bf5ef",
   "metadata": {
    "id": "J23ixI9GWQjm",
    "papermill": {
     "duration": 0.007364,
     "end_time": "2025-03-12T23:14:06.918974",
     "exception": false,
     "start_time": "2025-03-12T23:14:06.911610",
     "status": "completed"
    },
    "tags": []
   },
   "source": [
    "## 3. Function to extract, resize and normalize Frames"
   ]
  },
  {
   "cell_type": "code",
   "execution_count": 9,
   "id": "02a85ae2",
   "metadata": {
    "execution": {
     "iopub.execute_input": "2025-03-12T23:14:06.935038Z",
     "iopub.status.busy": "2025-03-12T23:14:06.934788Z",
     "iopub.status.idle": "2025-03-12T23:14:06.943255Z",
     "shell.execute_reply": "2025-03-12T23:14:06.942612Z"
    },
    "id": "d5RY91_zWQjm",
    "papermill": {
     "duration": 0.017882,
     "end_time": "2025-03-12T23:14:06.944558",
     "exception": false,
     "start_time": "2025-03-12T23:14:06.926676",
     "status": "completed"
    },
    "tags": []
   },
   "outputs": [],
   "source": [
    "def extract_frames(video_path):\n",
    "    \"\"\"\n",
    "    Args:\n",
    "    - video_path: the path of video need to be extracted\n",
    "    Returns:\n",
    "    - frames_list: resized and normalized frames of the input video. Each person will stored in a list frames\n",
    "    \"\"\"\n",
    "    global IMAGE_HEIGHT, IMAGE_WIDTH, SEQUENCE_LENGTH, yolo_model\n",
    "\n",
    "    person_tracks = {}\n",
    "\n",
    "    video_reader = cv2.VideoCapture(video_path)\n",
    "    video_frames_count = int(video_reader.get(cv2.CAP_PROP_FRAME_COUNT))\n",
    "\n",
    "    # Tracking\n",
    "    tracker = DeepSort()\n",
    "\n",
    "    while True:\n",
    "        success, frame = video_reader.read()\n",
    "        if not success:\n",
    "            break\n",
    "\n",
    "        results = yolo_model(frame, verbose=False)\n",
    "        detections = []\n",
    "\n",
    "        for result in results:\n",
    "            boxes = result.boxes\n",
    "            for box in boxes:\n",
    "                x1, y1, x2, y2 = map(int, box.xyxy[0])\n",
    "                conf = round(box.conf[0].item(), 2)\n",
    "                cls = int(box.cls[0])\n",
    "\n",
    "                if cls == 0 and conf > 0.5:  # Detecting 'person'\n",
    "                    current_arr = ([x1, y1, x2-x1, y2-y1], conf, cls)\n",
    "                    detections.append(current_arr)\n",
    "\n",
    "        resultsTracker = tracker.update_tracks(detections, frame=frame)\n",
    "        for result in resultsTracker:\n",
    "            id = result.track_id\n",
    "            x1, y1, x2, y2 = map(int, result.to_ltrb())\n",
    "            w, h = x2-x1, y2-y1\n",
    "\n",
    "            person_crop = frame[y1:y2, x1:x2]\n",
    "            if person_crop.size > 0:\n",
    "                resized_frame = cv2.resize(person_crop, (IMAGE_WIDTH, IMAGE_HEIGHT))\n",
    "                normalized_frame = resized_frame / 255.0  # Normalize\n",
    "\n",
    "                if id not in person_tracks:\n",
    "                    person_tracks[id] = []\n",
    "\n",
    "                person_tracks[id].append(normalized_frame)\n",
    "\n",
    "    video_reader.release()\n",
    "\n",
    "    # Ensure exactly SEQUENCE_LENGTH frames per person\n",
    "    keys_to_remove = []  # Store keys for removal\n",
    "    for key in list(person_tracks.keys()):\n",
    "        frames = person_tracks[key]\n",
    "        num_frames = len(frames)\n",
    "\n",
    "        if num_frames >= SEQUENCE_LENGTH:\n",
    "            # Select SEQUENCE_LENGTH frames without reordering\n",
    "            step = num_frames / SEQUENCE_LENGTH\n",
    "            selected_indices = [int(i * step) for i in range(SEQUENCE_LENGTH)]\n",
    "            person_tracks[key] = [frames[i] for i in selected_indices]\n",
    "            # print(f\"Person {key}: {len(person_tracks[key])} frames\")\n",
    "        else:\n",
    "            keys_to_remove.append(key)\n",
    "\n",
    "    for key in keys_to_remove:\n",
    "        del person_tracks[key]\n",
    "\n",
    "    # if len(list(person_tracks.keys())) == 0: return list(person_tracks.values())\n",
    "\n",
    "    # # Display to check\n",
    "    # index = list(person_tracks.keys())[0]\n",
    "    # person_crops = person_tracks[index] # index is corresponded to a person\n",
    "    # num_images = len(person_crops) # 4 imgs\n",
    "    # fig, axes = plt.subplots(1, num_images, figsize=(15, 5))\n",
    "\n",
    "    # if num_images == 1:\n",
    "    #     axes = [axes]\n",
    "\n",
    "    # for i, (ax, crop) in enumerate(zip(axes, person_crops[:num_images])):\n",
    "    #     ax.imshow(crop)  # BGR channel\n",
    "    #     ax.axis('off')\n",
    "\n",
    "    # plt.show()\n",
    "\n",
    "    return list(person_tracks.values())  # Convert to list of tracks\n",
    "\n",
    "# frames_list = extract_frames(os.path.join(root_dir, \"Shoplifting/Shoplifting006_x264.mp4/Shoplifting006_x264_0.mp4\"))"
   ]
  },
  {
   "cell_type": "markdown",
   "id": "789839af",
   "metadata": {
    "id": "5YZDg4e3WQjm",
    "papermill": {
     "duration": 0.00722,
     "end_time": "2025-03-12T23:14:06.959339",
     "exception": false,
     "start_time": "2025-03-12T23:14:06.952119",
     "status": "completed"
    },
    "tags": []
   },
   "source": [
    "## Function to create dataset"
   ]
  },
  {
   "cell_type": "code",
   "execution_count": 10,
   "id": "3007e460",
   "metadata": {
    "execution": {
     "iopub.execute_input": "2025-03-12T23:14:06.975078Z",
     "iopub.status.busy": "2025-03-12T23:14:06.974831Z",
     "iopub.status.idle": "2025-03-12T23:14:06.979340Z",
     "shell.execute_reply": "2025-03-12T23:14:06.978739Z"
    },
    "id": "eltHKA8cWQjm",
    "papermill": {
     "duration": 0.013408,
     "end_time": "2025-03-12T23:14:06.980485",
     "exception": false,
     "start_time": "2025-03-12T23:14:06.967077",
     "status": "completed"
    },
    "tags": []
   },
   "outputs": [],
   "source": [
    "def create_dataset(DATA_DIR):\n",
    "    \"\"\"\n",
    "    Returns:\n",
    "    - features: 2D list, includes extracted frames in each video\n",
    "    - labels: 1D list, includes corresponding label of each video\n",
    "    \"\"\"\n",
    "    global df, SEQUENCE_LENGTH\n",
    "\n",
    "    features = []\n",
    "    labels = []\n",
    "\n",
    "    for _, row in df.iterrows():\n",
    "        video_name = row[\"name\"]\n",
    "        label = row[\"label\"]\n",
    "        video_folder = video_name.rsplit(\"_\", 1)[0] + \".mp4\"\n",
    "        video_path = os.path.join(DATA_DIR, video_folder, video_name + \".mp4\")\n",
    "\n",
    "        extracted_frames = extract_frames(video_path)\n",
    "        for frame in extracted_frames:\n",
    "            # print(len(frame))\n",
    "            if len(frame) == SEQUENCE_LENGTH:\n",
    "                features.append(frame)\n",
    "                labels.append(label)\n",
    "\n",
    "    features = np.asarray(features)\n",
    "    labels = np.array(labels)\n",
    "\n",
    "    return features, labels"
   ]
  },
  {
   "cell_type": "code",
   "execution_count": 11,
   "id": "2cc01df1",
   "metadata": {
    "execution": {
     "iopub.execute_input": "2025-03-12T23:14:06.995924Z",
     "iopub.status.busy": "2025-03-12T23:14:06.995722Z",
     "iopub.status.idle": "2025-03-12T23:34:09.804628Z",
     "shell.execute_reply": "2025-03-12T23:34:09.803763Z"
    },
    "id": "6emFRe6XWQjn",
    "papermill": {
     "duration": 1202.82743,
     "end_time": "2025-03-12T23:34:09.815357",
     "exception": false,
     "start_time": "2025-03-12T23:14:06.987927",
     "status": "completed"
    },
    "tags": []
   },
   "outputs": [
    {
     "data": {
      "text/plain": [
       "((1509, 20, 64, 64, 3), (1509, 2))"
      ]
     },
     "execution_count": 11,
     "metadata": {},
     "output_type": "execute_result"
    }
   ],
   "source": [
    "features, labels = create_dataset(DATA_DIR)\n",
    "one_hot_labels = to_categorical(labels)\n",
    "\n",
    "features.shape, one_hot_labels.shape"
   ]
  },
  {
   "cell_type": "markdown",
   "id": "2509aef6",
   "metadata": {
    "id": "rjFxKkf5WQjn",
    "papermill": {
     "duration": 0.007801,
     "end_time": "2025-03-12T23:34:09.831196",
     "exception": false,
     "start_time": "2025-03-12T23:34:09.823395",
     "status": "completed"
    },
    "tags": []
   },
   "source": [
    "## Split dataset"
   ]
  },
  {
   "cell_type": "code",
   "execution_count": 12,
   "id": "744a2c0e",
   "metadata": {
    "execution": {
     "iopub.execute_input": "2025-03-12T23:34:09.847415Z",
     "iopub.status.busy": "2025-03-12T23:34:09.847107Z",
     "iopub.status.idle": "2025-03-12T23:34:10.701602Z",
     "shell.execute_reply": "2025-03-12T23:34:10.700835Z"
    },
    "id": "MTjE7ddpWQjn",
    "papermill": {
     "duration": 0.864344,
     "end_time": "2025-03-12T23:34:10.703091",
     "exception": false,
     "start_time": "2025-03-12T23:34:09.838747",
     "status": "completed"
    },
    "tags": []
   },
   "outputs": [],
   "source": [
    "# Split into 80% for training and 20% for testing\n",
    "features_train, features_test, labels_train, labels_test = train_test_split(\n",
    "    features, one_hot_labels, test_size=0.2, shuffle=True, random_state=seed_constant\n",
    ")"
   ]
  },
  {
   "cell_type": "markdown",
   "id": "4d28cf23",
   "metadata": {
    "id": "_5Scy67fWQjn",
    "papermill": {
     "duration": 0.007679,
     "end_time": "2025-03-12T23:34:10.718964",
     "exception": false,
     "start_time": "2025-03-12T23:34:10.711285",
     "status": "completed"
    },
    "tags": []
   },
   "source": [
    "## Create Model"
   ]
  },
  {
   "cell_type": "code",
   "execution_count": 13,
   "id": "4657d41a",
   "metadata": {
    "execution": {
     "iopub.execute_input": "2025-03-12T23:34:10.735185Z",
     "iopub.status.busy": "2025-03-12T23:34:10.734943Z",
     "iopub.status.idle": "2025-03-12T23:34:10.741342Z",
     "shell.execute_reply": "2025-03-12T23:34:10.740703Z"
    },
    "papermill": {
     "duration": 0.015792,
     "end_time": "2025-03-12T23:34:10.742536",
     "exception": false,
     "start_time": "2025-03-12T23:34:10.726744",
     "status": "completed"
    },
    "tags": []
   },
   "outputs": [],
   "source": [
    "input_shape = features_train[0].shape # (SEQUENCE_LENGTH, IMAGE_HEIGHT, IMAGE_WIDTH, 3)\n",
    "\n",
    "def create_LRCN_model(label_nums=2):\n",
    "    global input_shape\n",
    "\n",
    "    model = Sequential()\n",
    "\n",
    "    model.add(Input(shape=input_shape))\n",
    "\n",
    "    model.add(TimeDistributed(Conv2D(16, (3, 3), padding='same', activation='relu', kernel_regularizer=l2(0.01))))\n",
    "    model.add(TimeDistributed(MaxPooling2D((4, 4))))\n",
    "    model.add(TimeDistributed(Dropout(0.3)))\n",
    "    model.add(TimeDistributed(BatchNormalization()))\n",
    "\n",
    "    model.add(TimeDistributed(Conv2D(32, (3, 3), padding='same', activation='relu', kernel_regularizer=l2(0.01))))\n",
    "    model.add(TimeDistributed(MaxPooling2D((4, 4))))\n",
    "    model.add(TimeDistributed(Dropout(0.3)))\n",
    "    model.add(TimeDistributed(BatchNormalization()))\n",
    "\n",
    "    model.add(TimeDistributed(Conv2D(64, (3, 3), padding='same', activation='relu', kernel_regularizer=l2(0.01))))\n",
    "    model.add(TimeDistributed(MaxPooling2D((2, 2))))\n",
    "    model.add(TimeDistributed(Dropout(0.3)))\n",
    "    model.add(TimeDistributed(BatchNormalization()))\n",
    "\n",
    "    # Flatten and LSTM layers\n",
    "    model.add(TimeDistributed(Flatten()))\n",
    "    model.add(LSTM(64, return_sequences=False, kernel_regularizer=l2(0.01)))\n",
    "\n",
    "    # Fully Connected Output Layer\n",
    "    model.add(Dense(label_nums, activation='softmax'))\n",
    "\n",
    "    model.summary()\n",
    "\n",
    "    return model"
   ]
  },
  {
   "cell_type": "code",
   "execution_count": 14,
   "id": "e182200b",
   "metadata": {
    "execution": {
     "iopub.execute_input": "2025-03-12T23:34:10.758552Z",
     "iopub.status.busy": "2025-03-12T23:34:10.758329Z",
     "iopub.status.idle": "2025-03-12T23:34:13.270634Z",
     "shell.execute_reply": "2025-03-12T23:34:13.269946Z"
    },
    "id": "SkKG12g2WQjn",
    "papermill": {
     "duration": 2.521765,
     "end_time": "2025-03-12T23:34:13.271897",
     "exception": false,
     "start_time": "2025-03-12T23:34:10.750132",
     "status": "completed"
    },
    "tags": []
   },
   "outputs": [
    {
     "data": {
      "text/html": [
       "<pre style=\"white-space:pre;overflow-x:auto;line-height:normal;font-family:Menlo,'DejaVu Sans Mono',consolas,'Courier New',monospace\"><span style=\"font-weight: bold\">Model: \"sequential\"</span>\n",
       "</pre>\n"
      ],
      "text/plain": [
       "\u001b[1mModel: \"sequential\"\u001b[0m\n"
      ]
     },
     "metadata": {},
     "output_type": "display_data"
    },
    {
     "data": {
      "text/html": [
       "<pre style=\"white-space:pre;overflow-x:auto;line-height:normal;font-family:Menlo,'DejaVu Sans Mono',consolas,'Courier New',monospace\">┏━━━━━━━━━━━━━━━━━━━━━━━━━━━━━━━━━━━━━━┳━━━━━━━━━━━━━━━━━━━━━━━━━━━━━┳━━━━━━━━━━━━━━━━━┓\n",
       "┃<span style=\"font-weight: bold\"> Layer (type)                         </span>┃<span style=\"font-weight: bold\"> Output Shape                </span>┃<span style=\"font-weight: bold\">         Param # </span>┃\n",
       "┡━━━━━━━━━━━━━━━━━━━━━━━━━━━━━━━━━━━━━━╇━━━━━━━━━━━━━━━━━━━━━━━━━━━━━╇━━━━━━━━━━━━━━━━━┩\n",
       "│ time_distributed (<span style=\"color: #0087ff; text-decoration-color: #0087ff\">TimeDistributed</span>)   │ (<span style=\"color: #00d7ff; text-decoration-color: #00d7ff\">None</span>, <span style=\"color: #00af00; text-decoration-color: #00af00\">20</span>, <span style=\"color: #00af00; text-decoration-color: #00af00\">64</span>, <span style=\"color: #00af00; text-decoration-color: #00af00\">64</span>, <span style=\"color: #00af00; text-decoration-color: #00af00\">16</span>)      │             <span style=\"color: #00af00; text-decoration-color: #00af00\">448</span> │\n",
       "├──────────────────────────────────────┼─────────────────────────────┼─────────────────┤\n",
       "│ time_distributed_1 (<span style=\"color: #0087ff; text-decoration-color: #0087ff\">TimeDistributed</span>) │ (<span style=\"color: #00d7ff; text-decoration-color: #00d7ff\">None</span>, <span style=\"color: #00af00; text-decoration-color: #00af00\">20</span>, <span style=\"color: #00af00; text-decoration-color: #00af00\">16</span>, <span style=\"color: #00af00; text-decoration-color: #00af00\">16</span>, <span style=\"color: #00af00; text-decoration-color: #00af00\">16</span>)      │               <span style=\"color: #00af00; text-decoration-color: #00af00\">0</span> │\n",
       "├──────────────────────────────────────┼─────────────────────────────┼─────────────────┤\n",
       "│ time_distributed_2 (<span style=\"color: #0087ff; text-decoration-color: #0087ff\">TimeDistributed</span>) │ (<span style=\"color: #00d7ff; text-decoration-color: #00d7ff\">None</span>, <span style=\"color: #00af00; text-decoration-color: #00af00\">20</span>, <span style=\"color: #00af00; text-decoration-color: #00af00\">16</span>, <span style=\"color: #00af00; text-decoration-color: #00af00\">16</span>, <span style=\"color: #00af00; text-decoration-color: #00af00\">16</span>)      │               <span style=\"color: #00af00; text-decoration-color: #00af00\">0</span> │\n",
       "├──────────────────────────────────────┼─────────────────────────────┼─────────────────┤\n",
       "│ time_distributed_3 (<span style=\"color: #0087ff; text-decoration-color: #0087ff\">TimeDistributed</span>) │ (<span style=\"color: #00d7ff; text-decoration-color: #00d7ff\">None</span>, <span style=\"color: #00af00; text-decoration-color: #00af00\">20</span>, <span style=\"color: #00af00; text-decoration-color: #00af00\">16</span>, <span style=\"color: #00af00; text-decoration-color: #00af00\">16</span>, <span style=\"color: #00af00; text-decoration-color: #00af00\">16</span>)      │              <span style=\"color: #00af00; text-decoration-color: #00af00\">64</span> │\n",
       "├──────────────────────────────────────┼─────────────────────────────┼─────────────────┤\n",
       "│ time_distributed_4 (<span style=\"color: #0087ff; text-decoration-color: #0087ff\">TimeDistributed</span>) │ (<span style=\"color: #00d7ff; text-decoration-color: #00d7ff\">None</span>, <span style=\"color: #00af00; text-decoration-color: #00af00\">20</span>, <span style=\"color: #00af00; text-decoration-color: #00af00\">16</span>, <span style=\"color: #00af00; text-decoration-color: #00af00\">16</span>, <span style=\"color: #00af00; text-decoration-color: #00af00\">32</span>)      │           <span style=\"color: #00af00; text-decoration-color: #00af00\">4,640</span> │\n",
       "├──────────────────────────────────────┼─────────────────────────────┼─────────────────┤\n",
       "│ time_distributed_5 (<span style=\"color: #0087ff; text-decoration-color: #0087ff\">TimeDistributed</span>) │ (<span style=\"color: #00d7ff; text-decoration-color: #00d7ff\">None</span>, <span style=\"color: #00af00; text-decoration-color: #00af00\">20</span>, <span style=\"color: #00af00; text-decoration-color: #00af00\">4</span>, <span style=\"color: #00af00; text-decoration-color: #00af00\">4</span>, <span style=\"color: #00af00; text-decoration-color: #00af00\">32</span>)        │               <span style=\"color: #00af00; text-decoration-color: #00af00\">0</span> │\n",
       "├──────────────────────────────────────┼─────────────────────────────┼─────────────────┤\n",
       "│ time_distributed_6 (<span style=\"color: #0087ff; text-decoration-color: #0087ff\">TimeDistributed</span>) │ (<span style=\"color: #00d7ff; text-decoration-color: #00d7ff\">None</span>, <span style=\"color: #00af00; text-decoration-color: #00af00\">20</span>, <span style=\"color: #00af00; text-decoration-color: #00af00\">4</span>, <span style=\"color: #00af00; text-decoration-color: #00af00\">4</span>, <span style=\"color: #00af00; text-decoration-color: #00af00\">32</span>)        │               <span style=\"color: #00af00; text-decoration-color: #00af00\">0</span> │\n",
       "├──────────────────────────────────────┼─────────────────────────────┼─────────────────┤\n",
       "│ time_distributed_7 (<span style=\"color: #0087ff; text-decoration-color: #0087ff\">TimeDistributed</span>) │ (<span style=\"color: #00d7ff; text-decoration-color: #00d7ff\">None</span>, <span style=\"color: #00af00; text-decoration-color: #00af00\">20</span>, <span style=\"color: #00af00; text-decoration-color: #00af00\">4</span>, <span style=\"color: #00af00; text-decoration-color: #00af00\">4</span>, <span style=\"color: #00af00; text-decoration-color: #00af00\">32</span>)        │             <span style=\"color: #00af00; text-decoration-color: #00af00\">128</span> │\n",
       "├──────────────────────────────────────┼─────────────────────────────┼─────────────────┤\n",
       "│ time_distributed_8 (<span style=\"color: #0087ff; text-decoration-color: #0087ff\">TimeDistributed</span>) │ (<span style=\"color: #00d7ff; text-decoration-color: #00d7ff\">None</span>, <span style=\"color: #00af00; text-decoration-color: #00af00\">20</span>, <span style=\"color: #00af00; text-decoration-color: #00af00\">4</span>, <span style=\"color: #00af00; text-decoration-color: #00af00\">4</span>, <span style=\"color: #00af00; text-decoration-color: #00af00\">64</span>)        │          <span style=\"color: #00af00; text-decoration-color: #00af00\">18,496</span> │\n",
       "├──────────────────────────────────────┼─────────────────────────────┼─────────────────┤\n",
       "│ time_distributed_9 (<span style=\"color: #0087ff; text-decoration-color: #0087ff\">TimeDistributed</span>) │ (<span style=\"color: #00d7ff; text-decoration-color: #00d7ff\">None</span>, <span style=\"color: #00af00; text-decoration-color: #00af00\">20</span>, <span style=\"color: #00af00; text-decoration-color: #00af00\">2</span>, <span style=\"color: #00af00; text-decoration-color: #00af00\">2</span>, <span style=\"color: #00af00; text-decoration-color: #00af00\">64</span>)        │               <span style=\"color: #00af00; text-decoration-color: #00af00\">0</span> │\n",
       "├──────────────────────────────────────┼─────────────────────────────┼─────────────────┤\n",
       "│ time_distributed_10                  │ (<span style=\"color: #00d7ff; text-decoration-color: #00d7ff\">None</span>, <span style=\"color: #00af00; text-decoration-color: #00af00\">20</span>, <span style=\"color: #00af00; text-decoration-color: #00af00\">2</span>, <span style=\"color: #00af00; text-decoration-color: #00af00\">2</span>, <span style=\"color: #00af00; text-decoration-color: #00af00\">64</span>)        │               <span style=\"color: #00af00; text-decoration-color: #00af00\">0</span> │\n",
       "│ (<span style=\"color: #0087ff; text-decoration-color: #0087ff\">TimeDistributed</span>)                    │                             │                 │\n",
       "├──────────────────────────────────────┼─────────────────────────────┼─────────────────┤\n",
       "│ time_distributed_11                  │ (<span style=\"color: #00d7ff; text-decoration-color: #00d7ff\">None</span>, <span style=\"color: #00af00; text-decoration-color: #00af00\">20</span>, <span style=\"color: #00af00; text-decoration-color: #00af00\">2</span>, <span style=\"color: #00af00; text-decoration-color: #00af00\">2</span>, <span style=\"color: #00af00; text-decoration-color: #00af00\">64</span>)        │             <span style=\"color: #00af00; text-decoration-color: #00af00\">256</span> │\n",
       "│ (<span style=\"color: #0087ff; text-decoration-color: #0087ff\">TimeDistributed</span>)                    │                             │                 │\n",
       "├──────────────────────────────────────┼─────────────────────────────┼─────────────────┤\n",
       "│ time_distributed_12                  │ (<span style=\"color: #00d7ff; text-decoration-color: #00d7ff\">None</span>, <span style=\"color: #00af00; text-decoration-color: #00af00\">20</span>, <span style=\"color: #00af00; text-decoration-color: #00af00\">256</span>)             │               <span style=\"color: #00af00; text-decoration-color: #00af00\">0</span> │\n",
       "│ (<span style=\"color: #0087ff; text-decoration-color: #0087ff\">TimeDistributed</span>)                    │                             │                 │\n",
       "├──────────────────────────────────────┼─────────────────────────────┼─────────────────┤\n",
       "│ lstm (<span style=\"color: #0087ff; text-decoration-color: #0087ff\">LSTM</span>)                          │ (<span style=\"color: #00d7ff; text-decoration-color: #00d7ff\">None</span>, <span style=\"color: #00af00; text-decoration-color: #00af00\">64</span>)                  │          <span style=\"color: #00af00; text-decoration-color: #00af00\">82,176</span> │\n",
       "├──────────────────────────────────────┼─────────────────────────────┼─────────────────┤\n",
       "│ dense (<span style=\"color: #0087ff; text-decoration-color: #0087ff\">Dense</span>)                        │ (<span style=\"color: #00d7ff; text-decoration-color: #00d7ff\">None</span>, <span style=\"color: #00af00; text-decoration-color: #00af00\">2</span>)                   │             <span style=\"color: #00af00; text-decoration-color: #00af00\">130</span> │\n",
       "└──────────────────────────────────────┴─────────────────────────────┴─────────────────┘\n",
       "</pre>\n"
      ],
      "text/plain": [
       "┏━━━━━━━━━━━━━━━━━━━━━━━━━━━━━━━━━━━━━━┳━━━━━━━━━━━━━━━━━━━━━━━━━━━━━┳━━━━━━━━━━━━━━━━━┓\n",
       "┃\u001b[1m \u001b[0m\u001b[1mLayer (type)                        \u001b[0m\u001b[1m \u001b[0m┃\u001b[1m \u001b[0m\u001b[1mOutput Shape               \u001b[0m\u001b[1m \u001b[0m┃\u001b[1m \u001b[0m\u001b[1m        Param #\u001b[0m\u001b[1m \u001b[0m┃\n",
       "┡━━━━━━━━━━━━━━━━━━━━━━━━━━━━━━━━━━━━━━╇━━━━━━━━━━━━━━━━━━━━━━━━━━━━━╇━━━━━━━━━━━━━━━━━┩\n",
       "│ time_distributed (\u001b[38;5;33mTimeDistributed\u001b[0m)   │ (\u001b[38;5;45mNone\u001b[0m, \u001b[38;5;34m20\u001b[0m, \u001b[38;5;34m64\u001b[0m, \u001b[38;5;34m64\u001b[0m, \u001b[38;5;34m16\u001b[0m)      │             \u001b[38;5;34m448\u001b[0m │\n",
       "├──────────────────────────────────────┼─────────────────────────────┼─────────────────┤\n",
       "│ time_distributed_1 (\u001b[38;5;33mTimeDistributed\u001b[0m) │ (\u001b[38;5;45mNone\u001b[0m, \u001b[38;5;34m20\u001b[0m, \u001b[38;5;34m16\u001b[0m, \u001b[38;5;34m16\u001b[0m, \u001b[38;5;34m16\u001b[0m)      │               \u001b[38;5;34m0\u001b[0m │\n",
       "├──────────────────────────────────────┼─────────────────────────────┼─────────────────┤\n",
       "│ time_distributed_2 (\u001b[38;5;33mTimeDistributed\u001b[0m) │ (\u001b[38;5;45mNone\u001b[0m, \u001b[38;5;34m20\u001b[0m, \u001b[38;5;34m16\u001b[0m, \u001b[38;5;34m16\u001b[0m, \u001b[38;5;34m16\u001b[0m)      │               \u001b[38;5;34m0\u001b[0m │\n",
       "├──────────────────────────────────────┼─────────────────────────────┼─────────────────┤\n",
       "│ time_distributed_3 (\u001b[38;5;33mTimeDistributed\u001b[0m) │ (\u001b[38;5;45mNone\u001b[0m, \u001b[38;5;34m20\u001b[0m, \u001b[38;5;34m16\u001b[0m, \u001b[38;5;34m16\u001b[0m, \u001b[38;5;34m16\u001b[0m)      │              \u001b[38;5;34m64\u001b[0m │\n",
       "├──────────────────────────────────────┼─────────────────────────────┼─────────────────┤\n",
       "│ time_distributed_4 (\u001b[38;5;33mTimeDistributed\u001b[0m) │ (\u001b[38;5;45mNone\u001b[0m, \u001b[38;5;34m20\u001b[0m, \u001b[38;5;34m16\u001b[0m, \u001b[38;5;34m16\u001b[0m, \u001b[38;5;34m32\u001b[0m)      │           \u001b[38;5;34m4,640\u001b[0m │\n",
       "├──────────────────────────────────────┼─────────────────────────────┼─────────────────┤\n",
       "│ time_distributed_5 (\u001b[38;5;33mTimeDistributed\u001b[0m) │ (\u001b[38;5;45mNone\u001b[0m, \u001b[38;5;34m20\u001b[0m, \u001b[38;5;34m4\u001b[0m, \u001b[38;5;34m4\u001b[0m, \u001b[38;5;34m32\u001b[0m)        │               \u001b[38;5;34m0\u001b[0m │\n",
       "├──────────────────────────────────────┼─────────────────────────────┼─────────────────┤\n",
       "│ time_distributed_6 (\u001b[38;5;33mTimeDistributed\u001b[0m) │ (\u001b[38;5;45mNone\u001b[0m, \u001b[38;5;34m20\u001b[0m, \u001b[38;5;34m4\u001b[0m, \u001b[38;5;34m4\u001b[0m, \u001b[38;5;34m32\u001b[0m)        │               \u001b[38;5;34m0\u001b[0m │\n",
       "├──────────────────────────────────────┼─────────────────────────────┼─────────────────┤\n",
       "│ time_distributed_7 (\u001b[38;5;33mTimeDistributed\u001b[0m) │ (\u001b[38;5;45mNone\u001b[0m, \u001b[38;5;34m20\u001b[0m, \u001b[38;5;34m4\u001b[0m, \u001b[38;5;34m4\u001b[0m, \u001b[38;5;34m32\u001b[0m)        │             \u001b[38;5;34m128\u001b[0m │\n",
       "├──────────────────────────────────────┼─────────────────────────────┼─────────────────┤\n",
       "│ time_distributed_8 (\u001b[38;5;33mTimeDistributed\u001b[0m) │ (\u001b[38;5;45mNone\u001b[0m, \u001b[38;5;34m20\u001b[0m, \u001b[38;5;34m4\u001b[0m, \u001b[38;5;34m4\u001b[0m, \u001b[38;5;34m64\u001b[0m)        │          \u001b[38;5;34m18,496\u001b[0m │\n",
       "├──────────────────────────────────────┼─────────────────────────────┼─────────────────┤\n",
       "│ time_distributed_9 (\u001b[38;5;33mTimeDistributed\u001b[0m) │ (\u001b[38;5;45mNone\u001b[0m, \u001b[38;5;34m20\u001b[0m, \u001b[38;5;34m2\u001b[0m, \u001b[38;5;34m2\u001b[0m, \u001b[38;5;34m64\u001b[0m)        │               \u001b[38;5;34m0\u001b[0m │\n",
       "├──────────────────────────────────────┼─────────────────────────────┼─────────────────┤\n",
       "│ time_distributed_10                  │ (\u001b[38;5;45mNone\u001b[0m, \u001b[38;5;34m20\u001b[0m, \u001b[38;5;34m2\u001b[0m, \u001b[38;5;34m2\u001b[0m, \u001b[38;5;34m64\u001b[0m)        │               \u001b[38;5;34m0\u001b[0m │\n",
       "│ (\u001b[38;5;33mTimeDistributed\u001b[0m)                    │                             │                 │\n",
       "├──────────────────────────────────────┼─────────────────────────────┼─────────────────┤\n",
       "│ time_distributed_11                  │ (\u001b[38;5;45mNone\u001b[0m, \u001b[38;5;34m20\u001b[0m, \u001b[38;5;34m2\u001b[0m, \u001b[38;5;34m2\u001b[0m, \u001b[38;5;34m64\u001b[0m)        │             \u001b[38;5;34m256\u001b[0m │\n",
       "│ (\u001b[38;5;33mTimeDistributed\u001b[0m)                    │                             │                 │\n",
       "├──────────────────────────────────────┼─────────────────────────────┼─────────────────┤\n",
       "│ time_distributed_12                  │ (\u001b[38;5;45mNone\u001b[0m, \u001b[38;5;34m20\u001b[0m, \u001b[38;5;34m256\u001b[0m)             │               \u001b[38;5;34m0\u001b[0m │\n",
       "│ (\u001b[38;5;33mTimeDistributed\u001b[0m)                    │                             │                 │\n",
       "├──────────────────────────────────────┼─────────────────────────────┼─────────────────┤\n",
       "│ lstm (\u001b[38;5;33mLSTM\u001b[0m)                          │ (\u001b[38;5;45mNone\u001b[0m, \u001b[38;5;34m64\u001b[0m)                  │          \u001b[38;5;34m82,176\u001b[0m │\n",
       "├──────────────────────────────────────┼─────────────────────────────┼─────────────────┤\n",
       "│ dense (\u001b[38;5;33mDense\u001b[0m)                        │ (\u001b[38;5;45mNone\u001b[0m, \u001b[38;5;34m2\u001b[0m)                   │             \u001b[38;5;34m130\u001b[0m │\n",
       "└──────────────────────────────────────┴─────────────────────────────┴─────────────────┘\n"
      ]
     },
     "metadata": {},
     "output_type": "display_data"
    },
    {
     "data": {
      "text/html": [
       "<pre style=\"white-space:pre;overflow-x:auto;line-height:normal;font-family:Menlo,'DejaVu Sans Mono',consolas,'Courier New',monospace\"><span style=\"font-weight: bold\"> Total params: </span><span style=\"color: #00af00; text-decoration-color: #00af00\">106,338</span> (415.38 KB)\n",
       "</pre>\n"
      ],
      "text/plain": [
       "\u001b[1m Total params: \u001b[0m\u001b[38;5;34m106,338\u001b[0m (415.38 KB)\n"
      ]
     },
     "metadata": {},
     "output_type": "display_data"
    },
    {
     "data": {
      "text/html": [
       "<pre style=\"white-space:pre;overflow-x:auto;line-height:normal;font-family:Menlo,'DejaVu Sans Mono',consolas,'Courier New',monospace\"><span style=\"font-weight: bold\"> Trainable params: </span><span style=\"color: #00af00; text-decoration-color: #00af00\">106,114</span> (414.51 KB)\n",
       "</pre>\n"
      ],
      "text/plain": [
       "\u001b[1m Trainable params: \u001b[0m\u001b[38;5;34m106,114\u001b[0m (414.51 KB)\n"
      ]
     },
     "metadata": {},
     "output_type": "display_data"
    },
    {
     "data": {
      "text/html": [
       "<pre style=\"white-space:pre;overflow-x:auto;line-height:normal;font-family:Menlo,'DejaVu Sans Mono',consolas,'Courier New',monospace\"><span style=\"font-weight: bold\"> Non-trainable params: </span><span style=\"color: #00af00; text-decoration-color: #00af00\">224</span> (896.00 B)\n",
       "</pre>\n"
      ],
      "text/plain": [
       "\u001b[1m Non-trainable params: \u001b[0m\u001b[38;5;34m224\u001b[0m (896.00 B)\n"
      ]
     },
     "metadata": {},
     "output_type": "display_data"
    }
   ],
   "source": [
    "model = create_LRCN_model()"
   ]
  },
  {
   "cell_type": "code",
   "execution_count": 15,
   "id": "fd78ab0a",
   "metadata": {
    "execution": {
     "iopub.execute_input": "2025-03-12T23:34:13.289521Z",
     "iopub.status.busy": "2025-03-12T23:34:13.289257Z",
     "iopub.status.idle": "2025-03-12T23:37:47.966242Z",
     "shell.execute_reply": "2025-03-12T23:37:47.965180Z"
    },
    "id": "1-gSGLQ2WQjn",
    "papermill": {
     "duration": 214.687363,
     "end_time": "2025-03-12T23:37:47.967992",
     "exception": false,
     "start_time": "2025-03-12T23:34:13.280629",
     "status": "completed"
    },
    "tags": []
   },
   "outputs": [
    {
     "name": "stdout",
     "output_type": "stream",
     "text": [
      "Epoch 1/50\n",
      "\u001b[1m242/242\u001b[0m \u001b[32m━━━━━━━━━━━━━━━━━━━━\u001b[0m\u001b[37m\u001b[0m \u001b[1m41s\u001b[0m 72ms/step - accuracy: 0.8505 - loss: 2.6284 - val_accuracy: 0.8306 - val_loss: 1.2543\n",
      "Epoch 2/50\n",
      "\u001b[1m242/242\u001b[0m \u001b[32m━━━━━━━━━━━━━━━━━━━━\u001b[0m\u001b[37m\u001b[0m \u001b[1m14s\u001b[0m 59ms/step - accuracy: 0.8714 - loss: 1.0504 - val_accuracy: 0.8388 - val_loss: 0.8523\n",
      "Epoch 3/50\n",
      "\u001b[1m242/242\u001b[0m \u001b[32m━━━━━━━━━━━━━━━━━━━━\u001b[0m\u001b[37m\u001b[0m \u001b[1m14s\u001b[0m 58ms/step - accuracy: 0.8706 - loss: 0.7399 - val_accuracy: 0.8306 - val_loss: 0.7301\n",
      "Epoch 4/50\n",
      "\u001b[1m242/242\u001b[0m \u001b[32m━━━━━━━━━━━━━━━━━━━━\u001b[0m\u001b[37m\u001b[0m \u001b[1m14s\u001b[0m 59ms/step - accuracy: 0.8743 - loss: 0.6113 - val_accuracy: 0.8306 - val_loss: 0.6521\n",
      "Epoch 5/50\n",
      "\u001b[1m242/242\u001b[0m \u001b[32m━━━━━━━━━━━━━━━━━━━━\u001b[0m\u001b[37m\u001b[0m \u001b[1m14s\u001b[0m 58ms/step - accuracy: 0.8734 - loss: 0.5399 - val_accuracy: 0.8306 - val_loss: 0.6069\n",
      "Epoch 6/50\n",
      "\u001b[1m242/242\u001b[0m \u001b[32m━━━━━━━━━━━━━━━━━━━━\u001b[0m\u001b[37m\u001b[0m \u001b[1m14s\u001b[0m 59ms/step - accuracy: 0.8761 - loss: 0.4998 - val_accuracy: 0.8306 - val_loss: 0.5731\n",
      "Epoch 7/50\n",
      "\u001b[1m242/242\u001b[0m \u001b[32m━━━━━━━━━━━━━━━━━━━━\u001b[0m\u001b[37m\u001b[0m \u001b[1m14s\u001b[0m 58ms/step - accuracy: 0.8711 - loss: 0.4869 - val_accuracy: 0.8347 - val_loss: 0.5666\n",
      "Epoch 8/50\n",
      "\u001b[1m242/242\u001b[0m \u001b[32m━━━━━━━━━━━━━━━━━━━━\u001b[0m\u001b[37m\u001b[0m \u001b[1m14s\u001b[0m 59ms/step - accuracy: 0.8658 - loss: 0.4789 - val_accuracy: 0.8264 - val_loss: 0.5293\n",
      "Epoch 9/50\n",
      "\u001b[1m242/242\u001b[0m \u001b[32m━━━━━━━━━━━━━━━━━━━━\u001b[0m\u001b[37m\u001b[0m \u001b[1m14s\u001b[0m 59ms/step - accuracy: 0.8772 - loss: 0.4618 - val_accuracy: 0.8306 - val_loss: 0.5531\n",
      "Epoch 10/50\n",
      "\u001b[1m242/242\u001b[0m \u001b[32m━━━━━━━━━━━━━━━━━━━━\u001b[0m\u001b[37m\u001b[0m \u001b[1m14s\u001b[0m 59ms/step - accuracy: 0.8738 - loss: 0.4496 - val_accuracy: 0.8306 - val_loss: 0.5611\n",
      "Epoch 11/50\n",
      "\u001b[1m242/242\u001b[0m \u001b[32m━━━━━━━━━━━━━━━━━━━━\u001b[0m\u001b[37m\u001b[0m \u001b[1m14s\u001b[0m 58ms/step - accuracy: 0.8759 - loss: 0.4552 - val_accuracy: 0.8306 - val_loss: 0.5512\n",
      "Epoch 12/50\n",
      "\u001b[1m242/242\u001b[0m \u001b[32m━━━━━━━━━━━━━━━━━━━━\u001b[0m\u001b[37m\u001b[0m \u001b[1m14s\u001b[0m 58ms/step - accuracy: 0.8776 - loss: 0.4465 - val_accuracy: 0.8306 - val_loss: 0.5391\n",
      "Epoch 13/50\n",
      "\u001b[1m242/242\u001b[0m \u001b[32m━━━━━━━━━━━━━━━━━━━━\u001b[0m\u001b[37m\u001b[0m \u001b[1m14s\u001b[0m 59ms/step - accuracy: 0.8754 - loss: 0.4614 - val_accuracy: 0.8306 - val_loss: 0.5465\n"
     ]
    }
   ],
   "source": [
    "# Early Stopping Callback.\n",
    "early_stopping_callback = EarlyStopping(monitor=\"val_loss\", patience=5, mode=\"min\", restore_best_weights=True)\n",
    "\n",
    "# Compile model\n",
    "model.compile(loss='categorical_crossentropy', optimizer='Adam', metrics=[\"accuracy\"])\n",
    "\n",
    "# Train\n",
    "model_training_history = model.fit(x=features_train, y=labels_train, \n",
    "                                   epochs=50, batch_size=4,\n",
    "                                   shuffle=True, validation_split=0.2,\n",
    "                                   callbacks = [early_stopping_callback])"
   ]
  },
  {
   "cell_type": "code",
   "execution_count": 16,
   "id": "b87a6949",
   "metadata": {
    "execution": {
     "iopub.execute_input": "2025-03-12T23:37:48.307926Z",
     "iopub.status.busy": "2025-03-12T23:37:48.307608Z",
     "iopub.status.idle": "2025-03-12T23:37:49.696160Z",
     "shell.execute_reply": "2025-03-12T23:37:49.695512Z"
    },
    "id": "vZ2kLbiaWQjn",
    "papermill": {
     "duration": 1.566709,
     "end_time": "2025-03-12T23:37:49.697381",
     "exception": false,
     "start_time": "2025-03-12T23:37:48.130672",
     "status": "completed"
    },
    "tags": []
   },
   "outputs": [
    {
     "name": "stdout",
     "output_type": "stream",
     "text": [
      "\u001b[1m10/10\u001b[0m \u001b[32m━━━━━━━━━━━━━━━━━━━━\u001b[0m\u001b[37m\u001b[0m \u001b[1m0s\u001b[0m 34ms/step - accuracy: 0.8496 - loss: 0.4983\n"
     ]
    }
   ],
   "source": [
    "# Evaluate\n",
    "model_evaluation = model.evaluate(features_test, labels_test)"
   ]
  },
  {
   "cell_type": "code",
   "execution_count": 17,
   "id": "b2e3a28a",
   "metadata": {
    "execution": {
     "iopub.execute_input": "2025-03-12T23:37:50.008911Z",
     "iopub.status.busy": "2025-03-12T23:37:50.008616Z",
     "iopub.status.idle": "2025-03-12T23:37:50.071936Z",
     "shell.execute_reply": "2025-03-12T23:37:50.071283Z"
    },
    "id": "J__AUjZQWQjn",
    "papermill": {
     "duration": 0.219731,
     "end_time": "2025-03-12T23:37:50.073356",
     "exception": false,
     "start_time": "2025-03-12T23:37:49.853625",
     "status": "completed"
    },
    "tags": []
   },
   "outputs": [],
   "source": [
    "# Save model\n",
    "model_file_name = \"LRCN_model.h5\"\n",
    "model.save(model_file_name)"
   ]
  },
  {
   "cell_type": "markdown",
   "id": "b7c96898",
   "metadata": {
    "id": "Htq_eiHcWQjn",
    "papermill": {
     "duration": 0.150943,
     "end_time": "2025-03-12T23:37:50.378150",
     "exception": false,
     "start_time": "2025-03-12T23:37:50.227207",
     "status": "completed"
    },
    "tags": []
   },
   "source": [
    "## Plot Loss & Accuracy Curves"
   ]
  },
  {
   "cell_type": "code",
   "execution_count": 18,
   "id": "49b3f701",
   "metadata": {
    "execution": {
     "iopub.execute_input": "2025-03-12T23:37:50.726841Z",
     "iopub.status.busy": "2025-03-12T23:37:50.726520Z",
     "iopub.status.idle": "2025-03-12T23:37:50.731186Z",
     "shell.execute_reply": "2025-03-12T23:37:50.730339Z"
    },
    "id": "ls3Pvs5HWQjn",
    "papermill": {
     "duration": 0.158794,
     "end_time": "2025-03-12T23:37:50.732598",
     "exception": false,
     "start_time": "2025-03-12T23:37:50.573804",
     "status": "completed"
    },
    "tags": []
   },
   "outputs": [],
   "source": [
    "def plot_metric(model_training_history, metric_name_1, metric_name_2, plot_name):\n",
    "    # 'accuracy', 'loss', 'val_accuracy', 'val_loss'\n",
    "    metric_value_1 = model_training_history.history[metric_name_1]\n",
    "    metric_value_2 = model_training_history.history[metric_name_2]\n",
    "\n",
    "    epochs = range(len(metric_value_1))\n",
    "\n",
    "    plt.plot(epochs, metric_value_1, 'blue', label = metric_name_1)\n",
    "    plt.plot(epochs, metric_value_2, 'red', label = metric_name_2)\n",
    "\n",
    "    plt.title(str(plot_name))\n",
    "    plt.legend()"
   ]
  },
  {
   "cell_type": "code",
   "execution_count": 19,
   "id": "d5f0fba1",
   "metadata": {
    "execution": {
     "iopub.execute_input": "2025-03-12T23:37:51.036223Z",
     "iopub.status.busy": "2025-03-12T23:37:51.035957Z",
     "iopub.status.idle": "2025-03-12T23:37:51.339877Z",
     "shell.execute_reply": "2025-03-12T23:37:51.339026Z"
    },
    "id": "XCWaOXMoWQjn",
    "papermill": {
     "duration": 0.45821,
     "end_time": "2025-03-12T23:37:51.341346",
     "exception": false,
     "start_time": "2025-03-12T23:37:50.883136",
     "status": "completed"
    },
    "tags": []
   },
   "outputs": [
    {
     "data": {
      "image/png": "[encoded data removed]",
      "text/plain": [
       "<Figure size 640x480 with 1 Axes>"
      ]
     },
     "metadata": {},
     "output_type": "display_data"
    }
   ],
   "source": [
    "plot_metric(model_training_history, 'loss', 'val_loss', 'Training loss & Validation loss')"
   ]
  },
  {
   "cell_type": "code",
   "execution_count": 20,
   "id": "15197d7e",
   "metadata": {
    "execution": {
     "iopub.execute_input": "2025-03-12T23:37:51.652336Z",
     "iopub.status.busy": "2025-03-12T23:37:51.652007Z",
     "iopub.status.idle": "2025-03-12T23:37:51.853770Z",
     "shell.execute_reply": "2025-03-12T23:37:51.852921Z"
    },
    "id": "GWP-XE4oWQjn",
    "papermill": {
     "duration": 0.356739,
     "end_time": "2025-03-12T23:37:51.855193",
     "exception": false,
     "start_time": "2025-03-12T23:37:51.498454",
     "status": "completed"
    },
    "tags": []
   },
   "outputs": [
    {
     "data": {
      "image/png": "[encoded data removed]",
      "text/plain": [
       "<Figure size 640x480 with 1 Axes>"
      ]
     },
     "metadata": {},
     "output_type": "display_data"
    }
   ],
   "source": [
    "plot_metric(model_training_history, 'accuracy', 'val_accuracy', 'Training accuracy & Validation accuracy')"
   ]
  },
  {
   "cell_type": "markdown",
   "id": "8845e138",
   "metadata": {
    "id": "Tkc-icdQWQjn",
    "papermill": {
     "duration": 0.152973,
     "end_time": "2025-03-12T23:37:52.164233",
     "exception": false,
     "start_time": "2025-03-12T23:37:52.011260",
     "status": "completed"
    },
    "tags": []
   },
   "source": [
    "### Reference:\n",
    "https://bleedaiacademy.com/human-activity-recognition-using-tensorflow-cnn-lstm/"
   ]
  },
  {
   "cell_type": "code",
   "execution_count": null,
   "id": "85ecb68e",
   "metadata": {
    "id": "b-_SH1SRWQjn",
    "papermill": {
     "duration": 0.151069,
     "end_time": "2025-03-12T23:37:52.468206",
     "exception": false,
     "start_time": "2025-03-12T23:37:52.317137",
     "status": "completed"
    },
    "tags": []
   },
   "outputs": [],
   "source": []
  }
 ],
 "metadata": {
  "colab": {
   "provenance": []
  },
  "kaggle": {
   "accelerator": "nvidiaTeslaT4",
   "dataSources": [
    {
     "datasetId": 205791,
     "sourceId": 451400,
     "sourceType": "datasetVersion"
    }
   ],
   "dockerImageVersionId": 30919,
   "isGpuEnabled": true,
   "isInternetEnabled": true,
   "language": "python",
   "sourceType": "notebook"
  },
  "kernelspec": {
   "display_name": "Python 3",
   "language": "python",
   "name": "python3"
  },
  "language_info": {
   "codemirror_mode": {
    "name": "ipython",
    "version": 3
   },
   "file_extension": ".py",
   "mimetype": "text/x-python",
   "name": "python",
   "nbconvert_exporter": "python",
   "pygments_lexer": "ipython3",
   "version": "3.10.12"
  },
  "papermill": {
   "default_parameters": {},
   "duration": 1492.586511,
   "end_time": "2025-03-12T23:37:56.580580",
   "environment_variables": {},
   "exception": null,
   "input_path": "__notebook__.ipynb",
   "output_path": "__notebook__.ipynb",
   "parameters": {},
   "start_time": "2025-03-12T23:13:03.994069",
   "version": "2.6.0"
  }
 },
 "nbformat": 4,
 "nbformat_minor": 5
}
