{
 "cells": [
  {
   "cell_type": "markdown",
   "id": "6e9f826f",
   "metadata": {
    "id": "frHPG7a4Nowh",
    "papermill": {
     "duration": 0.003207,
     "end_time": "2025-03-13T00:29:47.312785",
     "exception": false,
     "start_time": "2025-03-13T00:29:47.309578",
     "status": "completed"
    },
    "tags": []
   },
   "source": [
    "### Libraries"
   ]
  },
  {
   "cell_type": "code",
   "execution_count": 1,
   "id": "6b9851b0",
   "metadata": {
    "execution": {
     "iopub.execute_input": "2025-03-13T00:29:47.319202Z",
     "iopub.status.busy": "2025-03-13T00:29:47.318895Z",
     "iopub.status.idle": "2025-03-13T00:30:21.284341Z",
     "shell.execute_reply": "2025-03-13T00:30:21.283279Z"
    },
    "id": "inEF3B3h3Mqv",
    "outputId": "7f86c03e-0453-4142-9a9f-3fe9be8bf3b5",
    "papermill": {
     "duration": 33.970433,
     "end_time": "2025-03-13T00:30:21.286104",
     "exception": false,
     "start_time": "2025-03-13T00:29:47.315671",
     "status": "completed"
    },
    "tags": []
   },
   "outputs": [
    {
     "name": "stdout",
     "output_type": "stream",
     "text": [
      "  Installing build dependencies ... \u001b[?25l\u001b[?25hdone\r\n",
      "  Getting requirements to build wheel ... \u001b[?25l\u001b[?25hdone\r\n",
      "  Preparing metadata (pyproject.toml) ... \u001b[?25l\u001b[?25hdone\r\n",
      "\u001b[2K   \u001b[90m━━━━━━━━━━━━━━━━━━━━━━━━━━━━━━━━━━━━━━━━\u001b[0m \u001b[32m10.5/10.5 MB\u001b[0m \u001b[31m97.4 MB/s\u001b[0m eta \u001b[36m0:00:00\u001b[0m\r\n",
      "\u001b[2K   \u001b[90m━━━━━━━━━━━━━━━━━━━━━━━━━━━━━━━━━━━━━━━━\u001b[0m \u001b[32m932.6/932.6 kB\u001b[0m \u001b[31m45.8 MB/s\u001b[0m eta \u001b[36m0:00:00\u001b[0m\r\n",
      "\u001b[2K   \u001b[90m━━━━━━━━━━━━━━━━━━━━━━━━━━━━━━━━━━━━━━━━\u001b[0m \u001b[32m99.7/99.7 kB\u001b[0m \u001b[31m5.9 MB/s\u001b[0m eta \u001b[36m0:00:00\u001b[0m\r\n",
      "\u001b[2K   \u001b[90m━━━━━━━━━━━━━━━━━━━━━━━━━━━━━━━━━━━━━━━━\u001b[0m \u001b[32m61.7/61.7 kB\u001b[0m \u001b[31m4.2 MB/s\u001b[0m eta \u001b[36m0:00:00\u001b[0m\r\n",
      "\u001b[2K   \u001b[90m━━━━━━━━━━━━━━━━━━━━━━━━━━━━━━━━━━━━━━━━\u001b[0m \u001b[32m79.9/79.9 MB\u001b[0m \u001b[31m21.8 MB/s\u001b[0m eta \u001b[36m0:00:00\u001b[0m\r\n",
      "\u001b[2K   \u001b[90m━━━━━━━━━━━━━━━━━━━━━━━━━━━━━━━━━━━━━━━━\u001b[0m \u001b[32m112.4/112.4 kB\u001b[0m \u001b[31m8.4 MB/s\u001b[0m eta \u001b[36m0:00:00\u001b[0m\r\n",
      "\u001b[2K   \u001b[90m━━━━━━━━━━━━━━━━━━━━━━━━━━━━━━━━━━━━━━━━\u001b[0m \u001b[32m74.8/74.8 kB\u001b[0m \u001b[31m5.0 MB/s\u001b[0m eta \u001b[36m0:00:00\u001b[0m\r\n",
      "\u001b[2K   \u001b[90m━━━━━━━━━━━━━━━━━━━━━━━━━━━━━━━━━━━━━━━━\u001b[0m \u001b[32m1.4/1.4 MB\u001b[0m \u001b[31m63.3 MB/s\u001b[0m eta \u001b[36m0:00:00\u001b[0m\r\n",
      "\u001b[2K   \u001b[90m━━━━━━━━━━━━━━━━━━━━━━━━━━━━━━━━━━━━━━━━\u001b[0m \u001b[32m72.0/72.0 kB\u001b[0m \u001b[31m4.2 MB/s\u001b[0m eta \u001b[36m0:00:00\u001b[0m\r\n",
      "\u001b[2K   \u001b[90m━━━━━━━━━━━━━━━━━━━━━━━━━━━━━━━━━━━━━━━━\u001b[0m \u001b[32m943.0/943.0 kB\u001b[0m \u001b[31m44.2 MB/s\u001b[0m eta \u001b[36m0:00:00\u001b[0m\r\n",
      "\u001b[2K   \u001b[90m━━━━━━━━━━━━━━━━━━━━━━━━━━━━━━━━━━━━━━━━\u001b[0m \u001b[32m43.8/43.8 kB\u001b[0m \u001b[31m2.4 MB/s\u001b[0m eta \u001b[36m0:00:00\u001b[0m\r\n",
      "\u001b[2K   \u001b[90m━━━━━━━━━━━━━━━━━━━━━━━━━━━━━━━━━━━━━━━━\u001b[0m \u001b[32m44.8/44.8 kB\u001b[0m \u001b[31m2.7 MB/s\u001b[0m eta \u001b[36m0:00:00\u001b[0m\r\n",
      "\u001b[2K   \u001b[90m━━━━━━━━━━━━━━━━━━━━━━━━━━━━━━━━━━━━━━━━\u001b[0m \u001b[32m102.1/102.1 kB\u001b[0m \u001b[31m6.6 MB/s\u001b[0m eta \u001b[36m0:00:00\u001b[0m\r\n",
      "\u001b[2K   \u001b[90m━━━━━━━━━━━━━━━━━━━━━━━━━━━━━━━━━━━━━━━━\u001b[0m \u001b[32m296.2/296.2 kB\u001b[0m \u001b[31m17.9 MB/s\u001b[0m eta \u001b[36m0:00:00\u001b[0m\r\n",
      "\u001b[2K   \u001b[90m━━━━━━━━━━━━━━━━━━━━━━━━━━━━━━━━━━━━━━━━\u001b[0m \u001b[32m203.4/203.4 kB\u001b[0m \u001b[31m13.0 MB/s\u001b[0m eta \u001b[36m0:00:00\u001b[0m\r\n",
      "\u001b[2K   \u001b[90m━━━━━━━━━━━━━━━━━━━━━━━━━━━━━━━━━━━━━━━━\u001b[0m \u001b[32m67.9/67.9 kB\u001b[0m \u001b[31m4.3 MB/s\u001b[0m eta \u001b[36m0:00:00\u001b[0m\r\n",
      "\u001b[2K   \u001b[90m━━━━━━━━━━━━━━━━━━━━━━━━━━━━━━━━━━━━━━━━\u001b[0m \u001b[32m3.0/3.0 MB\u001b[0m \u001b[31m81.2 MB/s\u001b[0m eta \u001b[36m0:00:00\u001b[0m\r\n",
      "\u001b[2K   \u001b[90m━━━━━━━━━━━━━━━━━━━━━━━━━━━━━━━━━━━━━━━━\u001b[0m \u001b[32m93.3/93.3 kB\u001b[0m \u001b[31m6.5 MB/s\u001b[0m eta \u001b[36m0:00:00\u001b[0m\r\n",
      "\u001b[2K   \u001b[90m━━━━━━━━━━━━━━━━━━━━━━━━━━━━━━━━━━━━━━━━\u001b[0m \u001b[32m49.6/49.6 kB\u001b[0m \u001b[31m2.8 MB/s\u001b[0m eta \u001b[36m0:00:00\u001b[0m\r\n",
      "\u001b[2K   \u001b[90m━━━━━━━━━━━━━━━━━━━━━━━━━━━━━━━━━━━━━━━━\u001b[0m \u001b[32m139.0/139.0 kB\u001b[0m \u001b[31m9.4 MB/s\u001b[0m eta \u001b[36m0:00:00\u001b[0m\r\n",
      "\u001b[2K   \u001b[90m━━━━━━━━━━━━━━━━━━━━━━━━━━━━━━━━━━━━━━━━\u001b[0m \u001b[32m413.7/413.7 kB\u001b[0m \u001b[31m25.3 MB/s\u001b[0m eta \u001b[36m0:00:00\u001b[0m\r\n",
      "\u001b[?25h  Building wheel for fiftyone-db (pyproject.toml) ... \u001b[?25l\u001b[?25hdone\r\n",
      "\u001b[31mERROR: pip's dependency resolver does not currently take into account all the packages that are installed. This behaviour is the source of the following dependency conflicts.\r\n",
      "ydata-profiling 4.12.2 requires dacite>=1.8, but you have dacite 1.7.0 which is incompatible.\u001b[0m\u001b[31m\r\n",
      "\u001b[0m"
     ]
    }
   ],
   "source": [
    "!pip install fiftyone ultralytics --quiet"
   ]
  },
  {
   "cell_type": "code",
   "execution_count": 2,
   "id": "946bab29",
   "metadata": {
    "execution": {
     "iopub.execute_input": "2025-03-13T00:30:21.296672Z",
     "iopub.status.busy": "2025-03-13T00:30:21.296408Z",
     "iopub.status.idle": "2025-03-13T00:30:31.264302Z",
     "shell.execute_reply": "2025-03-13T00:30:31.263598Z"
    },
    "id": "uxWmcnMxBOOL",
    "outputId": "1e8b9f75-8929-4fda-f373-a50c0dccd20d",
    "papermill": {
     "duration": 9.974954,
     "end_time": "2025-03-13T00:30:31.265973",
     "exception": false,
     "start_time": "2025-03-13T00:30:21.291019",
     "status": "completed"
    },
    "tags": []
   },
   "outputs": [
    {
     "name": "stdout",
     "output_type": "stream",
     "text": [
      "Creating new Ultralytics Settings v0.0.6 file ✅ \n",
      "View Ultralytics Settings with 'yolo settings' or at '/root/.config/Ultralytics/settings.json'\n",
      "Update Settings with 'yolo settings key=value', i.e. 'yolo settings runs_dir=path/to/dir'. For help see https://docs.ultralytics.com/quickstart/#ultralytics-settings.\n"
     ]
    }
   ],
   "source": [
    "import os\n",
    "import torch\n",
    "import random\n",
    "import warnings\n",
    "\n",
    "import fiftyone as fo\n",
    "import fiftyone.zoo as foz\n",
    "\n",
    "from ultralytics import YOLO"
   ]
  },
  {
   "cell_type": "markdown",
   "id": "abbfa025",
   "metadata": {
    "id": "6Ai7TOnJBJIe",
    "papermill": {
     "duration": 0.004508,
     "end_time": "2025-03-13T00:30:31.275558",
     "exception": false,
     "start_time": "2025-03-13T00:30:31.271050",
     "status": "completed"
    },
    "tags": []
   },
   "source": [
    "### Load COCO’s validation set"
   ]
  },
  {
   "cell_type": "code",
   "execution_count": 3,
   "id": "19a5c388",
   "metadata": {
    "execution": {
     "iopub.execute_input": "2025-03-13T00:30:31.286024Z",
     "iopub.status.busy": "2025-03-13T00:30:31.285501Z",
     "iopub.status.idle": "2025-03-13T00:32:14.555055Z",
     "shell.execute_reply": "2025-03-13T00:32:14.554276Z"
    },
    "id": "daxubRbIBAjh",
    "outputId": "59903c15-efba-460f-c761-a5c7ec4ed2bb",
    "papermill": {
     "duration": 103.276242,
     "end_time": "2025-03-13T00:32:14.556448",
     "exception": false,
     "start_time": "2025-03-13T00:30:31.280206",
     "status": "completed"
    },
    "tags": []
   },
   "outputs": [
    {
     "name": "stdout",
     "output_type": "stream",
     "text": [
      "Downloading split 'validation' to '/root/fiftyone/coco-2017/validation' if necessary\n",
      "Downloading annotations to '/root/fiftyone/coco-2017/tmp-download/annotations_trainval2017.zip'\n",
      " 100% |██████|    1.9Gb/1.9Gb [44.8s elapsed, 0s remaining, 357.4Mb/s]       \n",
      "Extracting annotations to '/root/fiftyone/coco-2017/raw/instances_val2017.json'\n",
      "Downloading images to '/root/fiftyone/coco-2017/tmp-download/val2017.zip'\n",
      " 100% |██████|    6.1Gb/6.1Gb [14.3s elapsed, 0s remaining, 452.5Mb/s]      \n",
      "Extracting images to '/root/fiftyone/coco-2017/validation/data'\n",
      "Writing annotations to '/root/fiftyone/coco-2017/validation/labels.json'\n",
      "Dataset info written to '/root/fiftyone/coco-2017/info.json'\n",
      "Loading 'coco-2017' split 'validation'\n",
      " 100% |███████████████| 5000/5000 [29.4s elapsed, 0s remaining, 196.0 samples/s]      \n",
      "Dataset 'coco-2017-validation' created\n"
     ]
    },
    {
     "data": {
      "text/plain": [
       "{'validation': 5000}"
      ]
     },
     "execution_count": 3,
     "metadata": {},
     "output_type": "execute_result"
    }
   ],
   "source": [
    "# Load images and ground truth object detections\n",
    "dataset = foz.load_zoo_dataset(\n",
    "  'coco-2017',\n",
    "  split='validation',\n",
    ")\n",
    "\n",
    "dataset.count_sample_tags()"
   ]
  },
  {
   "cell_type": "code",
   "execution_count": 4,
   "id": "7a6711ee",
   "metadata": {
    "execution": {
     "iopub.execute_input": "2025-03-13T00:32:14.648028Z",
     "iopub.status.busy": "2025-03-13T00:32:14.647693Z",
     "iopub.status.idle": "2025-03-13T00:32:14.651277Z",
     "shell.execute_reply": "2025-03-13T00:32:14.650477Z"
    },
    "id": "_YuJl-G8BYm9",
    "papermill": {
     "duration": 0.049393,
     "end_time": "2025-03-13T00:32:14.652409",
     "exception": false,
     "start_time": "2025-03-13T00:32:14.603016",
     "status": "completed"
    },
    "tags": []
   },
   "outputs": [],
   "source": [
    "# coco_classes = dataset.default_classes\n",
    "coco_classes = ['person']"
   ]
  },
  {
   "cell_type": "code",
   "execution_count": 5,
   "id": "3f72231a",
   "metadata": {
    "execution": {
     "iopub.execute_input": "2025-03-13T00:32:14.740402Z",
     "iopub.status.busy": "2025-03-13T00:32:14.740164Z",
     "iopub.status.idle": "2025-03-13T00:32:14.765161Z",
     "shell.execute_reply": "2025-03-13T00:32:14.764391Z"
    },
    "id": "3CH_iPNQMxmM",
    "papermill": {
     "duration": 0.070982,
     "end_time": "2025-03-13T00:32:14.766463",
     "exception": false,
     "start_time": "2025-03-13T00:32:14.695481",
     "status": "completed"
    },
    "tags": []
   },
   "outputs": [],
   "source": [
    "# Split data into train & val set\n",
    "train_ratio = 0.8  # 80% for training, 20% for validation\n",
    "\n",
    "# Get image ids and random\n",
    "indices = dataset.values(\"id\")\n",
    "random.shuffle(indices)\n",
    "\n",
    "train_size = int(len(indices) * train_ratio)\n",
    "train_ids = indices[:train_size]\n",
    "val_ids = indices[train_size:]\n",
    "\n",
    "train_view = dataset.select(train_ids)\n",
    "val_view = dataset.select(val_ids)"
   ]
  },
  {
   "cell_type": "code",
   "execution_count": 6,
   "id": "08c892c9",
   "metadata": {
    "execution": {
     "iopub.execute_input": "2025-03-13T00:32:14.854293Z",
     "iopub.status.busy": "2025-03-13T00:32:14.854029Z",
     "iopub.status.idle": "2025-03-13T00:32:14.857708Z",
     "shell.execute_reply": "2025-03-13T00:32:14.856961Z"
    },
    "id": "IBYRL7QTEqGZ",
    "papermill": {
     "duration": 0.048317,
     "end_time": "2025-03-13T00:32:14.858846",
     "exception": false,
     "start_time": "2025-03-13T00:32:14.810529",
     "status": "completed"
    },
    "tags": []
   },
   "outputs": [],
   "source": [
    "def export_yolo_data(samples, export_dir, classes, label_field=\"ground_truth\", split=\"train\"):\n",
    "  samples.export(\n",
    "    export_dir=f\"{export_dir}\",\n",
    "    dataset_type=fo.types.YOLOv5Dataset, # FiftyOne already converts COCO [top-left-x, top-left-y, width, height] format to YOLO [center_x, center_y, width, height] format\n",
    "    label_field=label_field,\n",
    "    classes=classes,\n",
    "    split=split\n",
    "  )"
   ]
  },
  {
   "cell_type": "code",
   "execution_count": 7,
   "id": "54f04e71",
   "metadata": {
    "execution": {
     "iopub.execute_input": "2025-03-13T00:32:14.945881Z",
     "iopub.status.busy": "2025-03-13T00:32:14.945659Z",
     "iopub.status.idle": "2025-03-13T00:32:31.074520Z",
     "shell.execute_reply": "2025-03-13T00:32:31.073811Z"
    },
    "id": "UnrgErenFfvK",
    "outputId": "e631154a-43b3-4c43-ec55-242991164b90",
    "papermill": {
     "duration": 16.173592,
     "end_time": "2025-03-13T00:32:31.075823",
     "exception": false,
     "start_time": "2025-03-13T00:32:14.902231",
     "status": "completed"
    },
    "tags": []
   },
   "outputs": [
    {
     "name": "stdout",
     "output_type": "stream",
     "text": [
      " 100% |███████████████| 4000/4000 [12.9s elapsed, 0s remaining, 311.0 samples/s]      \n",
      "Directory 'coco_yolo' already exists; export will be merged with existing files\n",
      " 100% |███████████████| 1000/1000 [3.2s elapsed, 0s remaining, 303.8 samples/s]      \n"
     ]
    }
   ],
   "source": [
    "with warnings.catch_warnings(): # ignore warnings when coco_classes just includes class 'person'\n",
    "  warnings.simplefilter(\"ignore\", category=UserWarning)\n",
    "  export_yolo_data(train_view, \"coco_yolo\", coco_classes, split=\"train\")\n",
    "  export_yolo_data(val_view, \"coco_yolo\", coco_classes, split=\"val\")"
   ]
  },
  {
   "cell_type": "code",
   "execution_count": 8,
   "id": "d79ba884",
   "metadata": {
    "execution": {
     "iopub.execute_input": "2025-03-13T00:32:31.203820Z",
     "iopub.status.busy": "2025-03-13T00:32:31.203531Z",
     "iopub.status.idle": "2025-03-13T00:32:31.297796Z",
     "shell.execute_reply": "2025-03-13T00:32:31.296935Z"
    },
    "id": "PGp1pf7-TYQ_",
    "outputId": "f59c581f-ad1b-4eeb-feca-46113c1b88d7",
    "papermill": {
     "duration": 0.159105,
     "end_time": "2025-03-13T00:32:31.299138",
     "exception": false,
     "start_time": "2025-03-13T00:32:31.140033",
     "status": "completed"
    },
    "tags": []
   },
   "outputs": [
    {
     "name": "stdout",
     "output_type": "stream",
     "text": [
      "Using device: cuda\n"
     ]
    }
   ],
   "source": [
    "# Check device\n",
    "device = \"cuda\" if torch.cuda.is_available() else \"cpu\"\n",
    "print(f\"Using device: {device}\")"
   ]
  },
  {
   "cell_type": "code",
   "execution_count": 9,
   "id": "17ea4582",
   "metadata": {
    "execution": {
     "iopub.execute_input": "2025-03-13T00:32:31.459030Z",
     "iopub.status.busy": "2025-03-13T00:32:31.458684Z",
     "iopub.status.idle": "2025-03-13T00:32:32.271449Z",
     "shell.execute_reply": "2025-03-13T00:32:32.270541Z"
    },
    "id": "7LK3FGbATHR-",
    "outputId": "a6d16ebc-4faf-43c5-ad81-eae69aa60897",
    "papermill": {
     "duration": 0.874462,
     "end_time": "2025-03-13T00:32:32.272999",
     "exception": false,
     "start_time": "2025-03-13T00:32:31.398537",
     "status": "completed"
    },
    "tags": []
   },
   "outputs": [
    {
     "name": "stdout",
     "output_type": "stream",
     "text": [
      "Downloading https://github.com/ultralytics/assets/releases/download/v8.3.0/yolov8n.pt to 'yolov8n.pt'...\n"
     ]
    },
    {
     "name": "stderr",
     "output_type": "stream",
     "text": [
      "100%|██████████| 6.25M/6.25M [00:00<00:00, 128MB/s]\n"
     ]
    }
   ],
   "source": [
    "# Set parameters\n",
    "model = YOLO(\"yolov8n.pt\")\n",
    "data_yaml_path = \"coco_yolo/dataset.yaml\"\n",
    "output_path = \"runs\"\n",
    "epochs = 100"
   ]
  },
  {
   "cell_type": "code",
   "execution_count": 10,
   "id": "81daa7e7",
   "metadata": {
    "execution": {
     "iopub.execute_input": "2025-03-13T00:32:32.397876Z",
     "iopub.status.busy": "2025-03-13T00:32:32.397534Z",
     "iopub.status.idle": "2025-03-13T01:52:19.565401Z",
     "shell.execute_reply": "2025-03-13T01:52:19.564387Z"
    },
    "id": "FlLcY8mjT5x9",
    "outputId": "f02d8c7f-993b-45f0-c842-86e92ff21a9f",
    "papermill": {
     "duration": 4787.234974,
     "end_time": "2025-03-13T01:52:19.568461",
     "exception": false,
     "start_time": "2025-03-13T00:32:32.333487",
     "status": "completed"
    },
    "tags": []
   },
   "outputs": [
    {
     "name": "stdout",
     "output_type": "stream",
     "text": [
      "Ultralytics 8.3.89 🚀 Python-3.10.12 torch-2.5.1+cu121 CUDA:0 (Tesla T4, 15095MiB)\n",
      "\u001b[34m\u001b[1mengine/trainer: \u001b[0mtask=detect, mode=train, model=yolov8n.pt, data=coco_yolo/dataset.yaml, epochs=100, time=None, patience=100, batch=16, imgsz=640, save=True, save_period=-1, cache=False, device=cuda, workers=8, project=runs, name=train, exist_ok=False, pretrained=True, optimizer=auto, verbose=True, seed=0, deterministic=True, single_cls=False, rect=False, cos_lr=False, close_mosaic=10, resume=False, amp=True, fraction=1.0, profile=False, freeze=None, multi_scale=False, overlap_mask=True, mask_ratio=4, dropout=0.0, val=True, split=val, save_json=False, save_hybrid=False, conf=None, iou=0.7, max_det=300, half=False, dnn=False, plots=True, source=None, vid_stride=1, stream_buffer=False, visualize=False, augment=False, agnostic_nms=False, classes=None, retina_masks=False, embed=None, show=False, save_frames=False, save_txt=False, save_conf=False, save_crop=False, show_labels=True, show_conf=True, show_boxes=True, line_width=None, format=torchscript, keras=False, optimize=False, int8=False, dynamic=False, simplify=True, opset=None, workspace=None, nms=False, lr0=0.01, lrf=0.01, momentum=0.937, weight_decay=0.0005, warmup_epochs=3.0, warmup_momentum=0.8, warmup_bias_lr=0.1, box=7.5, cls=0.5, dfl=1.5, pose=12.0, kobj=1.0, nbs=64, hsv_h=0.015, hsv_s=0.7, hsv_v=0.4, degrees=0.0, translate=0.1, scale=0.5, shear=0.0, perspective=0.0, flipud=0.0, fliplr=0.5, bgr=0.0, mosaic=1.0, mixup=0.0, copy_paste=0.0, copy_paste_mode=flip, auto_augment=randaugment, erasing=0.4, crop_fraction=1.0, cfg=None, tracker=botsort.yaml, save_dir=runs/train\n",
      "Downloading https://ultralytics.com/assets/Arial.ttf to '/root/.config/Ultralytics/Arial.ttf'...\n"
     ]
    },
    {
     "name": "stderr",
     "output_type": "stream",
     "text": [
      "100%|██████████| 755k/755k [00:00<00:00, 25.3MB/s]\n"
     ]
    },
    {
     "name": "stdout",
     "output_type": "stream",
     "text": [
      "Overriding model.yaml nc=80 with nc=1\n",
      "\n",
      "                   from  n    params  module                                       arguments                     \n",
      "  0                  -1  1       464  ultralytics.nn.modules.conv.Conv             [3, 16, 3, 2]                 \n",
      "  1                  -1  1      4672  ultralytics.nn.modules.conv.Conv             [16, 32, 3, 2]                \n",
      "  2                  -1  1      7360  ultralytics.nn.modules.block.C2f             [32, 32, 1, True]             \n",
      "  3                  -1  1     18560  ultralytics.nn.modules.conv.Conv             [32, 64, 3, 2]                \n",
      "  4                  -1  2     49664  ultralytics.nn.modules.block.C2f             [64, 64, 2, True]             \n",
      "  5                  -1  1     73984  ultralytics.nn.modules.conv.Conv             [64, 128, 3, 2]               \n",
      "  6                  -1  2    197632  ultralytics.nn.modules.block.C2f             [128, 128, 2, True]           \n",
      "  7                  -1  1    295424  ultralytics.nn.modules.conv.Conv             [128, 256, 3, 2]              \n",
      "  8                  -1  1    460288  ultralytics.nn.modules.block.C2f             [256, 256, 1, True]           \n",
      "  9                  -1  1    164608  ultralytics.nn.modules.block.SPPF            [256, 256, 5]                 \n",
      " 10                  -1  1         0  torch.nn.modules.upsampling.Upsample         [None, 2, 'nearest']          \n",
      " 11             [-1, 6]  1         0  ultralytics.nn.modules.conv.Concat           [1]                           \n",
      " 12                  -1  1    148224  ultralytics.nn.modules.block.C2f             [384, 128, 1]                 \n",
      " 13                  -1  1         0  torch.nn.modules.upsampling.Upsample         [None, 2, 'nearest']          \n",
      " 14             [-1, 4]  1         0  ultralytics.nn.modules.conv.Concat           [1]                           \n",
      " 15                  -1  1     37248  ultralytics.nn.modules.block.C2f             [192, 64, 1]                  \n",
      " 16                  -1  1     36992  ultralytics.nn.modules.conv.Conv             [64, 64, 3, 2]                \n",
      " 17            [-1, 12]  1         0  ultralytics.nn.modules.conv.Concat           [1]                           \n",
      " 18                  -1  1    123648  ultralytics.nn.modules.block.C2f             [192, 128, 1]                 \n",
      " 19                  -1  1    147712  ultralytics.nn.modules.conv.Conv             [128, 128, 3, 2]              \n",
      " 20             [-1, 9]  1         0  ultralytics.nn.modules.conv.Concat           [1]                           \n",
      " 21                  -1  1    493056  ultralytics.nn.modules.block.C2f             [384, 256, 1]                 \n",
      " 22        [15, 18, 21]  1    751507  ultralytics.nn.modules.head.Detect           [1, [64, 128, 256]]           \n",
      "Model summary: 129 layers, 3,011,043 parameters, 3,011,027 gradients, 8.2 GFLOPs\n",
      "\n",
      "Transferred 319/355 items from pretrained weights\n",
      "\u001b[34m\u001b[1mTensorBoard: \u001b[0mStart with 'tensorboard --logdir runs/train', view at http://localhost:6006/\n",
      "Freezing layer 'model.22.dfl.conv.weight'\n",
      "\u001b[34m\u001b[1mAMP: \u001b[0mrunning Automatic Mixed Precision (AMP) checks...\n",
      "Downloading https://github.com/ultralytics/assets/releases/download/v8.3.0/yolo11n.pt to 'yolo11n.pt'...\n"
     ]
    },
    {
     "name": "stderr",
     "output_type": "stream",
     "text": [
      "100%|██████████| 5.35M/5.35M [00:00<00:00, 99.3MB/s]\n"
     ]
    },
    {
     "name": "stdout",
     "output_type": "stream",
     "text": [
      "\u001b[34m\u001b[1mAMP: \u001b[0mchecks passed ✅\n"
     ]
    },
    {
     "name": "stderr",
     "output_type": "stream",
     "text": [
      "\u001b[34m\u001b[1mtrain: \u001b[0mScanning /kaggle/working/coco_yolo/labels/train... 3957 images, 1869 backgrounds, 0 corrupt: 100%|██████████| 4000/4000 [00:03<00:00, 1158.79it/s]\n"
     ]
    },
    {
     "name": "stdout",
     "output_type": "stream",
     "text": [
      "\u001b[34m\u001b[1mtrain: \u001b[0mNew cache created: /kaggle/working/coco_yolo/labels/train.cache\n",
      "\u001b[34m\u001b[1malbumentations: \u001b[0mBlur(p=0.01, blur_limit=(3, 7)), MedianBlur(p=0.01, blur_limit=(3, 7)), ToGray(p=0.01, num_output_channels=3, method='weighted_average'), CLAHE(p=0.01, clip_limit=(1.0, 4.0), tile_grid_size=(8, 8))\n"
     ]
    },
    {
     "name": "stderr",
     "output_type": "stream",
     "text": [
      "/usr/local/lib/python3.10/dist-packages/albumentations/__init__.py:24: UserWarning: A new version of Albumentations is available: 2.0.5 (you have 1.4.20). Upgrade using: pip install -U albumentations. To disable automatic update checks, set the environment variable NO_ALBUMENTATIONS_UPDATE to 1.\n",
      "  check_for_updates()\n",
      "\u001b[34m\u001b[1mval: \u001b[0mScanning /kaggle/working/coco_yolo/labels/val... 995 images, 438 backgrounds, 0 corrupt: 100%|██████████| 1000/1000 [00:01<00:00, 735.66it/s]\n"
     ]
    },
    {
     "name": "stdout",
     "output_type": "stream",
     "text": [
      "\u001b[34m\u001b[1mval: \u001b[0mNew cache created: /kaggle/working/coco_yolo/labels/val.cache\n",
      "Plotting labels to runs/train/labels.jpg... \n",
      "\u001b[34m\u001b[1moptimizer:\u001b[0m 'optimizer=auto' found, ignoring 'lr0=0.01' and 'momentum=0.937' and determining best 'optimizer', 'lr0' and 'momentum' automatically... \n",
      "\u001b[34m\u001b[1moptimizer:\u001b[0m AdamW(lr=0.002, momentum=0.9) with parameter groups 57 weight(decay=0.0), 64 weight(decay=0.0005), 63 bias(decay=0.0)\n",
      "\u001b[34m\u001b[1mTensorBoard: \u001b[0mmodel graph visualization added ✅\n",
      "Image sizes 640 train, 640 val\n",
      "Using 4 dataloader workers\n",
      "Logging results to \u001b[1mruns/train\u001b[0m\n",
      "Starting training for 100 epochs...\n",
      "\n",
      "      Epoch    GPU_mem   box_loss   cls_loss   dfl_loss  Instances       Size\n"
     ]
    },
    {
     "name": "stderr",
     "output_type": "stream",
     "text": [
      "      1/100      2.08G      1.342      1.943      1.325         36        640: 100%|██████████| 250/250 [00:43<00:00,  5.75it/s]\n",
      "                 Class     Images  Instances      Box(P          R      mAP50  mAP50-95): 100%|██████████| 32/32 [00:06<00:00,  4.62it/s]\n"
     ]
    },
    {
     "name": "stdout",
     "output_type": "stream",
     "text": [
      "                   all       1000       2338      0.508      0.368      0.386      0.202\n",
      "\n",
      "      Epoch    GPU_mem   box_loss   cls_loss   dfl_loss  Instances       Size\n"
     ]
    },
    {
     "name": "stderr",
     "output_type": "stream",
     "text": [
      "      2/100      2.84G      1.642      1.954      1.554         41        640: 100%|██████████| 250/250 [00:41<00:00,  6.02it/s]\n",
      "                 Class     Images  Instances      Box(P          R      mAP50  mAP50-95): 100%|██████████| 32/32 [00:05<00:00,  6.30it/s]\n"
     ]
    },
    {
     "name": "stdout",
     "output_type": "stream",
     "text": [
      "                   all       1000       2338      0.444      0.328      0.327      0.162\n",
      "\n",
      "      Epoch    GPU_mem   box_loss   cls_loss   dfl_loss  Instances       Size\n"
     ]
    },
    {
     "name": "stderr",
     "output_type": "stream",
     "text": [
      "      3/100      2.84G      1.721      1.946      1.608        107        640: 100%|██████████| 250/250 [00:42<00:00,  5.93it/s]\n",
      "                 Class     Images  Instances      Box(P          R      mAP50  mAP50-95): 100%|██████████| 32/32 [00:05<00:00,  6.31it/s]\n"
     ]
    },
    {
     "name": "stdout",
     "output_type": "stream",
     "text": [
      "                   all       1000       2338      0.427       0.31      0.286      0.132\n",
      "\n",
      "      Epoch    GPU_mem   box_loss   cls_loss   dfl_loss  Instances       Size\n"
     ]
    },
    {
     "name": "stderr",
     "output_type": "stream",
     "text": [
      "      4/100      2.84G      1.696       1.94      1.605        108        640: 100%|██████████| 250/250 [00:42<00:00,  5.93it/s]\n",
      "                 Class     Images  Instances      Box(P          R      mAP50  mAP50-95): 100%|██████████| 32/32 [00:05<00:00,  6.32it/s]\n"
     ]
    },
    {
     "name": "stdout",
     "output_type": "stream",
     "text": [
      "                   all       1000       2338      0.486      0.405      0.397      0.204\n",
      "\n",
      "      Epoch    GPU_mem   box_loss   cls_loss   dfl_loss  Instances       Size\n"
     ]
    },
    {
     "name": "stderr",
     "output_type": "stream",
     "text": [
      "      5/100      2.84G      1.661      1.871      1.582         82        640: 100%|██████████| 250/250 [00:41<00:00,  6.02it/s]\n",
      "                 Class     Images  Instances      Box(P          R      mAP50  mAP50-95): 100%|██████████| 32/32 [00:05<00:00,  6.26it/s]\n"
     ]
    },
    {
     "name": "stdout",
     "output_type": "stream",
     "text": [
      "                   all       1000       2338      0.488      0.388      0.372      0.188\n",
      "\n",
      "      Epoch    GPU_mem   box_loss   cls_loss   dfl_loss  Instances       Size\n"
     ]
    },
    {
     "name": "stderr",
     "output_type": "stream",
     "text": [
      "      6/100      2.84G      1.632      1.823      1.575         75        640: 100%|██████████| 250/250 [00:41<00:00,  5.99it/s]\n",
      "                 Class     Images  Instances      Box(P          R      mAP50  mAP50-95): 100%|██████████| 32/32 [00:05<00:00,  6.37it/s]\n"
     ]
    },
    {
     "name": "stdout",
     "output_type": "stream",
     "text": [
      "                   all       1000       2338      0.548      0.423      0.437      0.229\n",
      "\n",
      "      Epoch    GPU_mem   box_loss   cls_loss   dfl_loss  Instances       Size\n"
     ]
    },
    {
     "name": "stderr",
     "output_type": "stream",
     "text": [
      "      7/100      2.84G      1.604      1.776      1.534         82        640: 100%|██████████| 250/250 [00:41<00:00,  6.01it/s]\n",
      "                 Class     Images  Instances      Box(P          R      mAP50  mAP50-95): 100%|██████████| 32/32 [00:05<00:00,  6.33it/s]"
     ]
    },
    {
     "name": "stdout",
     "output_type": "stream",
     "text": [
      "                   all       1000       2338      0.506      0.391      0.393      0.207\n"
     ]
    },
    {
     "name": "stderr",
     "output_type": "stream",
     "text": [
      "\n"
     ]
    },
    {
     "name": "stdout",
     "output_type": "stream",
     "text": [
      "\n",
      "      Epoch    GPU_mem   box_loss   cls_loss   dfl_loss  Instances       Size\n"
     ]
    },
    {
     "name": "stderr",
     "output_type": "stream",
     "text": [
      "      8/100      2.84G      1.573      1.716      1.512         60        640: 100%|██████████| 250/250 [00:41<00:00,  6.01it/s]\n",
      "                 Class     Images  Instances      Box(P          R      mAP50  mAP50-95): 100%|██████████| 32/32 [00:05<00:00,  6.36it/s]"
     ]
    },
    {
     "name": "stdout",
     "output_type": "stream",
     "text": [
      "                   all       1000       2338      0.569      0.413      0.442      0.232\n"
     ]
    },
    {
     "name": "stderr",
     "output_type": "stream",
     "text": [
      "\n"
     ]
    },
    {
     "name": "stdout",
     "output_type": "stream",
     "text": [
      "\n",
      "      Epoch    GPU_mem   box_loss   cls_loss   dfl_loss  Instances       Size\n"
     ]
    },
    {
     "name": "stderr",
     "output_type": "stream",
     "text": [
      "      9/100      2.84G      1.548      1.653      1.492         88        640: 100%|██████████| 250/250 [00:41<00:00,  6.07it/s]\n",
      "                 Class     Images  Instances      Box(P          R      mAP50  mAP50-95): 100%|██████████| 32/32 [00:04<00:00,  6.40it/s]"
     ]
    },
    {
     "name": "stdout",
     "output_type": "stream",
     "text": [
      "                   all       1000       2338      0.557      0.414      0.437      0.236\n"
     ]
    },
    {
     "name": "stderr",
     "output_type": "stream",
     "text": [
      "\n"
     ]
    },
    {
     "name": "stdout",
     "output_type": "stream",
     "text": [
      "\n",
      "      Epoch    GPU_mem   box_loss   cls_loss   dfl_loss  Instances       Size\n"
     ]
    },
    {
     "name": "stderr",
     "output_type": "stream",
     "text": [
      "     10/100      2.84G      1.527       1.65       1.48         50        640: 100%|██████████| 250/250 [00:41<00:00,  6.03it/s]\n",
      "                 Class     Images  Instances      Box(P          R      mAP50  mAP50-95): 100%|██████████| 32/32 [00:05<00:00,  6.39it/s]\n"
     ]
    },
    {
     "name": "stdout",
     "output_type": "stream",
     "text": [
      "                   all       1000       2338      0.518      0.408      0.418       0.22\n",
      "\n",
      "      Epoch    GPU_mem   box_loss   cls_loss   dfl_loss  Instances       Size\n"
     ]
    },
    {
     "name": "stderr",
     "output_type": "stream",
     "text": [
      "     11/100      2.84G      1.532      1.621      1.476         69        640: 100%|██████████| 250/250 [00:41<00:00,  6.02it/s]\n",
      "                 Class     Images  Instances      Box(P          R      mAP50  mAP50-95): 100%|██████████| 32/32 [00:04<00:00,  6.46it/s]"
     ]
    },
    {
     "name": "stdout",
     "output_type": "stream",
     "text": [
      "                   all       1000       2338      0.607       0.44      0.489      0.273\n"
     ]
    },
    {
     "name": "stderr",
     "output_type": "stream",
     "text": [
      "\n"
     ]
    },
    {
     "name": "stdout",
     "output_type": "stream",
     "text": [
      "\n",
      "      Epoch    GPU_mem   box_loss   cls_loss   dfl_loss  Instances       Size\n"
     ]
    },
    {
     "name": "stderr",
     "output_type": "stream",
     "text": [
      "     12/100      2.84G      1.501      1.592      1.462         49        640: 100%|██████████| 250/250 [00:41<00:00,  6.04it/s]\n",
      "                 Class     Images  Instances      Box(P          R      mAP50  mAP50-95): 100%|██████████| 32/32 [00:04<00:00,  6.46it/s]"
     ]
    },
    {
     "name": "stdout",
     "output_type": "stream",
     "text": [
      "                   all       1000       2338      0.639      0.471      0.524      0.299\n"
     ]
    },
    {
     "name": "stderr",
     "output_type": "stream",
     "text": [
      "\n"
     ]
    },
    {
     "name": "stdout",
     "output_type": "stream",
     "text": [
      "\n",
      "      Epoch    GPU_mem   box_loss   cls_loss   dfl_loss  Instances       Size\n"
     ]
    },
    {
     "name": "stderr",
     "output_type": "stream",
     "text": [
      "     13/100      2.84G      1.468      1.525      1.439         48        640: 100%|██████████| 250/250 [00:42<00:00,  5.94it/s]\n",
      "                 Class     Images  Instances      Box(P          R      mAP50  mAP50-95): 100%|██████████| 32/32 [00:04<00:00,  6.51it/s]"
     ]
    },
    {
     "name": "stdout",
     "output_type": "stream",
     "text": [
      "                   all       1000       2338      0.599       0.47      0.503      0.286\n"
     ]
    },
    {
     "name": "stderr",
     "output_type": "stream",
     "text": [
      "\n"
     ]
    },
    {
     "name": "stdout",
     "output_type": "stream",
     "text": [
      "\n",
      "      Epoch    GPU_mem   box_loss   cls_loss   dfl_loss  Instances       Size\n"
     ]
    },
    {
     "name": "stderr",
     "output_type": "stream",
     "text": [
      "     14/100      2.84G      1.453      1.535      1.431         35        640: 100%|██████████| 250/250 [00:41<00:00,  6.01it/s]\n",
      "                 Class     Images  Instances      Box(P          R      mAP50  mAP50-95): 100%|██████████| 32/32 [00:04<00:00,  6.61it/s]"
     ]
    },
    {
     "name": "stdout",
     "output_type": "stream",
     "text": [
      "                   all       1000       2338      0.591      0.441      0.478       0.27\n"
     ]
    },
    {
     "name": "stderr",
     "output_type": "stream",
     "text": [
      "\n"
     ]
    },
    {
     "name": "stdout",
     "output_type": "stream",
     "text": [
      "\n",
      "      Epoch    GPU_mem   box_loss   cls_loss   dfl_loss  Instances       Size\n"
     ]
    },
    {
     "name": "stderr",
     "output_type": "stream",
     "text": [
      "     15/100      2.84G      1.452      1.488      1.426         68        640: 100%|██████████| 250/250 [00:42<00:00,  5.93it/s]\n",
      "                 Class     Images  Instances      Box(P          R      mAP50  mAP50-95): 100%|██████████| 32/32 [00:04<00:00,  6.70it/s]\n"
     ]
    },
    {
     "name": "stdout",
     "output_type": "stream",
     "text": [
      "                   all       1000       2338      0.632      0.459      0.513      0.298\n",
      "\n",
      "      Epoch    GPU_mem   box_loss   cls_loss   dfl_loss  Instances       Size\n"
     ]
    },
    {
     "name": "stderr",
     "output_type": "stream",
     "text": [
      "     16/100      2.84G       1.44      1.511      1.429         84        640: 100%|██████████| 250/250 [00:41<00:00,  6.02it/s]\n",
      "                 Class     Images  Instances      Box(P          R      mAP50  mAP50-95): 100%|██████████| 32/32 [00:04<00:00,  6.40it/s]"
     ]
    },
    {
     "name": "stdout",
     "output_type": "stream",
     "text": [
      "                   all       1000       2338      0.646      0.468      0.525      0.297\n"
     ]
    },
    {
     "name": "stderr",
     "output_type": "stream",
     "text": [
      "\n"
     ]
    },
    {
     "name": "stdout",
     "output_type": "stream",
     "text": [
      "\n",
      "      Epoch    GPU_mem   box_loss   cls_loss   dfl_loss  Instances       Size\n"
     ]
    },
    {
     "name": "stderr",
     "output_type": "stream",
     "text": [
      "     17/100      2.84G      1.439      1.479      1.413         74        640: 100%|██████████| 250/250 [00:41<00:00,  6.02it/s]\n",
      "                 Class     Images  Instances      Box(P          R      mAP50  mAP50-95): 100%|██████████| 32/32 [00:05<00:00,  6.30it/s]"
     ]
    },
    {
     "name": "stdout",
     "output_type": "stream",
     "text": [
      "                   all       1000       2338      0.643      0.481      0.535      0.313\n"
     ]
    },
    {
     "name": "stderr",
     "output_type": "stream",
     "text": [
      "\n"
     ]
    },
    {
     "name": "stdout",
     "output_type": "stream",
     "text": [
      "\n",
      "      Epoch    GPU_mem   box_loss   cls_loss   dfl_loss  Instances       Size\n"
     ]
    },
    {
     "name": "stderr",
     "output_type": "stream",
     "text": [
      "     18/100      2.84G      1.409       1.44      1.395         40        640: 100%|██████████| 250/250 [00:41<00:00,  6.03it/s]\n",
      "                 Class     Images  Instances      Box(P          R      mAP50  mAP50-95): 100%|██████████| 32/32 [00:04<00:00,  6.65it/s]\n"
     ]
    },
    {
     "name": "stdout",
     "output_type": "stream",
     "text": [
      "                   all       1000       2338      0.589      0.442      0.488      0.283\n",
      "\n",
      "      Epoch    GPU_mem   box_loss   cls_loss   dfl_loss  Instances       Size\n"
     ]
    },
    {
     "name": "stderr",
     "output_type": "stream",
     "text": [
      "     19/100      2.84G      1.399      1.429      1.386         72        640: 100%|██████████| 250/250 [00:41<00:00,  6.04it/s]\n",
      "                 Class     Images  Instances      Box(P          R      mAP50  mAP50-95): 100%|██████████| 32/32 [00:05<00:00,  6.38it/s]"
     ]
    },
    {
     "name": "stdout",
     "output_type": "stream",
     "text": [
      "                   all       1000       2338      0.663       0.47      0.538      0.317\n"
     ]
    },
    {
     "name": "stderr",
     "output_type": "stream",
     "text": [
      "\n"
     ]
    },
    {
     "name": "stdout",
     "output_type": "stream",
     "text": [
      "\n",
      "      Epoch    GPU_mem   box_loss   cls_loss   dfl_loss  Instances       Size\n"
     ]
    },
    {
     "name": "stderr",
     "output_type": "stream",
     "text": [
      "     20/100      2.84G      1.402      1.421      1.394         41        640: 100%|██████████| 250/250 [00:41<00:00,  6.06it/s]\n",
      "                 Class     Images  Instances      Box(P          R      mAP50  mAP50-95): 100%|██████████| 32/32 [00:04<00:00,  6.70it/s]\n"
     ]
    },
    {
     "name": "stdout",
     "output_type": "stream",
     "text": [
      "                   all       1000       2338      0.662      0.488      0.539      0.314\n",
      "\n",
      "      Epoch    GPU_mem   box_loss   cls_loss   dfl_loss  Instances       Size\n"
     ]
    },
    {
     "name": "stderr",
     "output_type": "stream",
     "text": [
      "     21/100      2.84G      1.374       1.41      1.375         18        640: 100%|██████████| 250/250 [00:41<00:00,  6.03it/s]\n",
      "                 Class     Images  Instances      Box(P          R      mAP50  mAP50-95): 100%|██████████| 32/32 [00:04<00:00,  6.61it/s]\n"
     ]
    },
    {
     "name": "stdout",
     "output_type": "stream",
     "text": [
      "                   all       1000       2338      0.646      0.483      0.538      0.313\n",
      "\n",
      "      Epoch    GPU_mem   box_loss   cls_loss   dfl_loss  Instances       Size\n"
     ]
    },
    {
     "name": "stderr",
     "output_type": "stream",
     "text": [
      "     22/100      2.84G      1.367      1.393      1.374         61        640: 100%|██████████| 250/250 [00:41<00:00,  6.01it/s]\n",
      "                 Class     Images  Instances      Box(P          R      mAP50  mAP50-95): 100%|██████████| 32/32 [00:04<00:00,  6.57it/s]\n"
     ]
    },
    {
     "name": "stdout",
     "output_type": "stream",
     "text": [
      "                   all       1000       2338      0.686      0.477      0.557      0.329\n",
      "\n",
      "      Epoch    GPU_mem   box_loss   cls_loss   dfl_loss  Instances       Size\n"
     ]
    },
    {
     "name": "stderr",
     "output_type": "stream",
     "text": [
      "     23/100      2.84G      1.363      1.395      1.375         59        640: 100%|██████████| 250/250 [00:42<00:00,  5.95it/s]\n",
      "                 Class     Images  Instances      Box(P          R      mAP50  mAP50-95): 100%|██████████| 32/32 [00:05<00:00,  6.27it/s]\n"
     ]
    },
    {
     "name": "stdout",
     "output_type": "stream",
     "text": [
      "                   all       1000       2338      0.686      0.509      0.572      0.337\n",
      "\n",
      "      Epoch    GPU_mem   box_loss   cls_loss   dfl_loss  Instances       Size\n"
     ]
    },
    {
     "name": "stderr",
     "output_type": "stream",
     "text": [
      "     24/100      2.84G      1.376      1.371      1.366         54        640: 100%|██████████| 250/250 [00:42<00:00,  5.88it/s]\n",
      "                 Class     Images  Instances      Box(P          R      mAP50  mAP50-95): 100%|██████████| 32/32 [00:04<00:00,  6.49it/s]\n"
     ]
    },
    {
     "name": "stdout",
     "output_type": "stream",
     "text": [
      "                   all       1000       2338      0.677      0.488      0.561      0.331\n",
      "\n",
      "      Epoch    GPU_mem   box_loss   cls_loss   dfl_loss  Instances       Size\n"
     ]
    },
    {
     "name": "stderr",
     "output_type": "stream",
     "text": [
      "     25/100      2.84G      1.345      1.364      1.351         54        640: 100%|██████████| 250/250 [00:42<00:00,  5.93it/s]\n",
      "                 Class     Images  Instances      Box(P          R      mAP50  mAP50-95): 100%|██████████| 32/32 [00:05<00:00,  6.23it/s]"
     ]
    },
    {
     "name": "stdout",
     "output_type": "stream",
     "text": [
      "                   all       1000       2338      0.664       0.49      0.554      0.325\n"
     ]
    },
    {
     "name": "stderr",
     "output_type": "stream",
     "text": [
      "\n"
     ]
    },
    {
     "name": "stdout",
     "output_type": "stream",
     "text": [
      "\n",
      "      Epoch    GPU_mem   box_loss   cls_loss   dfl_loss  Instances       Size\n"
     ]
    },
    {
     "name": "stderr",
     "output_type": "stream",
     "text": [
      "     26/100      2.84G      1.358      1.352      1.354         74        640: 100%|██████████| 250/250 [00:42<00:00,  5.87it/s]\n",
      "                 Class     Images  Instances      Box(P          R      mAP50  mAP50-95): 100%|██████████| 32/32 [00:05<00:00,  6.24it/s]"
     ]
    },
    {
     "name": "stdout",
     "output_type": "stream",
     "text": [
      "                   all       1000       2338      0.682      0.504      0.568       0.34\n"
     ]
    },
    {
     "name": "stderr",
     "output_type": "stream",
     "text": [
      "\n"
     ]
    },
    {
     "name": "stdout",
     "output_type": "stream",
     "text": [
      "\n",
      "      Epoch    GPU_mem   box_loss   cls_loss   dfl_loss  Instances       Size\n"
     ]
    },
    {
     "name": "stderr",
     "output_type": "stream",
     "text": [
      "     27/100      2.84G      1.338      1.328      1.354         98        640: 100%|██████████| 250/250 [00:42<00:00,  5.94it/s]\n",
      "                 Class     Images  Instances      Box(P          R      mAP50  mAP50-95): 100%|██████████| 32/32 [00:04<00:00,  6.45it/s]\n"
     ]
    },
    {
     "name": "stdout",
     "output_type": "stream",
     "text": [
      "                   all       1000       2338      0.662       0.51      0.564       0.34\n",
      "\n",
      "      Epoch    GPU_mem   box_loss   cls_loss   dfl_loss  Instances       Size\n"
     ]
    },
    {
     "name": "stderr",
     "output_type": "stream",
     "text": [
      "     28/100      2.84G      1.343      1.324      1.342         48        640: 100%|██████████| 250/250 [00:42<00:00,  5.95it/s]\n",
      "                 Class     Images  Instances      Box(P          R      mAP50  mAP50-95): 100%|██████████| 32/32 [00:05<00:00,  6.18it/s]"
     ]
    },
    {
     "name": "stdout",
     "output_type": "stream",
     "text": [
      "                   all       1000       2338      0.657      0.513      0.575      0.346\n"
     ]
    },
    {
     "name": "stderr",
     "output_type": "stream",
     "text": [
      "\n"
     ]
    },
    {
     "name": "stdout",
     "output_type": "stream",
     "text": [
      "\n",
      "      Epoch    GPU_mem   box_loss   cls_loss   dfl_loss  Instances       Size\n"
     ]
    },
    {
     "name": "stderr",
     "output_type": "stream",
     "text": [
      "     29/100      2.84G      1.324      1.294      1.336         50        640: 100%|██████████| 250/250 [00:42<00:00,  5.93it/s]\n",
      "                 Class     Images  Instances      Box(P          R      mAP50  mAP50-95): 100%|██████████| 32/32 [00:05<00:00,  6.24it/s]\n"
     ]
    },
    {
     "name": "stdout",
     "output_type": "stream",
     "text": [
      "                   all       1000       2338       0.67      0.517      0.584      0.348\n",
      "\n",
      "      Epoch    GPU_mem   box_loss   cls_loss   dfl_loss  Instances       Size\n"
     ]
    },
    {
     "name": "stderr",
     "output_type": "stream",
     "text": [
      "     30/100      2.84G      1.311      1.289      1.326         66        640: 100%|██████████| 250/250 [00:42<00:00,  5.91it/s]\n",
      "                 Class     Images  Instances      Box(P          R      mAP50  mAP50-95): 100%|██████████| 32/32 [00:05<00:00,  5.92it/s]"
     ]
    },
    {
     "name": "stdout",
     "output_type": "stream",
     "text": [
      "                   all       1000       2338      0.711      0.509      0.582      0.352\n"
     ]
    },
    {
     "name": "stderr",
     "output_type": "stream",
     "text": [
      "\n"
     ]
    },
    {
     "name": "stdout",
     "output_type": "stream",
     "text": [
      "\n",
      "      Epoch    GPU_mem   box_loss   cls_loss   dfl_loss  Instances       Size\n"
     ]
    },
    {
     "name": "stderr",
     "output_type": "stream",
     "text": [
      "     31/100      2.84G      1.298      1.295      1.333         68        640: 100%|██████████| 250/250 [00:42<00:00,  5.87it/s]\n",
      "                 Class     Images  Instances      Box(P          R      mAP50  mAP50-95): 100%|██████████| 32/32 [00:05<00:00,  6.11it/s]"
     ]
    },
    {
     "name": "stdout",
     "output_type": "stream",
     "text": [
      "                   all       1000       2338      0.658      0.521       0.58      0.351\n"
     ]
    },
    {
     "name": "stderr",
     "output_type": "stream",
     "text": [
      "\n"
     ]
    },
    {
     "name": "stdout",
     "output_type": "stream",
     "text": [
      "\n",
      "      Epoch    GPU_mem   box_loss   cls_loss   dfl_loss  Instances       Size\n"
     ]
    },
    {
     "name": "stderr",
     "output_type": "stream",
     "text": [
      "     32/100      2.84G      1.306      1.268      1.319         63        640: 100%|██████████| 250/250 [00:42<00:00,  5.87it/s]\n",
      "                 Class     Images  Instances      Box(P          R      mAP50  mAP50-95): 100%|██████████| 32/32 [00:05<00:00,  6.20it/s]"
     ]
    },
    {
     "name": "stdout",
     "output_type": "stream",
     "text": [
      "                   all       1000       2338      0.682        0.5      0.582      0.355\n"
     ]
    },
    {
     "name": "stderr",
     "output_type": "stream",
     "text": [
      "\n"
     ]
    },
    {
     "name": "stdout",
     "output_type": "stream",
     "text": [
      "\n",
      "      Epoch    GPU_mem   box_loss   cls_loss   dfl_loss  Instances       Size\n"
     ]
    },
    {
     "name": "stderr",
     "output_type": "stream",
     "text": [
      "     33/100      2.84G      1.276      1.239       1.31         47        640: 100%|██████████| 250/250 [00:42<00:00,  5.88it/s]\n",
      "                 Class     Images  Instances      Box(P          R      mAP50  mAP50-95): 100%|██████████| 32/32 [00:05<00:00,  6.14it/s]"
     ]
    },
    {
     "name": "stdout",
     "output_type": "stream",
     "text": [
      "                   all       1000       2338      0.678      0.506       0.58       0.35\n"
     ]
    },
    {
     "name": "stderr",
     "output_type": "stream",
     "text": [
      "\n"
     ]
    },
    {
     "name": "stdout",
     "output_type": "stream",
     "text": [
      "\n",
      "      Epoch    GPU_mem   box_loss   cls_loss   dfl_loss  Instances       Size\n"
     ]
    },
    {
     "name": "stderr",
     "output_type": "stream",
     "text": [
      "     34/100      2.84G      1.281      1.236      1.318         68        640: 100%|██████████| 250/250 [00:42<00:00,  5.91it/s]\n",
      "                 Class     Images  Instances      Box(P          R      mAP50  mAP50-95): 100%|██████████| 32/32 [00:04<00:00,  6.42it/s]"
     ]
    },
    {
     "name": "stdout",
     "output_type": "stream",
     "text": [
      "                   all       1000       2338      0.707      0.512      0.593      0.359\n"
     ]
    },
    {
     "name": "stderr",
     "output_type": "stream",
     "text": [
      "\n"
     ]
    },
    {
     "name": "stdout",
     "output_type": "stream",
     "text": [
      "\n",
      "      Epoch    GPU_mem   box_loss   cls_loss   dfl_loss  Instances       Size\n"
     ]
    },
    {
     "name": "stderr",
     "output_type": "stream",
     "text": [
      "     35/100      2.84G      1.277      1.224      1.305         48        640: 100%|██████████| 250/250 [00:42<00:00,  5.87it/s]\n",
      "                 Class     Images  Instances      Box(P          R      mAP50  mAP50-95): 100%|██████████| 32/32 [00:05<00:00,  6.08it/s]"
     ]
    },
    {
     "name": "stdout",
     "output_type": "stream",
     "text": [
      "                   all       1000       2338      0.675      0.531      0.589      0.361\n"
     ]
    },
    {
     "name": "stderr",
     "output_type": "stream",
     "text": [
      "\n"
     ]
    },
    {
     "name": "stdout",
     "output_type": "stream",
     "text": [
      "\n",
      "      Epoch    GPU_mem   box_loss   cls_loss   dfl_loss  Instances       Size\n"
     ]
    },
    {
     "name": "stderr",
     "output_type": "stream",
     "text": [
      "     36/100      2.84G      1.274       1.21      1.299         53        640: 100%|██████████| 250/250 [00:42<00:00,  5.90it/s]\n",
      "                 Class     Images  Instances      Box(P          R      mAP50  mAP50-95): 100%|██████████| 32/32 [00:05<00:00,  6.38it/s]\n"
     ]
    },
    {
     "name": "stdout",
     "output_type": "stream",
     "text": [
      "                   all       1000       2338      0.702      0.516      0.595      0.365\n",
      "\n",
      "      Epoch    GPU_mem   box_loss   cls_loss   dfl_loss  Instances       Size\n"
     ]
    },
    {
     "name": "stderr",
     "output_type": "stream",
     "text": [
      "     37/100      2.84G      1.269      1.224      1.293         19        640: 100%|██████████| 250/250 [00:42<00:00,  5.88it/s]\n",
      "                 Class     Images  Instances      Box(P          R      mAP50  mAP50-95): 100%|██████████| 32/32 [00:05<00:00,  6.13it/s]"
     ]
    },
    {
     "name": "stdout",
     "output_type": "stream",
     "text": [
      "                   all       1000       2338      0.688      0.523      0.584      0.355\n"
     ]
    },
    {
     "name": "stderr",
     "output_type": "stream",
     "text": [
      "\n"
     ]
    },
    {
     "name": "stdout",
     "output_type": "stream",
     "text": [
      "\n",
      "      Epoch    GPU_mem   box_loss   cls_loss   dfl_loss  Instances       Size\n"
     ]
    },
    {
     "name": "stderr",
     "output_type": "stream",
     "text": [
      "     38/100      2.84G      1.261      1.196      1.294         92        640: 100%|██████████| 250/250 [00:42<00:00,  5.93it/s]\n",
      "                 Class     Images  Instances      Box(P          R      mAP50  mAP50-95): 100%|██████████| 32/32 [00:04<00:00,  6.48it/s]\n"
     ]
    },
    {
     "name": "stdout",
     "output_type": "stream",
     "text": [
      "                   all       1000       2338      0.709      0.507      0.596      0.363\n",
      "\n",
      "      Epoch    GPU_mem   box_loss   cls_loss   dfl_loss  Instances       Size\n"
     ]
    },
    {
     "name": "stderr",
     "output_type": "stream",
     "text": [
      "     39/100      2.84G      1.262      1.205      1.301         52        640: 100%|██████████| 250/250 [00:42<00:00,  5.88it/s]\n",
      "                 Class     Images  Instances      Box(P          R      mAP50  mAP50-95): 100%|██████████| 32/32 [00:05<00:00,  6.10it/s]"
     ]
    },
    {
     "name": "stdout",
     "output_type": "stream",
     "text": [
      "                   all       1000       2338      0.706      0.525      0.591      0.354\n"
     ]
    },
    {
     "name": "stderr",
     "output_type": "stream",
     "text": [
      "\n"
     ]
    },
    {
     "name": "stdout",
     "output_type": "stream",
     "text": [
      "\n",
      "      Epoch    GPU_mem   box_loss   cls_loss   dfl_loss  Instances       Size\n"
     ]
    },
    {
     "name": "stderr",
     "output_type": "stream",
     "text": [
      "     40/100      2.84G      1.249      1.186       1.29         74        640: 100%|██████████| 250/250 [00:42<00:00,  5.91it/s]\n",
      "                 Class     Images  Instances      Box(P          R      mAP50  mAP50-95): 100%|██████████| 32/32 [00:05<00:00,  6.39it/s]"
     ]
    },
    {
     "name": "stdout",
     "output_type": "stream",
     "text": [
      "                   all       1000       2338      0.686      0.539      0.605      0.369\n"
     ]
    },
    {
     "name": "stderr",
     "output_type": "stream",
     "text": [
      "\n"
     ]
    },
    {
     "name": "stdout",
     "output_type": "stream",
     "text": [
      "\n",
      "      Epoch    GPU_mem   box_loss   cls_loss   dfl_loss  Instances       Size\n"
     ]
    },
    {
     "name": "stderr",
     "output_type": "stream",
     "text": [
      "     41/100      2.84G      1.253      1.174      1.289         46        640: 100%|██████████| 250/250 [00:42<00:00,  5.91it/s]\n",
      "                 Class     Images  Instances      Box(P          R      mAP50  mAP50-95): 100%|██████████| 32/32 [00:05<00:00,  6.35it/s]"
     ]
    },
    {
     "name": "stdout",
     "output_type": "stream",
     "text": [
      "                   all       1000       2338      0.698      0.524      0.599      0.363\n"
     ]
    },
    {
     "name": "stderr",
     "output_type": "stream",
     "text": [
      "\n"
     ]
    },
    {
     "name": "stdout",
     "output_type": "stream",
     "text": [
      "\n",
      "      Epoch    GPU_mem   box_loss   cls_loss   dfl_loss  Instances       Size\n"
     ]
    },
    {
     "name": "stderr",
     "output_type": "stream",
     "text": [
      "     42/100      2.84G      1.232       1.17      1.282         97        640: 100%|██████████| 250/250 [00:42<00:00,  5.91it/s]\n",
      "                 Class     Images  Instances      Box(P          R      mAP50  mAP50-95): 100%|██████████| 32/32 [00:04<00:00,  6.51it/s]"
     ]
    },
    {
     "name": "stdout",
     "output_type": "stream",
     "text": [
      "                   all       1000       2338      0.729      0.518      0.595      0.363\n"
     ]
    },
    {
     "name": "stderr",
     "output_type": "stream",
     "text": [
      "\n"
     ]
    },
    {
     "name": "stdout",
     "output_type": "stream",
     "text": [
      "\n",
      "      Epoch    GPU_mem   box_loss   cls_loss   dfl_loss  Instances       Size\n"
     ]
    },
    {
     "name": "stderr",
     "output_type": "stream",
     "text": [
      "     43/100      2.84G      1.241      1.167      1.283         64        640: 100%|██████████| 250/250 [00:41<00:00,  5.96it/s]\n",
      "                 Class     Images  Instances      Box(P          R      mAP50  mAP50-95): 100%|██████████| 32/32 [00:05<00:00,  6.14it/s]"
     ]
    },
    {
     "name": "stdout",
     "output_type": "stream",
     "text": [
      "                   all       1000       2338      0.691      0.545      0.603      0.373\n"
     ]
    },
    {
     "name": "stderr",
     "output_type": "stream",
     "text": [
      "\n"
     ]
    },
    {
     "name": "stdout",
     "output_type": "stream",
     "text": [
      "\n",
      "      Epoch    GPU_mem   box_loss   cls_loss   dfl_loss  Instances       Size\n"
     ]
    },
    {
     "name": "stderr",
     "output_type": "stream",
     "text": [
      "     44/100      2.84G      1.229      1.142      1.267         67        640: 100%|██████████| 250/250 [00:42<00:00,  5.88it/s]\n",
      "                 Class     Images  Instances      Box(P          R      mAP50  mAP50-95): 100%|██████████| 32/32 [00:04<00:00,  6.65it/s]"
     ]
    },
    {
     "name": "stdout",
     "output_type": "stream",
     "text": [
      "                   all       1000       2338      0.721      0.512      0.598      0.369\n"
     ]
    },
    {
     "name": "stderr",
     "output_type": "stream",
     "text": [
      "\n"
     ]
    },
    {
     "name": "stdout",
     "output_type": "stream",
     "text": [
      "\n",
      "      Epoch    GPU_mem   box_loss   cls_loss   dfl_loss  Instances       Size\n"
     ]
    },
    {
     "name": "stderr",
     "output_type": "stream",
     "text": [
      "     45/100      2.84G      1.229      1.167      1.275         57        640: 100%|██████████| 250/250 [00:42<00:00,  5.95it/s]\n",
      "                 Class     Images  Instances      Box(P          R      mAP50  mAP50-95): 100%|██████████| 32/32 [00:05<00:00,  6.25it/s]"
     ]
    },
    {
     "name": "stdout",
     "output_type": "stream",
     "text": [
      "                   all       1000       2338       0.71      0.541      0.612      0.377\n"
     ]
    },
    {
     "name": "stderr",
     "output_type": "stream",
     "text": [
      "\n"
     ]
    },
    {
     "name": "stdout",
     "output_type": "stream",
     "text": [
      "\n",
      "      Epoch    GPU_mem   box_loss   cls_loss   dfl_loss  Instances       Size\n"
     ]
    },
    {
     "name": "stderr",
     "output_type": "stream",
     "text": [
      "     46/100      2.84G       1.23      1.149      1.276         39        640: 100%|██████████| 250/250 [00:41<00:00,  5.97it/s]\n",
      "                 Class     Images  Instances      Box(P          R      mAP50  mAP50-95): 100%|██████████| 32/32 [00:04<00:00,  6.40it/s]"
     ]
    },
    {
     "name": "stdout",
     "output_type": "stream",
     "text": [
      "                   all       1000       2338      0.709      0.523       0.61      0.374\n"
     ]
    },
    {
     "name": "stderr",
     "output_type": "stream",
     "text": [
      "\n"
     ]
    },
    {
     "name": "stdout",
     "output_type": "stream",
     "text": [
      "\n",
      "      Epoch    GPU_mem   box_loss   cls_loss   dfl_loss  Instances       Size\n"
     ]
    },
    {
     "name": "stderr",
     "output_type": "stream",
     "text": [
      "     47/100      2.84G      1.201      1.119      1.253         50        640: 100%|██████████| 250/250 [00:41<00:00,  6.00it/s]\n",
      "                 Class     Images  Instances      Box(P          R      mAP50  mAP50-95): 100%|██████████| 32/32 [00:04<00:00,  6.53it/s]"
     ]
    },
    {
     "name": "stdout",
     "output_type": "stream",
     "text": [
      "                   all       1000       2338      0.694      0.538      0.604      0.376\n"
     ]
    },
    {
     "name": "stderr",
     "output_type": "stream",
     "text": [
      "\n"
     ]
    },
    {
     "name": "stdout",
     "output_type": "stream",
     "text": [
      "\n",
      "      Epoch    GPU_mem   box_loss   cls_loss   dfl_loss  Instances       Size\n"
     ]
    },
    {
     "name": "stderr",
     "output_type": "stream",
     "text": [
      "     48/100      2.84G      1.206       1.12      1.261         63        640: 100%|██████████| 250/250 [00:42<00:00,  5.91it/s]\n",
      "                 Class     Images  Instances      Box(P          R      mAP50  mAP50-95): 100%|██████████| 32/32 [00:05<00:00,  6.24it/s]"
     ]
    },
    {
     "name": "stdout",
     "output_type": "stream",
     "text": [
      "                   all       1000       2338      0.709       0.53      0.607      0.375\n"
     ]
    },
    {
     "name": "stderr",
     "output_type": "stream",
     "text": [
      "\n"
     ]
    },
    {
     "name": "stdout",
     "output_type": "stream",
     "text": [
      "\n",
      "      Epoch    GPU_mem   box_loss   cls_loss   dfl_loss  Instances       Size\n"
     ]
    },
    {
     "name": "stderr",
     "output_type": "stream",
     "text": [
      "     49/100      2.84G      1.205      1.116      1.257         39        640: 100%|██████████| 250/250 [00:41<00:00,  5.97it/s]\n",
      "                 Class     Images  Instances      Box(P          R      mAP50  mAP50-95): 100%|██████████| 32/32 [00:04<00:00,  6.67it/s]\n"
     ]
    },
    {
     "name": "stdout",
     "output_type": "stream",
     "text": [
      "                   all       1000       2338      0.663       0.53      0.593      0.362\n",
      "\n",
      "      Epoch    GPU_mem   box_loss   cls_loss   dfl_loss  Instances       Size\n"
     ]
    },
    {
     "name": "stderr",
     "output_type": "stream",
     "text": [
      "     50/100      2.84G      1.188      1.093      1.245         89        640: 100%|██████████| 250/250 [00:42<00:00,  5.94it/s]\n",
      "                 Class     Images  Instances      Box(P          R      mAP50  mAP50-95): 100%|██████████| 32/32 [00:04<00:00,  6.63it/s]"
     ]
    },
    {
     "name": "stdout",
     "output_type": "stream",
     "text": [
      "                   all       1000       2338      0.706      0.531      0.609      0.378\n"
     ]
    },
    {
     "name": "stderr",
     "output_type": "stream",
     "text": [
      "\n"
     ]
    },
    {
     "name": "stdout",
     "output_type": "stream",
     "text": [
      "\n",
      "      Epoch    GPU_mem   box_loss   cls_loss   dfl_loss  Instances       Size\n"
     ]
    },
    {
     "name": "stderr",
     "output_type": "stream",
     "text": [
      "     51/100      2.84G      1.193      1.095      1.247         63        640: 100%|██████████| 250/250 [00:42<00:00,  5.93it/s]\n",
      "                 Class     Images  Instances      Box(P          R      mAP50  mAP50-95): 100%|██████████| 32/32 [00:04<00:00,  6.46it/s]"
     ]
    },
    {
     "name": "stdout",
     "output_type": "stream",
     "text": [
      "                   all       1000       2338      0.705      0.538      0.618      0.385\n"
     ]
    },
    {
     "name": "stderr",
     "output_type": "stream",
     "text": [
      "\n"
     ]
    },
    {
     "name": "stdout",
     "output_type": "stream",
     "text": [
      "\n",
      "      Epoch    GPU_mem   box_loss   cls_loss   dfl_loss  Instances       Size\n"
     ]
    },
    {
     "name": "stderr",
     "output_type": "stream",
     "text": [
      "     52/100      2.84G      1.175      1.083      1.237         80        640: 100%|██████████| 250/250 [00:41<00:00,  5.98it/s]\n",
      "                 Class     Images  Instances      Box(P          R      mAP50  mAP50-95): 100%|██████████| 32/32 [00:04<00:00,  6.52it/s]"
     ]
    },
    {
     "name": "stdout",
     "output_type": "stream",
     "text": [
      "                   all       1000       2338      0.719      0.538       0.62      0.383\n"
     ]
    },
    {
     "name": "stderr",
     "output_type": "stream",
     "text": [
      "\n"
     ]
    },
    {
     "name": "stdout",
     "output_type": "stream",
     "text": [
      "\n",
      "      Epoch    GPU_mem   box_loss   cls_loss   dfl_loss  Instances       Size\n"
     ]
    },
    {
     "name": "stderr",
     "output_type": "stream",
     "text": [
      "     53/100      2.84G      1.179      1.079      1.241         37        640: 100%|██████████| 250/250 [00:41<00:00,  6.00it/s]\n",
      "                 Class     Images  Instances      Box(P          R      mAP50  mAP50-95): 100%|██████████| 32/32 [00:04<00:00,  6.43it/s]\n"
     ]
    },
    {
     "name": "stdout",
     "output_type": "stream",
     "text": [
      "                   all       1000       2338      0.731      0.524      0.616      0.384\n",
      "\n",
      "      Epoch    GPU_mem   box_loss   cls_loss   dfl_loss  Instances       Size\n"
     ]
    },
    {
     "name": "stderr",
     "output_type": "stream",
     "text": [
      "     54/100      2.84G      1.181      1.074      1.244         67        640: 100%|██████████| 250/250 [00:41<00:00,  6.02it/s]\n",
      "                 Class     Images  Instances      Box(P          R      mAP50  mAP50-95): 100%|██████████| 32/32 [00:05<00:00,  6.33it/s]\n"
     ]
    },
    {
     "name": "stdout",
     "output_type": "stream",
     "text": [
      "                   all       1000       2338      0.711      0.543      0.615      0.387\n",
      "\n",
      "      Epoch    GPU_mem   box_loss   cls_loss   dfl_loss  Instances       Size\n"
     ]
    },
    {
     "name": "stderr",
     "output_type": "stream",
     "text": [
      "     55/100      2.84G      1.166      1.068      1.236         79        640: 100%|██████████| 250/250 [00:41<00:00,  6.02it/s]\n",
      "                 Class     Images  Instances      Box(P          R      mAP50  mAP50-95): 100%|██████████| 32/32 [00:04<00:00,  6.45it/s]"
     ]
    },
    {
     "name": "stdout",
     "output_type": "stream",
     "text": [
      "                   all       1000       2338      0.727      0.519      0.613      0.385\n"
     ]
    },
    {
     "name": "stderr",
     "output_type": "stream",
     "text": [
      "\n"
     ]
    },
    {
     "name": "stdout",
     "output_type": "stream",
     "text": [
      "\n",
      "      Epoch    GPU_mem   box_loss   cls_loss   dfl_loss  Instances       Size\n"
     ]
    },
    {
     "name": "stderr",
     "output_type": "stream",
     "text": [
      "     56/100      2.84G       1.17      1.056      1.234         71        640: 100%|██████████| 250/250 [00:41<00:00,  5.99it/s]\n",
      "                 Class     Images  Instances      Box(P          R      mAP50  mAP50-95): 100%|██████████| 32/32 [00:04<00:00,  6.65it/s]\n"
     ]
    },
    {
     "name": "stdout",
     "output_type": "stream",
     "text": [
      "                   all       1000       2338      0.694      0.546      0.614      0.387\n",
      "\n",
      "      Epoch    GPU_mem   box_loss   cls_loss   dfl_loss  Instances       Size\n"
     ]
    },
    {
     "name": "stderr",
     "output_type": "stream",
     "text": [
      "     57/100      2.84G      1.166      1.052      1.232         28        640: 100%|██████████| 250/250 [00:41<00:00,  5.98it/s]\n",
      "                 Class     Images  Instances      Box(P          R      mAP50  mAP50-95): 100%|██████████| 32/32 [00:04<00:00,  6.62it/s]"
     ]
    },
    {
     "name": "stdout",
     "output_type": "stream",
     "text": [
      "                   all       1000       2338      0.718      0.531      0.618      0.385\n"
     ]
    },
    {
     "name": "stderr",
     "output_type": "stream",
     "text": [
      "\n"
     ]
    },
    {
     "name": "stdout",
     "output_type": "stream",
     "text": [
      "\n",
      "      Epoch    GPU_mem   box_loss   cls_loss   dfl_loss  Instances       Size\n"
     ]
    },
    {
     "name": "stderr",
     "output_type": "stream",
     "text": [
      "     58/100      2.84G      1.168      1.061      1.227         87        640: 100%|██████████| 250/250 [00:41<00:00,  6.00it/s]\n",
      "                 Class     Images  Instances      Box(P          R      mAP50  mAP50-95): 100%|██████████| 32/32 [00:04<00:00,  6.77it/s]\n"
     ]
    },
    {
     "name": "stdout",
     "output_type": "stream",
     "text": [
      "                   all       1000       2338      0.701      0.556      0.625      0.387\n",
      "\n",
      "      Epoch    GPU_mem   box_loss   cls_loss   dfl_loss  Instances       Size\n"
     ]
    },
    {
     "name": "stderr",
     "output_type": "stream",
     "text": [
      "     59/100      2.84G      1.163      1.031      1.224         78        640: 100%|██████████| 250/250 [00:41<00:00,  5.96it/s]\n",
      "                 Class     Images  Instances      Box(P          R      mAP50  mAP50-95): 100%|██████████| 32/32 [00:04<00:00,  6.60it/s]"
     ]
    },
    {
     "name": "stdout",
     "output_type": "stream",
     "text": [
      "                   all       1000       2338      0.705      0.556      0.623      0.387\n"
     ]
    },
    {
     "name": "stderr",
     "output_type": "stream",
     "text": [
      "\n"
     ]
    },
    {
     "name": "stdout",
     "output_type": "stream",
     "text": [
      "\n",
      "      Epoch    GPU_mem   box_loss   cls_loss   dfl_loss  Instances       Size\n"
     ]
    },
    {
     "name": "stderr",
     "output_type": "stream",
     "text": [
      "     60/100      2.84G       1.16      1.028      1.227         62        640: 100%|██████████| 250/250 [00:42<00:00,  5.91it/s]\n",
      "                 Class     Images  Instances      Box(P          R      mAP50  mAP50-95): 100%|██████████| 32/32 [00:05<00:00,  6.21it/s]"
     ]
    },
    {
     "name": "stdout",
     "output_type": "stream",
     "text": [
      "                   all       1000       2338      0.708      0.549      0.623       0.39\n"
     ]
    },
    {
     "name": "stderr",
     "output_type": "stream",
     "text": [
      "\n"
     ]
    },
    {
     "name": "stdout",
     "output_type": "stream",
     "text": [
      "\n",
      "      Epoch    GPU_mem   box_loss   cls_loss   dfl_loss  Instances       Size\n"
     ]
    },
    {
     "name": "stderr",
     "output_type": "stream",
     "text": [
      "     61/100      2.84G      1.149      1.009      1.211         55        640: 100%|██████████| 250/250 [00:42<00:00,  5.85it/s]\n",
      "                 Class     Images  Instances      Box(P          R      mAP50  mAP50-95): 100%|██████████| 32/32 [00:04<00:00,  6.54it/s]"
     ]
    },
    {
     "name": "stdout",
     "output_type": "stream",
     "text": [
      "                   all       1000       2338      0.734      0.536      0.626      0.386\n"
     ]
    },
    {
     "name": "stderr",
     "output_type": "stream",
     "text": [
      "\n"
     ]
    },
    {
     "name": "stdout",
     "output_type": "stream",
     "text": [
      "\n",
      "      Epoch    GPU_mem   box_loss   cls_loss   dfl_loss  Instances       Size\n"
     ]
    },
    {
     "name": "stderr",
     "output_type": "stream",
     "text": [
      "     62/100      2.84G      1.134      1.004       1.21         33        640: 100%|██████████| 250/250 [00:42<00:00,  5.90it/s]\n",
      "                 Class     Images  Instances      Box(P          R      mAP50  mAP50-95): 100%|██████████| 32/32 [00:04<00:00,  6.47it/s]"
     ]
    },
    {
     "name": "stdout",
     "output_type": "stream",
     "text": [
      "                   all       1000       2338      0.729      0.546      0.626      0.391\n"
     ]
    },
    {
     "name": "stderr",
     "output_type": "stream",
     "text": [
      "\n"
     ]
    },
    {
     "name": "stdout",
     "output_type": "stream",
     "text": [
      "\n",
      "      Epoch    GPU_mem   box_loss   cls_loss   dfl_loss  Instances       Size\n"
     ]
    },
    {
     "name": "stderr",
     "output_type": "stream",
     "text": [
      "     63/100      2.84G      1.149     0.9975      1.216         73        640: 100%|██████████| 250/250 [00:42<00:00,  5.87it/s]\n",
      "                 Class     Images  Instances      Box(P          R      mAP50  mAP50-95): 100%|██████████| 32/32 [00:05<00:00,  6.21it/s]\n"
     ]
    },
    {
     "name": "stdout",
     "output_type": "stream",
     "text": [
      "                   all       1000       2338      0.703       0.55      0.627      0.392\n",
      "\n",
      "      Epoch    GPU_mem   box_loss   cls_loss   dfl_loss  Instances       Size\n"
     ]
    },
    {
     "name": "stderr",
     "output_type": "stream",
     "text": [
      "     64/100      2.84G      1.137          1      1.204         46        640: 100%|██████████| 250/250 [00:42<00:00,  5.88it/s]\n",
      "                 Class     Images  Instances      Box(P          R      mAP50  mAP50-95): 100%|██████████| 32/32 [00:04<00:00,  6.41it/s]"
     ]
    },
    {
     "name": "stdout",
     "output_type": "stream",
     "text": [
      "                   all       1000       2338      0.745      0.535      0.628      0.394\n"
     ]
    },
    {
     "name": "stderr",
     "output_type": "stream",
     "text": [
      "\n"
     ]
    },
    {
     "name": "stdout",
     "output_type": "stream",
     "text": [
      "\n",
      "      Epoch    GPU_mem   box_loss   cls_loss   dfl_loss  Instances       Size\n"
     ]
    },
    {
     "name": "stderr",
     "output_type": "stream",
     "text": [
      "     65/100      2.84G      1.115     0.9801      1.199         40        640: 100%|██████████| 250/250 [00:42<00:00,  5.90it/s]\n",
      "                 Class     Images  Instances      Box(P          R      mAP50  mAP50-95): 100%|██████████| 32/32 [00:05<00:00,  5.45it/s]"
     ]
    },
    {
     "name": "stdout",
     "output_type": "stream",
     "text": [
      "                   all       1000       2338      0.692      0.566      0.628      0.399\n"
     ]
    },
    {
     "name": "stderr",
     "output_type": "stream",
     "text": [
      "\n"
     ]
    },
    {
     "name": "stdout",
     "output_type": "stream",
     "text": [
      "\n",
      "      Epoch    GPU_mem   box_loss   cls_loss   dfl_loss  Instances       Size\n"
     ]
    },
    {
     "name": "stderr",
     "output_type": "stream",
     "text": [
      "     66/100      2.84G      1.119     0.9813      1.197         76        640: 100%|██████████| 250/250 [00:42<00:00,  5.90it/s]\n",
      "                 Class     Images  Instances      Box(P          R      mAP50  mAP50-95): 100%|██████████| 32/32 [00:04<00:00,  6.71it/s]\n"
     ]
    },
    {
     "name": "stdout",
     "output_type": "stream",
     "text": [
      "                   all       1000       2338      0.714       0.56       0.63      0.395\n",
      "\n",
      "      Epoch    GPU_mem   box_loss   cls_loss   dfl_loss  Instances       Size\n"
     ]
    },
    {
     "name": "stderr",
     "output_type": "stream",
     "text": [
      "     67/100      2.84G      1.125     0.9829      1.206         55        640: 100%|██████████| 250/250 [00:42<00:00,  5.94it/s]\n",
      "                 Class     Images  Instances      Box(P          R      mAP50  mAP50-95): 100%|██████████| 32/32 [00:05<00:00,  6.24it/s]"
     ]
    },
    {
     "name": "stdout",
     "output_type": "stream",
     "text": [
      "                   all       1000       2338       0.75      0.543      0.632      0.395\n"
     ]
    },
    {
     "name": "stderr",
     "output_type": "stream",
     "text": [
      "\n"
     ]
    },
    {
     "name": "stdout",
     "output_type": "stream",
     "text": [
      "\n",
      "      Epoch    GPU_mem   box_loss   cls_loss   dfl_loss  Instances       Size\n"
     ]
    },
    {
     "name": "stderr",
     "output_type": "stream",
     "text": [
      "     68/100      2.84G      1.111     0.9763      1.194         93        640: 100%|██████████| 250/250 [00:42<00:00,  5.85it/s]\n",
      "                 Class     Images  Instances      Box(P          R      mAP50  mAP50-95): 100%|██████████| 32/32 [00:04<00:00,  6.55it/s]\n"
     ]
    },
    {
     "name": "stdout",
     "output_type": "stream",
     "text": [
      "                   all       1000       2338      0.726      0.547      0.629      0.396\n",
      "\n",
      "      Epoch    GPU_mem   box_loss   cls_loss   dfl_loss  Instances       Size\n"
     ]
    },
    {
     "name": "stderr",
     "output_type": "stream",
     "text": [
      "     69/100      2.84G      1.096     0.9492      1.184         53        640: 100%|██████████| 250/250 [00:42<00:00,  5.89it/s]\n",
      "                 Class     Images  Instances      Box(P          R      mAP50  mAP50-95): 100%|██████████| 32/32 [00:04<00:00,  6.60it/s]\n"
     ]
    },
    {
     "name": "stdout",
     "output_type": "stream",
     "text": [
      "                   all       1000       2338      0.733       0.55      0.633      0.397\n",
      "\n",
      "      Epoch    GPU_mem   box_loss   cls_loss   dfl_loss  Instances       Size\n"
     ]
    },
    {
     "name": "stderr",
     "output_type": "stream",
     "text": [
      "     70/100      2.84G      1.101      0.958      1.187         63        640: 100%|██████████| 250/250 [00:42<00:00,  5.90it/s]\n",
      "                 Class     Images  Instances      Box(P          R      mAP50  mAP50-95): 100%|██████████| 32/32 [00:04<00:00,  6.50it/s]"
     ]
    },
    {
     "name": "stdout",
     "output_type": "stream",
     "text": [
      "                   all       1000       2338      0.725      0.563       0.64        0.4\n"
     ]
    },
    {
     "name": "stderr",
     "output_type": "stream",
     "text": [
      "\n"
     ]
    },
    {
     "name": "stdout",
     "output_type": "stream",
     "text": [
      "\n",
      "      Epoch    GPU_mem   box_loss   cls_loss   dfl_loss  Instances       Size\n"
     ]
    },
    {
     "name": "stderr",
     "output_type": "stream",
     "text": [
      "     71/100      2.84G      1.097      0.949      1.183         70        640: 100%|██████████| 250/250 [00:42<00:00,  5.92it/s]\n",
      "                 Class     Images  Instances      Box(P          R      mAP50  mAP50-95): 100%|██████████| 32/32 [00:04<00:00,  6.75it/s]\n"
     ]
    },
    {
     "name": "stdout",
     "output_type": "stream",
     "text": [
      "                   all       1000       2338      0.738      0.551      0.635      0.401\n",
      "\n",
      "      Epoch    GPU_mem   box_loss   cls_loss   dfl_loss  Instances       Size\n"
     ]
    },
    {
     "name": "stderr",
     "output_type": "stream",
     "text": [
      "     72/100      2.84G      1.101     0.9503      1.184         78        640: 100%|██████████| 250/250 [00:42<00:00,  5.87it/s]\n",
      "                 Class     Images  Instances      Box(P          R      mAP50  mAP50-95): 100%|██████████| 32/32 [00:04<00:00,  6.66it/s]\n"
     ]
    },
    {
     "name": "stdout",
     "output_type": "stream",
     "text": [
      "                   all       1000       2338      0.699      0.569      0.635        0.4\n",
      "\n",
      "      Epoch    GPU_mem   box_loss   cls_loss   dfl_loss  Instances       Size\n"
     ]
    },
    {
     "name": "stderr",
     "output_type": "stream",
     "text": [
      "     73/100      2.84G      1.096      0.948      1.179         75        640: 100%|██████████| 250/250 [00:42<00:00,  5.94it/s]\n",
      "                 Class     Images  Instances      Box(P          R      mAP50  mAP50-95): 100%|██████████| 32/32 [00:05<00:00,  6.06it/s]\n"
     ]
    },
    {
     "name": "stdout",
     "output_type": "stream",
     "text": [
      "                   all       1000       2338      0.712      0.558      0.638        0.4\n",
      "\n",
      "      Epoch    GPU_mem   box_loss   cls_loss   dfl_loss  Instances       Size\n"
     ]
    },
    {
     "name": "stderr",
     "output_type": "stream",
     "text": [
      "     74/100      2.84G      1.101     0.9425      1.179         73        640: 100%|██████████| 250/250 [00:42<00:00,  5.86it/s]\n",
      "                 Class     Images  Instances      Box(P          R      mAP50  mAP50-95): 100%|██████████| 32/32 [00:04<00:00,  6.63it/s]\n"
     ]
    },
    {
     "name": "stdout",
     "output_type": "stream",
     "text": [
      "                   all       1000       2338      0.734      0.548      0.635      0.399\n",
      "\n",
      "      Epoch    GPU_mem   box_loss   cls_loss   dfl_loss  Instances       Size\n"
     ]
    },
    {
     "name": "stderr",
     "output_type": "stream",
     "text": [
      "     75/100      2.84G      1.084     0.9298      1.173         50        640: 100%|██████████| 250/250 [00:42<00:00,  5.86it/s]\n",
      "                 Class     Images  Instances      Box(P          R      mAP50  mAP50-95): 100%|██████████| 32/32 [00:04<00:00,  6.47it/s]"
     ]
    },
    {
     "name": "stdout",
     "output_type": "stream",
     "text": [
      "                   all       1000       2338      0.737      0.549      0.639      0.403\n"
     ]
    },
    {
     "name": "stderr",
     "output_type": "stream",
     "text": [
      "\n"
     ]
    },
    {
     "name": "stdout",
     "output_type": "stream",
     "text": [
      "\n",
      "      Epoch    GPU_mem   box_loss   cls_loss   dfl_loss  Instances       Size\n"
     ]
    },
    {
     "name": "stderr",
     "output_type": "stream",
     "text": [
      "     76/100      2.84G      1.088     0.9231       1.17         62        640: 100%|██████████| 250/250 [00:43<00:00,  5.75it/s]\n",
      "                 Class     Images  Instances      Box(P          R      mAP50  mAP50-95): 100%|██████████| 32/32 [00:04<00:00,  6.56it/s]\n"
     ]
    },
    {
     "name": "stdout",
     "output_type": "stream",
     "text": [
      "                   all       1000       2338      0.721      0.556      0.635      0.402\n",
      "\n",
      "      Epoch    GPU_mem   box_loss   cls_loss   dfl_loss  Instances       Size\n"
     ]
    },
    {
     "name": "stderr",
     "output_type": "stream",
     "text": [
      "     77/100      2.84G      1.074     0.9177      1.167         55        640: 100%|██████████| 250/250 [00:42<00:00,  5.91it/s]\n",
      "                 Class     Images  Instances      Box(P          R      mAP50  mAP50-95): 100%|██████████| 32/32 [00:04<00:00,  6.61it/s]"
     ]
    },
    {
     "name": "stdout",
     "output_type": "stream",
     "text": [
      "                   all       1000       2338      0.739      0.558      0.641      0.404\n"
     ]
    },
    {
     "name": "stderr",
     "output_type": "stream",
     "text": [
      "\n"
     ]
    },
    {
     "name": "stdout",
     "output_type": "stream",
     "text": [
      "\n",
      "      Epoch    GPU_mem   box_loss   cls_loss   dfl_loss  Instances       Size\n"
     ]
    },
    {
     "name": "stderr",
     "output_type": "stream",
     "text": [
      "     78/100      2.84G       1.07     0.9031      1.165         37        640: 100%|██████████| 250/250 [00:42<00:00,  5.93it/s]\n",
      "                 Class     Images  Instances      Box(P          R      mAP50  mAP50-95): 100%|██████████| 32/32 [00:04<00:00,  6.47it/s]\n"
     ]
    },
    {
     "name": "stdout",
     "output_type": "stream",
     "text": [
      "                   all       1000       2338      0.735      0.559       0.64      0.404\n",
      "\n",
      "      Epoch    GPU_mem   box_loss   cls_loss   dfl_loss  Instances       Size\n"
     ]
    },
    {
     "name": "stderr",
     "output_type": "stream",
     "text": [
      "     79/100      2.84G       1.08     0.9218      1.162         82        640: 100%|██████████| 250/250 [00:42<00:00,  5.87it/s]\n",
      "                 Class     Images  Instances      Box(P          R      mAP50  mAP50-95): 100%|██████████| 32/32 [00:04<00:00,  6.61it/s]"
     ]
    },
    {
     "name": "stdout",
     "output_type": "stream",
     "text": [
      "                   all       1000       2338      0.762      0.541      0.637      0.405\n"
     ]
    },
    {
     "name": "stderr",
     "output_type": "stream",
     "text": [
      "\n"
     ]
    },
    {
     "name": "stdout",
     "output_type": "stream",
     "text": [
      "\n",
      "      Epoch    GPU_mem   box_loss   cls_loss   dfl_loss  Instances       Size\n"
     ]
    },
    {
     "name": "stderr",
     "output_type": "stream",
     "text": [
      "     80/100      2.84G       1.05     0.8789      1.148         86        640: 100%|██████████| 250/250 [00:42<00:00,  5.93it/s]\n",
      "                 Class     Images  Instances      Box(P          R      mAP50  mAP50-95): 100%|██████████| 32/32 [00:04<00:00,  6.41it/s]\n"
     ]
    },
    {
     "name": "stdout",
     "output_type": "stream",
     "text": [
      "                   all       1000       2338      0.736      0.549      0.636      0.403\n",
      "\n",
      "      Epoch    GPU_mem   box_loss   cls_loss   dfl_loss  Instances       Size\n"
     ]
    },
    {
     "name": "stderr",
     "output_type": "stream",
     "text": [
      "     81/100      2.84G      1.081     0.9099      1.162         57        640: 100%|██████████| 250/250 [00:42<00:00,  5.95it/s]\n",
      "                 Class     Images  Instances      Box(P          R      mAP50  mAP50-95): 100%|██████████| 32/32 [00:05<00:00,  6.39it/s]"
     ]
    },
    {
     "name": "stdout",
     "output_type": "stream",
     "text": [
      "                   all       1000       2338      0.752      0.542      0.641      0.404\n"
     ]
    },
    {
     "name": "stderr",
     "output_type": "stream",
     "text": [
      "\n"
     ]
    },
    {
     "name": "stdout",
     "output_type": "stream",
     "text": [
      "\n",
      "      Epoch    GPU_mem   box_loss   cls_loss   dfl_loss  Instances       Size\n"
     ]
    },
    {
     "name": "stderr",
     "output_type": "stream",
     "text": [
      "     82/100      2.84G      1.054     0.8883      1.151         51        640: 100%|██████████| 250/250 [00:41<00:00,  5.96it/s]\n",
      "                 Class     Images  Instances      Box(P          R      mAP50  mAP50-95): 100%|██████████| 32/32 [00:04<00:00,  6.59it/s]"
     ]
    },
    {
     "name": "stdout",
     "output_type": "stream",
     "text": [
      "                   all       1000       2338       0.74      0.553      0.634      0.405\n"
     ]
    },
    {
     "name": "stderr",
     "output_type": "stream",
     "text": [
      "\n"
     ]
    },
    {
     "name": "stdout",
     "output_type": "stream",
     "text": [
      "\n",
      "      Epoch    GPU_mem   box_loss   cls_loss   dfl_loss  Instances       Size\n"
     ]
    },
    {
     "name": "stderr",
     "output_type": "stream",
     "text": [
      "     83/100      2.84G      1.056     0.8908      1.154         90        640: 100%|██████████| 250/250 [00:41<00:00,  5.96it/s]\n",
      "                 Class     Images  Instances      Box(P          R      mAP50  mAP50-95): 100%|██████████| 32/32 [00:04<00:00,  6.74it/s]\n"
     ]
    },
    {
     "name": "stdout",
     "output_type": "stream",
     "text": [
      "                   all       1000       2338      0.723       0.56      0.636      0.404\n",
      "\n",
      "      Epoch    GPU_mem   box_loss   cls_loss   dfl_loss  Instances       Size\n"
     ]
    },
    {
     "name": "stderr",
     "output_type": "stream",
     "text": [
      "     84/100      2.84G      1.047     0.8723       1.15         69        640: 100%|██████████| 250/250 [00:41<00:00,  6.00it/s]\n",
      "                 Class     Images  Instances      Box(P          R      mAP50  mAP50-95): 100%|██████████| 32/32 [00:05<00:00,  6.16it/s]"
     ]
    },
    {
     "name": "stdout",
     "output_type": "stream",
     "text": [
      "                   all       1000       2338      0.743      0.554      0.639      0.407\n"
     ]
    },
    {
     "name": "stderr",
     "output_type": "stream",
     "text": [
      "\n"
     ]
    },
    {
     "name": "stdout",
     "output_type": "stream",
     "text": [
      "\n",
      "      Epoch    GPU_mem   box_loss   cls_loss   dfl_loss  Instances       Size\n"
     ]
    },
    {
     "name": "stderr",
     "output_type": "stream",
     "text": [
      "     85/100      2.84G      1.062     0.8917      1.158         61        640: 100%|██████████| 250/250 [00:42<00:00,  5.95it/s]\n",
      "                 Class     Images  Instances      Box(P          R      mAP50  mAP50-95): 100%|██████████| 32/32 [00:04<00:00,  6.70it/s]\n"
     ]
    },
    {
     "name": "stdout",
     "output_type": "stream",
     "text": [
      "                   all       1000       2338      0.715      0.565      0.633      0.404\n",
      "\n",
      "      Epoch    GPU_mem   box_loss   cls_loss   dfl_loss  Instances       Size\n"
     ]
    },
    {
     "name": "stderr",
     "output_type": "stream",
     "text": [
      "     86/100      2.84G      1.049     0.8774      1.154         61        640: 100%|██████████| 250/250 [00:42<00:00,  5.95it/s]\n",
      "                 Class     Images  Instances      Box(P          R      mAP50  mAP50-95): 100%|██████████| 32/32 [00:04<00:00,  6.82it/s]\n"
     ]
    },
    {
     "name": "stdout",
     "output_type": "stream",
     "text": [
      "                   all       1000       2338      0.739      0.552      0.636      0.404\n",
      "\n",
      "      Epoch    GPU_mem   box_loss   cls_loss   dfl_loss  Instances       Size\n"
     ]
    },
    {
     "name": "stderr",
     "output_type": "stream",
     "text": [
      "     87/100      2.84G       1.04     0.8621      1.143         44        640: 100%|██████████| 250/250 [00:42<00:00,  5.93it/s]\n",
      "                 Class     Images  Instances      Box(P          R      mAP50  mAP50-95): 100%|██████████| 32/32 [00:05<00:00,  6.33it/s]"
     ]
    },
    {
     "name": "stdout",
     "output_type": "stream",
     "text": [
      "                   all       1000       2338      0.755      0.532      0.634      0.403\n"
     ]
    },
    {
     "name": "stderr",
     "output_type": "stream",
     "text": [
      "\n"
     ]
    },
    {
     "name": "stdout",
     "output_type": "stream",
     "text": [
      "\n",
      "      Epoch    GPU_mem   box_loss   cls_loss   dfl_loss  Instances       Size\n"
     ]
    },
    {
     "name": "stderr",
     "output_type": "stream",
     "text": [
      "     88/100      2.84G      1.037     0.8667      1.144         38        640: 100%|██████████| 250/250 [00:42<00:00,  5.92it/s]\n",
      "                 Class     Images  Instances      Box(P          R      mAP50  mAP50-95): 100%|██████████| 32/32 [00:04<00:00,  6.65it/s]\n"
     ]
    },
    {
     "name": "stdout",
     "output_type": "stream",
     "text": [
      "                   all       1000       2338      0.722      0.552      0.637      0.405\n",
      "\n",
      "      Epoch    GPU_mem   box_loss   cls_loss   dfl_loss  Instances       Size\n"
     ]
    },
    {
     "name": "stderr",
     "output_type": "stream",
     "text": [
      "     89/100      2.84G      1.024     0.8384      1.136         93        640: 100%|██████████| 250/250 [00:42<00:00,  5.94it/s]\n",
      "                 Class     Images  Instances      Box(P          R      mAP50  mAP50-95): 100%|██████████| 32/32 [00:04<00:00,  6.43it/s]\n"
     ]
    },
    {
     "name": "stdout",
     "output_type": "stream",
     "text": [
      "                   all       1000       2338      0.723      0.568       0.64      0.407\n",
      "\n",
      "      Epoch    GPU_mem   box_loss   cls_loss   dfl_loss  Instances       Size\n"
     ]
    },
    {
     "name": "stderr",
     "output_type": "stream",
     "text": [
      "     90/100      2.84G      1.027     0.8472      1.136         63        640: 100%|██████████| 250/250 [00:42<00:00,  5.93it/s]\n",
      "                 Class     Images  Instances      Box(P          R      mAP50  mAP50-95): 100%|██████████| 32/32 [00:05<00:00,  6.11it/s]"
     ]
    },
    {
     "name": "stdout",
     "output_type": "stream",
     "text": [
      "                   all       1000       2338      0.741      0.553      0.637      0.407\n"
     ]
    },
    {
     "name": "stderr",
     "output_type": "stream",
     "text": [
      "\n"
     ]
    },
    {
     "name": "stdout",
     "output_type": "stream",
     "text": [
      "Closing dataloader mosaic\n",
      "\u001b[34m\u001b[1malbumentations: \u001b[0mBlur(p=0.01, blur_limit=(3, 7)), MedianBlur(p=0.01, blur_limit=(3, 7)), ToGray(p=0.01, num_output_channels=3, method='weighted_average'), CLAHE(p=0.01, clip_limit=(1.0, 4.0), tile_grid_size=(8, 8))\n",
      "\n",
      "      Epoch    GPU_mem   box_loss   cls_loss   dfl_loss  Instances       Size\n"
     ]
    },
    {
     "name": "stderr",
     "output_type": "stream",
     "text": [
      "     91/100      2.84G     0.9947     0.7592      1.109         22        640: 100%|██████████| 250/250 [00:42<00:00,  5.94it/s]\n",
      "                 Class     Images  Instances      Box(P          R      mAP50  mAP50-95): 100%|██████████| 32/32 [00:05<00:00,  6.19it/s]"
     ]
    },
    {
     "name": "stdout",
     "output_type": "stream",
     "text": [
      "                   all       1000       2338      0.701      0.561      0.628      0.399\n"
     ]
    },
    {
     "name": "stderr",
     "output_type": "stream",
     "text": [
      "\n"
     ]
    },
    {
     "name": "stdout",
     "output_type": "stream",
     "text": [
      "\n",
      "      Epoch    GPU_mem   box_loss   cls_loss   dfl_loss  Instances       Size\n"
     ]
    },
    {
     "name": "stderr",
     "output_type": "stream",
     "text": [
      "     92/100      2.84G     0.9674     0.7463      1.094         46        640: 100%|██████████| 250/250 [00:40<00:00,  6.13it/s]\n",
      "                 Class     Images  Instances      Box(P          R      mAP50  mAP50-95): 100%|██████████| 32/32 [00:04<00:00,  6.82it/s]\n"
     ]
    },
    {
     "name": "stdout",
     "output_type": "stream",
     "text": [
      "                   all       1000       2338      0.735      0.547      0.631      0.402\n",
      "\n",
      "      Epoch    GPU_mem   box_loss   cls_loss   dfl_loss  Instances       Size\n"
     ]
    },
    {
     "name": "stderr",
     "output_type": "stream",
     "text": [
      "     93/100      2.84G     0.9571     0.7283      1.086         41        640: 100%|██████████| 250/250 [00:40<00:00,  6.14it/s]\n",
      "                 Class     Images  Instances      Box(P          R      mAP50  mAP50-95): 100%|██████████| 32/32 [00:05<00:00,  6.40it/s]"
     ]
    },
    {
     "name": "stdout",
     "output_type": "stream",
     "text": [
      "                   all       1000       2338      0.723      0.553      0.631      0.402\n"
     ]
    },
    {
     "name": "stderr",
     "output_type": "stream",
     "text": [
      "\n"
     ]
    },
    {
     "name": "stdout",
     "output_type": "stream",
     "text": [
      "\n",
      "      Epoch    GPU_mem   box_loss   cls_loss   dfl_loss  Instances       Size\n"
     ]
    },
    {
     "name": "stderr",
     "output_type": "stream",
     "text": [
      "     94/100      2.84G     0.9486     0.7197       1.08         35        640: 100%|██████████| 250/250 [00:41<00:00,  6.02it/s]\n",
      "                 Class     Images  Instances      Box(P          R      mAP50  mAP50-95): 100%|██████████| 32/32 [00:04<00:00,  6.75it/s]\n"
     ]
    },
    {
     "name": "stdout",
     "output_type": "stream",
     "text": [
      "                   all       1000       2338      0.742       0.55      0.633      0.403\n",
      "\n",
      "      Epoch    GPU_mem   box_loss   cls_loss   dfl_loss  Instances       Size\n"
     ]
    },
    {
     "name": "stderr",
     "output_type": "stream",
     "text": [
      "     95/100      2.84G     0.9526      0.719       1.08         32        640: 100%|██████████| 250/250 [00:40<00:00,  6.10it/s]\n",
      "                 Class     Images  Instances      Box(P          R      mAP50  mAP50-95): 100%|██████████| 32/32 [00:04<00:00,  6.73it/s]\n"
     ]
    },
    {
     "name": "stdout",
     "output_type": "stream",
     "text": [
      "                   all       1000       2338      0.749      0.544      0.632      0.402\n",
      "\n",
      "      Epoch    GPU_mem   box_loss   cls_loss   dfl_loss  Instances       Size\n"
     ]
    },
    {
     "name": "stderr",
     "output_type": "stream",
     "text": [
      "     96/100      2.84G     0.9452     0.7007      1.072         24        640: 100%|██████████| 250/250 [00:41<00:00,  6.10it/s]\n",
      "                 Class     Images  Instances      Box(P          R      mAP50  mAP50-95): 100%|██████████| 32/32 [00:04<00:00,  6.55it/s]"
     ]
    },
    {
     "name": "stdout",
     "output_type": "stream",
     "text": [
      "                   all       1000       2338      0.725      0.567      0.633      0.404\n"
     ]
    },
    {
     "name": "stderr",
     "output_type": "stream",
     "text": [
      "\n"
     ]
    },
    {
     "name": "stdout",
     "output_type": "stream",
     "text": [
      "\n",
      "      Epoch    GPU_mem   box_loss   cls_loss   dfl_loss  Instances       Size\n"
     ]
    },
    {
     "name": "stderr",
     "output_type": "stream",
     "text": [
      "     97/100      2.84G     0.9382     0.7046      1.078         54        640: 100%|██████████| 250/250 [00:41<00:00,  5.96it/s]\n",
      "                 Class     Images  Instances      Box(P          R      mAP50  mAP50-95): 100%|██████████| 32/32 [00:05<00:00,  6.22it/s]"
     ]
    },
    {
     "name": "stdout",
     "output_type": "stream",
     "text": [
      "                   all       1000       2338      0.746      0.552      0.632      0.405\n"
     ]
    },
    {
     "name": "stderr",
     "output_type": "stream",
     "text": [
      "\n"
     ]
    },
    {
     "name": "stdout",
     "output_type": "stream",
     "text": [
      "\n",
      "      Epoch    GPU_mem   box_loss   cls_loss   dfl_loss  Instances       Size\n"
     ]
    },
    {
     "name": "stderr",
     "output_type": "stream",
     "text": [
      "     98/100      2.84G     0.9382     0.7045      1.073         33        640: 100%|██████████| 250/250 [00:41<00:00,  6.02it/s]\n",
      "                 Class     Images  Instances      Box(P          R      mAP50  mAP50-95): 100%|██████████| 32/32 [00:05<00:00,  6.30it/s]"
     ]
    },
    {
     "name": "stdout",
     "output_type": "stream",
     "text": [
      "                   all       1000       2338      0.726      0.559      0.636      0.407\n"
     ]
    },
    {
     "name": "stderr",
     "output_type": "stream",
     "text": [
      "\n"
     ]
    },
    {
     "name": "stdout",
     "output_type": "stream",
     "text": [
      "\n",
      "      Epoch    GPU_mem   box_loss   cls_loss   dfl_loss  Instances       Size\n"
     ]
    },
    {
     "name": "stderr",
     "output_type": "stream",
     "text": [
      "     99/100      2.84G     0.9334     0.6992      1.075         34        640: 100%|██████████| 250/250 [00:41<00:00,  6.04it/s]\n",
      "                 Class     Images  Instances      Box(P          R      mAP50  mAP50-95): 100%|██████████| 32/32 [00:04<00:00,  6.59it/s]"
     ]
    },
    {
     "name": "stdout",
     "output_type": "stream",
     "text": [
      "                   all       1000       2338      0.726      0.562      0.635      0.403\n"
     ]
    },
    {
     "name": "stderr",
     "output_type": "stream",
     "text": [
      "\n"
     ]
    },
    {
     "name": "stdout",
     "output_type": "stream",
     "text": [
      "\n",
      "      Epoch    GPU_mem   box_loss   cls_loss   dfl_loss  Instances       Size\n"
     ]
    },
    {
     "name": "stderr",
     "output_type": "stream",
     "text": [
      "    100/100      2.84G     0.9256      0.697      1.066         49        640: 100%|██████████| 250/250 [00:41<00:00,  6.00it/s]\n",
      "                 Class     Images  Instances      Box(P          R      mAP50  mAP50-95): 100%|██████████| 32/32 [00:05<00:00,  5.97it/s]"
     ]
    },
    {
     "name": "stdout",
     "output_type": "stream",
     "text": [
      "                   all       1000       2338       0.72      0.564      0.637      0.404\n"
     ]
    },
    {
     "name": "stderr",
     "output_type": "stream",
     "text": [
      "\n"
     ]
    },
    {
     "name": "stdout",
     "output_type": "stream",
     "text": [
      "\n",
      "100 epochs completed in 1.317 hours.\n",
      "Optimizer stripped from runs/train/weights/last.pt, 6.2MB\n",
      "Optimizer stripped from runs/train/weights/best.pt, 6.2MB\n",
      "\n",
      "Validating runs/train/weights/best.pt...\n",
      "Ultralytics 8.3.89 🚀 Python-3.10.12 torch-2.5.1+cu121 CUDA:0 (Tesla T4, 15095MiB)\n",
      "Model summary (fused): 72 layers, 3,005,843 parameters, 0 gradients, 8.1 GFLOPs\n"
     ]
    },
    {
     "name": "stderr",
     "output_type": "stream",
     "text": [
      "                 Class     Images  Instances      Box(P          R      mAP50  mAP50-95): 100%|██████████| 32/32 [00:06<00:00,  5.31it/s]\n"
     ]
    },
    {
     "name": "stdout",
     "output_type": "stream",
     "text": [
      "                   all       1000       2338       0.74      0.553      0.636      0.408\n"
     ]
    },
    {
     "name": "stderr",
     "output_type": "stream",
     "text": [
      "/usr/local/lib/python3.10/dist-packages/matplotlib/colors.py:721: RuntimeWarning: invalid value encountered in less\n",
      "  xa[xa < 0] = -1\n",
      "/usr/local/lib/python3.10/dist-packages/matplotlib/colors.py:721: RuntimeWarning: invalid value encountered in less\n",
      "  xa[xa < 0] = -1\n"
     ]
    },
    {
     "name": "stdout",
     "output_type": "stream",
     "text": [
      "Speed: 0.2ms preprocess, 1.7ms inference, 0.0ms loss, 1.3ms postprocess per image\n",
      "Results saved to \u001b[1mruns/train\u001b[0m\n"
     ]
    },
    {
     "data": {
      "text/plain": [
       "ultralytics.utils.metrics.DetMetrics object with attributes:\n",
       "\n",
       "ap_class_index: array([0])\n",
       "box: ultralytics.utils.metrics.Metric object\n",
       "confusion_matrix: <ultralytics.utils.metrics.ConfusionMatrix object at 0x7a518d2f5870>\n",
       "curves: ['Precision-Recall(B)', 'F1-Confidence(B)', 'Precision-Confidence(B)', 'Recall-Confidence(B)']\n",
       "curves_results: [[array([          0,    0.001001,    0.002002,    0.003003,    0.004004,    0.005005,    0.006006,    0.007007,    0.008008,    0.009009,     0.01001,    0.011011,    0.012012,    0.013013,    0.014014,    0.015015,    0.016016,    0.017017,    0.018018,    0.019019,     0.02002,    0.021021,    0.022022,    0.023023,\n",
       "          0.024024,    0.025025,    0.026026,    0.027027,    0.028028,    0.029029,     0.03003,    0.031031,    0.032032,    0.033033,    0.034034,    0.035035,    0.036036,    0.037037,    0.038038,    0.039039,     0.04004,    0.041041,    0.042042,    0.043043,    0.044044,    0.045045,    0.046046,    0.047047,\n",
       "          0.048048,    0.049049,     0.05005,    0.051051,    0.052052,    0.053053,    0.054054,    0.055055,    0.056056,    0.057057,    0.058058,    0.059059,     0.06006,    0.061061,    0.062062,    0.063063,    0.064064,    0.065065,    0.066066,    0.067067,    0.068068,    0.069069,     0.07007,    0.071071,\n",
       "          0.072072,    0.073073,    0.074074,    0.075075,    0.076076,    0.077077,    0.078078,    0.079079,     0.08008,    0.081081,    0.082082,    0.083083,    0.084084,    0.085085,    0.086086,    0.087087,    0.088088,    0.089089,     0.09009,    0.091091,    0.092092,    0.093093,    0.094094,    0.095095,\n",
       "          0.096096,    0.097097,    0.098098,    0.099099,      0.1001,      0.1011,      0.1021,      0.1031,      0.1041,     0.10511,     0.10611,     0.10711,     0.10811,     0.10911,     0.11011,     0.11111,     0.11211,     0.11311,     0.11411,     0.11512,     0.11612,     0.11712,     0.11812,     0.11912,\n",
       "           0.12012,     0.12112,     0.12212,     0.12312,     0.12412,     0.12513,     0.12613,     0.12713,     0.12813,     0.12913,     0.13013,     0.13113,     0.13213,     0.13313,     0.13413,     0.13514,     0.13614,     0.13714,     0.13814,     0.13914,     0.14014,     0.14114,     0.14214,     0.14314,\n",
       "           0.14414,     0.14515,     0.14615,     0.14715,     0.14815,     0.14915,     0.15015,     0.15115,     0.15215,     0.15315,     0.15415,     0.15516,     0.15616,     0.15716,     0.15816,     0.15916,     0.16016,     0.16116,     0.16216,     0.16316,     0.16416,     0.16517,     0.16617,     0.16717,\n",
       "           0.16817,     0.16917,     0.17017,     0.17117,     0.17217,     0.17317,     0.17417,     0.17518,     0.17618,     0.17718,     0.17818,     0.17918,     0.18018,     0.18118,     0.18218,     0.18318,     0.18418,     0.18519,     0.18619,     0.18719,     0.18819,     0.18919,     0.19019,     0.19119,\n",
       "           0.19219,     0.19319,     0.19419,      0.1952,      0.1962,      0.1972,      0.1982,      0.1992,      0.2002,      0.2012,      0.2022,      0.2032,      0.2042,     0.20521,     0.20621,     0.20721,     0.20821,     0.20921,     0.21021,     0.21121,     0.21221,     0.21321,     0.21421,     0.21522,\n",
       "           0.21622,     0.21722,     0.21822,     0.21922,     0.22022,     0.22122,     0.22222,     0.22322,     0.22422,     0.22523,     0.22623,     0.22723,     0.22823,     0.22923,     0.23023,     0.23123,     0.23223,     0.23323,     0.23423,     0.23524,     0.23624,     0.23724,     0.23824,     0.23924,\n",
       "           0.24024,     0.24124,     0.24224,     0.24324,     0.24424,     0.24525,     0.24625,     0.24725,     0.24825,     0.24925,     0.25025,     0.25125,     0.25225,     0.25325,     0.25425,     0.25526,     0.25626,     0.25726,     0.25826,     0.25926,     0.26026,     0.26126,     0.26226,     0.26326,\n",
       "           0.26426,     0.26527,     0.26627,     0.26727,     0.26827,     0.26927,     0.27027,     0.27127,     0.27227,     0.27327,     0.27427,     0.27528,     0.27628,     0.27728,     0.27828,     0.27928,     0.28028,     0.28128,     0.28228,     0.28328,     0.28428,     0.28529,     0.28629,     0.28729,\n",
       "           0.28829,     0.28929,     0.29029,     0.29129,     0.29229,     0.29329,     0.29429,      0.2953,      0.2963,      0.2973,      0.2983,      0.2993,      0.3003,      0.3013,      0.3023,      0.3033,      0.3043,     0.30531,     0.30631,     0.30731,     0.30831,     0.30931,     0.31031,     0.31131,\n",
       "           0.31231,     0.31331,     0.31431,     0.31532,     0.31632,     0.31732,     0.31832,     0.31932,     0.32032,     0.32132,     0.32232,     0.32332,     0.32432,     0.32533,     0.32633,     0.32733,     0.32833,     0.32933,     0.33033,     0.33133,     0.33233,     0.33333,     0.33433,     0.33534,\n",
       "           0.33634,     0.33734,     0.33834,     0.33934,     0.34034,     0.34134,     0.34234,     0.34334,     0.34434,     0.34535,     0.34635,     0.34735,     0.34835,     0.34935,     0.35035,     0.35135,     0.35235,     0.35335,     0.35435,     0.35536,     0.35636,     0.35736,     0.35836,     0.35936,\n",
       "           0.36036,     0.36136,     0.36236,     0.36336,     0.36436,     0.36537,     0.36637,     0.36737,     0.36837,     0.36937,     0.37037,     0.37137,     0.37237,     0.37337,     0.37437,     0.37538,     0.37638,     0.37738,     0.37838,     0.37938,     0.38038,     0.38138,     0.38238,     0.38338,\n",
       "           0.38438,     0.38539,     0.38639,     0.38739,     0.38839,     0.38939,     0.39039,     0.39139,     0.39239,     0.39339,     0.39439,      0.3954,      0.3964,      0.3974,      0.3984,      0.3994,      0.4004,      0.4014,      0.4024,      0.4034,      0.4044,     0.40541,     0.40641,     0.40741,\n",
       "           0.40841,     0.40941,     0.41041,     0.41141,     0.41241,     0.41341,     0.41441,     0.41542,     0.41642,     0.41742,     0.41842,     0.41942,     0.42042,     0.42142,     0.42242,     0.42342,     0.42442,     0.42543,     0.42643,     0.42743,     0.42843,     0.42943,     0.43043,     0.43143,\n",
       "           0.43243,     0.43343,     0.43443,     0.43544,     0.43644,     0.43744,     0.43844,     0.43944,     0.44044,     0.44144,     0.44244,     0.44344,     0.44444,     0.44545,     0.44645,     0.44745,     0.44845,     0.44945,     0.45045,     0.45145,     0.45245,     0.45345,     0.45445,     0.45546,\n",
       "           0.45646,     0.45746,     0.45846,     0.45946,     0.46046,     0.46146,     0.46246,     0.46346,     0.46446,     0.46547,     0.46647,     0.46747,     0.46847,     0.46947,     0.47047,     0.47147,     0.47247,     0.47347,     0.47447,     0.47548,     0.47648,     0.47748,     0.47848,     0.47948,\n",
       "           0.48048,     0.48148,     0.48248,     0.48348,     0.48448,     0.48549,     0.48649,     0.48749,     0.48849,     0.48949,     0.49049,     0.49149,     0.49249,     0.49349,     0.49449,      0.4955,      0.4965,      0.4975,      0.4985,      0.4995,      0.5005,      0.5015,      0.5025,      0.5035,\n",
       "            0.5045,     0.50551,     0.50651,     0.50751,     0.50851,     0.50951,     0.51051,     0.51151,     0.51251,     0.51351,     0.51451,     0.51552,     0.51652,     0.51752,     0.51852,     0.51952,     0.52052,     0.52152,     0.52252,     0.52352,     0.52452,     0.52553,     0.52653,     0.52753,\n",
       "           0.52853,     0.52953,     0.53053,     0.53153,     0.53253,     0.53353,     0.53453,     0.53554,     0.53654,     0.53754,     0.53854,     0.53954,     0.54054,     0.54154,     0.54254,     0.54354,     0.54454,     0.54555,     0.54655,     0.54755,     0.54855,     0.54955,     0.55055,     0.55155,\n",
       "           0.55255,     0.55355,     0.55455,     0.55556,     0.55656,     0.55756,     0.55856,     0.55956,     0.56056,     0.56156,     0.56256,     0.56356,     0.56456,     0.56557,     0.56657,     0.56757,     0.56857,     0.56957,     0.57057,     0.57157,     0.57257,     0.57357,     0.57457,     0.57558,\n",
       "           0.57658,     0.57758,     0.57858,     0.57958,     0.58058,     0.58158,     0.58258,     0.58358,     0.58458,     0.58559,     0.58659,     0.58759,     0.58859,     0.58959,     0.59059,     0.59159,     0.59259,     0.59359,     0.59459,      0.5956,      0.5966,      0.5976,      0.5986,      0.5996,\n",
       "            0.6006,      0.6016,      0.6026,      0.6036,      0.6046,     0.60561,     0.60661,     0.60761,     0.60861,     0.60961,     0.61061,     0.61161,     0.61261,     0.61361,     0.61461,     0.61562,     0.61662,     0.61762,     0.61862,     0.61962,     0.62062,     0.62162,     0.62262,     0.62362,\n",
       "           0.62462,     0.62563,     0.62663,     0.62763,     0.62863,     0.62963,     0.63063,     0.63163,     0.63263,     0.63363,     0.63463,     0.63564,     0.63664,     0.63764,     0.63864,     0.63964,     0.64064,     0.64164,     0.64264,     0.64364,     0.64464,     0.64565,     0.64665,     0.64765,\n",
       "           0.64865,     0.64965,     0.65065,     0.65165,     0.65265,     0.65365,     0.65465,     0.65566,     0.65666,     0.65766,     0.65866,     0.65966,     0.66066,     0.66166,     0.66266,     0.66366,     0.66466,     0.66567,     0.66667,     0.66767,     0.66867,     0.66967,     0.67067,     0.67167,\n",
       "           0.67267,     0.67367,     0.67467,     0.67568,     0.67668,     0.67768,     0.67868,     0.67968,     0.68068,     0.68168,     0.68268,     0.68368,     0.68468,     0.68569,     0.68669,     0.68769,     0.68869,     0.68969,     0.69069,     0.69169,     0.69269,     0.69369,     0.69469,      0.6957,\n",
       "            0.6967,      0.6977,      0.6987,      0.6997,      0.7007,      0.7017,      0.7027,      0.7037,      0.7047,     0.70571,     0.70671,     0.70771,     0.70871,     0.70971,     0.71071,     0.71171,     0.71271,     0.71371,     0.71471,     0.71572,     0.71672,     0.71772,     0.71872,     0.71972,\n",
       "           0.72072,     0.72172,     0.72272,     0.72372,     0.72472,     0.72573,     0.72673,     0.72773,     0.72873,     0.72973,     0.73073,     0.73173,     0.73273,     0.73373,     0.73473,     0.73574,     0.73674,     0.73774,     0.73874,     0.73974,     0.74074,     0.74174,     0.74274,     0.74374,\n",
       "           0.74474,     0.74575,     0.74675,     0.74775,     0.74875,     0.74975,     0.75075,     0.75175,     0.75275,     0.75375,     0.75475,     0.75576,     0.75676,     0.75776,     0.75876,     0.75976,     0.76076,     0.76176,     0.76276,     0.76376,     0.76476,     0.76577,     0.76677,     0.76777,\n",
       "           0.76877,     0.76977,     0.77077,     0.77177,     0.77277,     0.77377,     0.77477,     0.77578,     0.77678,     0.77778,     0.77878,     0.77978,     0.78078,     0.78178,     0.78278,     0.78378,     0.78478,     0.78579,     0.78679,     0.78779,     0.78879,     0.78979,     0.79079,     0.79179,\n",
       "           0.79279,     0.79379,     0.79479,      0.7958,      0.7968,      0.7978,      0.7988,      0.7998,      0.8008,      0.8018,      0.8028,      0.8038,      0.8048,     0.80581,     0.80681,     0.80781,     0.80881,     0.80981,     0.81081,     0.81181,     0.81281,     0.81381,     0.81481,     0.81582,\n",
       "           0.81682,     0.81782,     0.81882,     0.81982,     0.82082,     0.82182,     0.82282,     0.82382,     0.82482,     0.82583,     0.82683,     0.82783,     0.82883,     0.82983,     0.83083,     0.83183,     0.83283,     0.83383,     0.83483,     0.83584,     0.83684,     0.83784,     0.83884,     0.83984,\n",
       "           0.84084,     0.84184,     0.84284,     0.84384,     0.84484,     0.84585,     0.84685,     0.84785,     0.84885,     0.84985,     0.85085,     0.85185,     0.85285,     0.85385,     0.85485,     0.85586,     0.85686,     0.85786,     0.85886,     0.85986,     0.86086,     0.86186,     0.86286,     0.86386,\n",
       "           0.86486,     0.86587,     0.86687,     0.86787,     0.86887,     0.86987,     0.87087,     0.87187,     0.87287,     0.87387,     0.87487,     0.87588,     0.87688,     0.87788,     0.87888,     0.87988,     0.88088,     0.88188,     0.88288,     0.88388,     0.88488,     0.88589,     0.88689,     0.88789,\n",
       "           0.88889,     0.88989,     0.89089,     0.89189,     0.89289,     0.89389,     0.89489,      0.8959,      0.8969,      0.8979,      0.8989,      0.8999,      0.9009,      0.9019,      0.9029,      0.9039,      0.9049,     0.90591,     0.90691,     0.90791,     0.90891,     0.90991,     0.91091,     0.91191,\n",
       "           0.91291,     0.91391,     0.91491,     0.91592,     0.91692,     0.91792,     0.91892,     0.91992,     0.92092,     0.92192,     0.92292,     0.92392,     0.92492,     0.92593,     0.92693,     0.92793,     0.92893,     0.92993,     0.93093,     0.93193,     0.93293,     0.93393,     0.93493,     0.93594,\n",
       "           0.93694,     0.93794,     0.93894,     0.93994,     0.94094,     0.94194,     0.94294,     0.94394,     0.94494,     0.94595,     0.94695,     0.94795,     0.94895,     0.94995,     0.95095,     0.95195,     0.95295,     0.95395,     0.95495,     0.95596,     0.95696,     0.95796,     0.95896,     0.95996,\n",
       "           0.96096,     0.96196,     0.96296,     0.96396,     0.96496,     0.96597,     0.96697,     0.96797,     0.96897,     0.96997,     0.97097,     0.97197,     0.97297,     0.97397,     0.97497,     0.97598,     0.97698,     0.97798,     0.97898,     0.97998,     0.98098,     0.98198,     0.98298,     0.98398,\n",
       "           0.98498,     0.98599,     0.98699,     0.98799,     0.98899,     0.98999,     0.99099,     0.99199,     0.99299,     0.99399,     0.99499,       0.996,       0.997,       0.998,       0.999,           1]), array([[          1,           1,           1,           1,           1,           1,           1,           1,           1,           1,           1,           1,           1,           1,           1,           1,           1,           1,           1,           1,           1,           1,           1,\n",
       "                  1,           1,           1,           1,           1,           1,           1,           1,           1,           1,           1,           1,           1,           1,           1,           1,           1,           1,           1,           1,           1,     0.99187,     0.99187,\n",
       "            0.99187,     0.99187,     0.99187,     0.99187,     0.99187,     0.99187,     0.99187,     0.98857,     0.98857,     0.98857,     0.98857,     0.98857,     0.98857,     0.98857,     0.98857,     0.98857,     0.98857,     0.98857,     0.98857,     0.98857,     0.98857,     0.98857,     0.98857,\n",
       "            0.98857,     0.98857,     0.98857,     0.98857,     0.98857,     0.98712,     0.98712,     0.98712,     0.98712,     0.98712,     0.98712,     0.98712,     0.98712,     0.98712,     0.98712,     0.98712,     0.98712,     0.98712,     0.98712,     0.98712,     0.98712,     0.98712,     0.98712,\n",
       "            0.98712,     0.98712,     0.98712,     0.98712,     0.98712,     0.98712,     0.98712,     0.98507,     0.98507,     0.98507,     0.98507,     0.98507,     0.98507,     0.98507,     0.98507,     0.98507,     0.98507,     0.98507,     0.98507,     0.98507,     0.98507,      0.9827,      0.9827,\n",
       "             0.9827,      0.9827,      0.9827,      0.9827,      0.9827,      0.9827,      0.9827,     0.98154,     0.98154,     0.98154,     0.98154,     0.98154,     0.98154,     0.98154,     0.98154,     0.98154,     0.98154,     0.98154,     0.98154,     0.98154,     0.98154,     0.98154,      0.9791,\n",
       "             0.9791,      0.9791,      0.9791,     0.97855,     0.97855,     0.97855,     0.97855,     0.97855,     0.97855,     0.97855,     0.97855,     0.97855,     0.97855,     0.97855,     0.97855,     0.97855,     0.97855,     0.97855,     0.97756,     0.97756,     0.97756,     0.97756,     0.97756,\n",
       "            0.97756,     0.97756,     0.97756,     0.97756,     0.97756,     0.97756,     0.97756,     0.97694,     0.97694,     0.97694,     0.97694,     0.97694,     0.97694,     0.97694,     0.97694,     0.97694,     0.97694,     0.97694,     0.97694,     0.97694,     0.97694,     0.97694,     0.97694,\n",
       "            0.97694,     0.97694,     0.97694,     0.97694,     0.97694,     0.97694,     0.97694,     0.97694,     0.97694,     0.97694,     0.97694,     0.97694,     0.97694,     0.97694,     0.97694,     0.97694,      0.9751,      0.9732,     0.97166,     0.97166,     0.97166,     0.97166,     0.97012,\n",
       "            0.97012,     0.97012,     0.96975,     0.96975,     0.96975,     0.96975,     0.96975,     0.96975,     0.96975,     0.96975,     0.96975,     0.96975,     0.96975,     0.96501,     0.96501,     0.96501,     0.96501,     0.96403,     0.96403,     0.96403,     0.96403,     0.96403,     0.96403,\n",
       "            0.95915,     0.95797,     0.95797,     0.95797,     0.95652,     0.95652,     0.95545,     0.95545,     0.95545,     0.95545,     0.95545,     0.95545,     0.95545,     0.95545,     0.95545,     0.95545,     0.95545,     0.95545,     0.95447,     0.95447,     0.95447,      0.9536,      0.9536,\n",
       "             0.9536,      0.9536,     0.95064,     0.95008,     0.95008,     0.95008,     0.95008,     0.95008,     0.95008,     0.95008,     0.95008,     0.95008,     0.95008,     0.95008,     0.95008,     0.95008,     0.94937,     0.94937,     0.94937,     0.94937,     0.94937,     0.94937,     0.94937,\n",
       "            0.94937,     0.94937,     0.94937,     0.94937,     0.94937,     0.94937,     0.94937,     0.94937,     0.94937,     0.94937,     0.94937,     0.94937,     0.94937,     0.94825,     0.94613,     0.94613,     0.94613,     0.94521,     0.94521,     0.94444,     0.94444,     0.94444,     0.94324,\n",
       "            0.94213,     0.93907,     0.93907,     0.93907,     0.93867,     0.93867,     0.93867,     0.93867,     0.93867,     0.93867,     0.93867,     0.93867,     0.93867,     0.93867,     0.93867,     0.93867,     0.93867,     0.93867,     0.93867,     0.93867,     0.93867,     0.93867,     0.93789,\n",
       "            0.93789,     0.93688,     0.93481,      0.9326,     0.93171,      0.9297,     0.92951,     0.92951,     0.92951,     0.92951,     0.92951,     0.92857,     0.92832,     0.92832,     0.92832,     0.92832,     0.92824,     0.92824,     0.92824,     0.92824,     0.92824,     0.92734,     0.92686,\n",
       "            0.92686,     0.92686,     0.92395,     0.92299,     0.92212,     0.92135,     0.92058,     0.91898,     0.91898,     0.91832,     0.91832,     0.91767,     0.91767,     0.91739,     0.91739,     0.91739,      0.9172,      0.9172,      0.9172,      0.9172,     0.91649,     0.91649,     0.91649,\n",
       "            0.91649,     0.91649,     0.91649,     0.91518,     0.91518,     0.91518,     0.91449,     0.91399,     0.91399,      0.9134,      0.9134,     0.91242,     0.91242,     0.91242,     0.91242,     0.91168,     0.91102,     0.91019,     0.90873,     0.90873,     0.90846,     0.90846,     0.90846,\n",
       "            0.90711,     0.90711,     0.90659,     0.90588,     0.90439,     0.90439,      0.9027,      0.9027,      0.9027,      0.9027,      0.9019,      0.9019,      0.9019,      0.9019,     0.90028,     0.89887,     0.89736,     0.89597,     0.89449,     0.89322,     0.89322,     0.89187,     0.88981,\n",
       "            0.88981,     0.88869,     0.88869,     0.88818,     0.88779,     0.88779,     0.88779,     0.88779,     0.88779,      0.8874,      0.8874,     0.88516,     0.88516,     0.88516,     0.88516,     0.88489,     0.88489,     0.88374,     0.88338,     0.88338,     0.88271,     0.88048,     0.88048,\n",
       "            0.88048,     0.87928,     0.87799,     0.87755,     0.87638,     0.87638,     0.87637,     0.87637,     0.87637,     0.87615,     0.87615,     0.87573,     0.87531,     0.87334,     0.87089,     0.87089,     0.86967,     0.86748,     0.86748,     0.86721,     0.86721,     0.86704,     0.86704,\n",
       "            0.86597,     0.86597,     0.86375,     0.86375,     0.86201,     0.86199,     0.86199,     0.86199,      0.8605,      0.8605,     0.85948,      0.8577,     0.85725,     0.85615,     0.85517,     0.85517,     0.85517,     0.85202,      0.8516,     0.85064,     0.84789,     0.84789,      0.8476,\n",
       "            0.84667,     0.84552,     0.84398,     0.84121,     0.83885,     0.83796,     0.83796,     0.83796,     0.83576,      0.8343,     0.83382,     0.83237,     0.83166,     0.83166,     0.83155,     0.83048,     0.82744,     0.82639,     0.82618,     0.82572,     0.82435,     0.81831,     0.81405,\n",
       "            0.81164,     0.81135,     0.80829,     0.80759,     0.80417,     0.80376,     0.80201,     0.79973,     0.79947,     0.79657,     0.79578,     0.79501,     0.79385,     0.79245,     0.79245,     0.78913,     0.78839,     0.78553,     0.78553,      0.7838,     0.78286,     0.78228,     0.78228,\n",
       "             0.7768,     0.77466,     0.77377,     0.77371,     0.77371,     0.77284,     0.77245,     0.77245,     0.77117,     0.76424,     0.76357,     0.76357,     0.76354,     0.76354,     0.75835,     0.75563,     0.75458,     0.75235,        0.75,     0.74898,     0.74753,     0.74552,     0.74394,\n",
       "            0.74253,     0.73831,     0.73819,     0.73738,     0.73601,     0.73506,     0.72961,     0.72632,     0.72632,     0.72582,     0.72189,     0.72116,     0.71974,     0.71591,     0.71023,     0.71001,     0.70745,     0.70604,     0.70495,     0.70495,       0.704,     0.69969,     0.69673,\n",
       "              0.695,       0.695,     0.69207,     0.69207,     0.68902,     0.68794,     0.68722,     0.68596,     0.68387,     0.68282,     0.67488,     0.67255,     0.66992,     0.66266,     0.66044,     0.65731,     0.65717,     0.65377,     0.64711,     0.64638,     0.64105,     0.63815,     0.63315,\n",
       "            0.63291,     0.63182,     0.62656,     0.62589,     0.62262,     0.61957,     0.61882,     0.61646,     0.61349,     0.61336,     0.61336,     0.60415,      0.6033,     0.60109,     0.60025,     0.59967,     0.59775,     0.59308,     0.59043,     0.58891,     0.58512,     0.58404,     0.58266,\n",
       "            0.58054,     0.58054,     0.57937,     0.57895,     0.57895,     0.57717,     0.57366,     0.57221,     0.57043,     0.57016,     0.56983,     0.56683,     0.56179,      0.5608,     0.56008,     0.55722,     0.55655,     0.55576,     0.55469,     0.55212,     0.55184,     0.55015,     0.54707,\n",
       "            0.54638,     0.54552,     0.54252,     0.53972,     0.53967,     0.53656,     0.53516,     0.53157,      0.5306,     0.52852,     0.52828,     0.52735,     0.52459,       0.521,     0.52062,     0.51988,     0.51776,     0.51653,     0.50953,     0.50869,     0.50701,     0.50486,     0.50372,\n",
       "            0.50016,     0.49936,     0.49825,     0.49684,     0.49637,     0.49543,     0.49435,     0.49267,     0.49175,     0.48949,     0.48754,     0.48282,     0.48167,     0.47524,     0.47398,     0.47235,     0.47071,     0.46581,     0.46254,     0.46176,     0.45864,     0.45304,     0.44883,\n",
       "            0.44799,     0.44271,      0.4425,     0.44172,     0.42729,     0.42659,     0.42334,     0.41495,     0.41179,     0.41044,     0.40439,     0.40389,     0.40388,     0.39922,     0.39865,     0.39759,     0.39194,     0.39162,     0.38616,     0.38319,     0.37919,     0.37656,     0.36539,\n",
       "            0.36126,     0.35872,     0.35678,     0.35151,     0.34526,     0.34049,     0.33877,     0.33506,     0.33183,     0.32513,     0.32446,     0.32139,     0.32092,     0.31723,     0.31589,     0.31422,     0.31189,     0.31169,     0.31166,     0.30772,     0.30453,     0.30278,     0.29998,\n",
       "            0.29924,     0.29099,     0.28534,     0.28435,     0.28319,     0.28244,     0.27854,     0.27625,     0.27364,     0.26629,     0.26592,     0.26396,     0.26283,     0.26075,     0.25797,     0.25762,     0.25415,     0.25269,     0.25218,     0.25046,     0.24961,     0.24766,      0.2452,\n",
       "            0.24174,     0.24011,     0.23919,     0.23605,     0.23408,     0.22892,     0.22804,     0.22774,     0.22319,     0.22139,     0.22099,     0.22017,     0.22003,     0.21976,      0.2182,     0.21662,     0.21598,     0.20657,     0.20434,     0.20066,     0.19573,     0.19274,     0.18959,\n",
       "            0.18445,     0.18145,     0.17943,     0.17605,     0.17368,     0.17267,      0.1667,     0.16604,     0.16515,     0.16391,     0.16391,      0.1637,     0.16127,     0.16067,     0.15852,     0.15653,     0.15512,     0.15307,     0.15059,      0.1503,     0.14947,     0.14746,     0.14561,\n",
       "            0.14332,     0.13926,     0.13809,     0.13779,     0.13699,     0.13557,      0.1351,     0.13333,     0.13256,     0.13099,     0.12863,     0.12524,     0.12253,     0.12228,     0.12098,     0.11893,     0.11877,     0.11849,     0.11521,     0.11468,     0.11375,     0.11329,     0.11169,\n",
       "            0.11102,     0.11035,     0.10893,     0.10754,     0.10549,     0.10322,     0.10305,      0.1027,     0.10196,    0.099447,    0.097158,    0.096544,    0.093991,    0.093326,     0.09269,     0.09269,    0.091643,    0.091392,    0.088599,    0.087088,    0.086594,    0.085988,    0.083257,\n",
       "           0.081406,    0.080504,     0.07577,    0.075497,    0.072082,    0.070991,    0.069563,     0.06798,    0.065494,    0.064515,    0.060095,    0.058861,    0.057174,    0.055918,    0.054984,    0.054667,    0.052162,    0.051443,    0.050689,    0.049713,    0.049062,    0.048678,    0.048295,\n",
       "           0.047912,    0.047529,    0.047145,    0.046762,    0.046379,    0.045995,    0.045612,    0.045229,    0.044845,    0.044462,    0.044079,    0.043696,    0.043312,    0.042929,    0.042546,    0.042162,    0.041779,    0.041396,    0.041013,    0.040629,    0.040246,    0.039863,    0.039479,\n",
       "           0.039096,    0.038713,    0.038329,    0.037946,    0.037563,     0.03718,    0.036796,    0.036413,     0.03603,    0.035646,    0.035263,     0.03488,    0.034497,    0.034113,     0.03373,    0.033347,    0.032963,     0.03258,    0.032197,    0.031813,     0.03143,    0.031047,    0.030664,\n",
       "            0.03028,    0.029897,    0.029514,     0.02913,    0.028747,    0.028364,    0.027981,    0.027597,    0.027214,    0.026831,    0.026447,    0.026064,    0.025681,    0.025297,    0.024914,    0.024531,    0.024148,    0.023764,    0.023381,    0.022998,    0.022614,    0.022231,    0.021848,\n",
       "           0.021464,    0.021081,    0.020698,    0.020315,    0.019931,    0.019548,    0.019165,    0.018781,    0.018398,    0.018015,    0.017632,    0.017248,    0.016865,    0.016482,    0.016098,    0.015715,    0.015332,    0.014948,    0.014565,    0.014182,    0.013799,    0.013415,    0.013032,\n",
       "           0.012649,    0.012265,    0.011882,    0.011499,    0.011116,    0.010732,    0.010349,   0.0099657,   0.0095824,   0.0091991,   0.0088158,   0.0084325,   0.0080492,   0.0076659,   0.0072826,   0.0068993,    0.006516,   0.0061327,   0.0057494,   0.0053661,   0.0049828,   0.0045995,   0.0042162,\n",
       "          0.0038329,   0.0034497,   0.0030664,   0.0026831,   0.0022998,   0.0019165,   0.0015332,   0.0011499,  0.00076659,  0.00038329,           0]]), 'Recall', 'Precision'], [array([          0,    0.001001,    0.002002,    0.003003,    0.004004,    0.005005,    0.006006,    0.007007,    0.008008,    0.009009,     0.01001,    0.011011,    0.012012,    0.013013,    0.014014,    0.015015,    0.016016,    0.017017,    0.018018,    0.019019,     0.02002,    0.021021,    0.022022,    0.023023,\n",
       "          0.024024,    0.025025,    0.026026,    0.027027,    0.028028,    0.029029,     0.03003,    0.031031,    0.032032,    0.033033,    0.034034,    0.035035,    0.036036,    0.037037,    0.038038,    0.039039,     0.04004,    0.041041,    0.042042,    0.043043,    0.044044,    0.045045,    0.046046,    0.047047,\n",
       "          0.048048,    0.049049,     0.05005,    0.051051,    0.052052,    0.053053,    0.054054,    0.055055,    0.056056,    0.057057,    0.058058,    0.059059,     0.06006,    0.061061,    0.062062,    0.063063,    0.064064,    0.065065,    0.066066,    0.067067,    0.068068,    0.069069,     0.07007,    0.071071,\n",
       "          0.072072,    0.073073,    0.074074,    0.075075,    0.076076,    0.077077,    0.078078,    0.079079,     0.08008,    0.081081,    0.082082,    0.083083,    0.084084,    0.085085,    0.086086,    0.087087,    0.088088,    0.089089,     0.09009,    0.091091,    0.092092,    0.093093,    0.094094,    0.095095,\n",
       "          0.096096,    0.097097,    0.098098,    0.099099,      0.1001,      0.1011,      0.1021,      0.1031,      0.1041,     0.10511,     0.10611,     0.10711,     0.10811,     0.10911,     0.11011,     0.11111,     0.11211,     0.11311,     0.11411,     0.11512,     0.11612,     0.11712,     0.11812,     0.11912,\n",
       "           0.12012,     0.12112,     0.12212,     0.12312,     0.12412,     0.12513,     0.12613,     0.12713,     0.12813,     0.12913,     0.13013,     0.13113,     0.13213,     0.13313,     0.13413,     0.13514,     0.13614,     0.13714,     0.13814,     0.13914,     0.14014,     0.14114,     0.14214,     0.14314,\n",
       "           0.14414,     0.14515,     0.14615,     0.14715,     0.14815,     0.14915,     0.15015,     0.15115,     0.15215,     0.15315,     0.15415,     0.15516,     0.15616,     0.15716,     0.15816,     0.15916,     0.16016,     0.16116,     0.16216,     0.16316,     0.16416,     0.16517,     0.16617,     0.16717,\n",
       "           0.16817,     0.16917,     0.17017,     0.17117,     0.17217,     0.17317,     0.17417,     0.17518,     0.17618,     0.17718,     0.17818,     0.17918,     0.18018,     0.18118,     0.18218,     0.18318,     0.18418,     0.18519,     0.18619,     0.18719,     0.18819,     0.18919,     0.19019,     0.19119,\n",
       "           0.19219,     0.19319,     0.19419,      0.1952,      0.1962,      0.1972,      0.1982,      0.1992,      0.2002,      0.2012,      0.2022,      0.2032,      0.2042,     0.20521,     0.20621,     0.20721,     0.20821,     0.20921,     0.21021,     0.21121,     0.21221,     0.21321,     0.21421,     0.21522,\n",
       "           0.21622,     0.21722,     0.21822,     0.21922,     0.22022,     0.22122,     0.22222,     0.22322,     0.22422,     0.22523,     0.22623,     0.22723,     0.22823,     0.22923,     0.23023,     0.23123,     0.23223,     0.23323,     0.23423,     0.23524,     0.23624,     0.23724,     0.23824,     0.23924,\n",
       "           0.24024,     0.24124,     0.24224,     0.24324,     0.24424,     0.24525,     0.24625,     0.24725,     0.24825,     0.24925,     0.25025,     0.25125,     0.25225,     0.25325,     0.25425,     0.25526,     0.25626,     0.25726,     0.25826,     0.25926,     0.26026,     0.26126,     0.26226,     0.26326,\n",
       "           0.26426,     0.26527,     0.26627,     0.26727,     0.26827,     0.26927,     0.27027,     0.27127,     0.27227,     0.27327,     0.27427,     0.27528,     0.27628,     0.27728,     0.27828,     0.27928,     0.28028,     0.28128,     0.28228,     0.28328,     0.28428,     0.28529,     0.28629,     0.28729,\n",
       "           0.28829,     0.28929,     0.29029,     0.29129,     0.29229,     0.29329,     0.29429,      0.2953,      0.2963,      0.2973,      0.2983,      0.2993,      0.3003,      0.3013,      0.3023,      0.3033,      0.3043,     0.30531,     0.30631,     0.30731,     0.30831,     0.30931,     0.31031,     0.31131,\n",
       "           0.31231,     0.31331,     0.31431,     0.31532,     0.31632,     0.31732,     0.31832,     0.31932,     0.32032,     0.32132,     0.32232,     0.32332,     0.32432,     0.32533,     0.32633,     0.32733,     0.32833,     0.32933,     0.33033,     0.33133,     0.33233,     0.33333,     0.33433,     0.33534,\n",
       "           0.33634,     0.33734,     0.33834,     0.33934,     0.34034,     0.34134,     0.34234,     0.34334,     0.34434,     0.34535,     0.34635,     0.34735,     0.34835,     0.34935,     0.35035,     0.35135,     0.35235,     0.35335,     0.35435,     0.35536,     0.35636,     0.35736,     0.35836,     0.35936,\n",
       "           0.36036,     0.36136,     0.36236,     0.36336,     0.36436,     0.36537,     0.36637,     0.36737,     0.36837,     0.36937,     0.37037,     0.37137,     0.37237,     0.37337,     0.37437,     0.37538,     0.37638,     0.37738,     0.37838,     0.37938,     0.38038,     0.38138,     0.38238,     0.38338,\n",
       "           0.38438,     0.38539,     0.38639,     0.38739,     0.38839,     0.38939,     0.39039,     0.39139,     0.39239,     0.39339,     0.39439,      0.3954,      0.3964,      0.3974,      0.3984,      0.3994,      0.4004,      0.4014,      0.4024,      0.4034,      0.4044,     0.40541,     0.40641,     0.40741,\n",
       "           0.40841,     0.40941,     0.41041,     0.41141,     0.41241,     0.41341,     0.41441,     0.41542,     0.41642,     0.41742,     0.41842,     0.41942,     0.42042,     0.42142,     0.42242,     0.42342,     0.42442,     0.42543,     0.42643,     0.42743,     0.42843,     0.42943,     0.43043,     0.43143,\n",
       "           0.43243,     0.43343,     0.43443,     0.43544,     0.43644,     0.43744,     0.43844,     0.43944,     0.44044,     0.44144,     0.44244,     0.44344,     0.44444,     0.44545,     0.44645,     0.44745,     0.44845,     0.44945,     0.45045,     0.45145,     0.45245,     0.45345,     0.45445,     0.45546,\n",
       "           0.45646,     0.45746,     0.45846,     0.45946,     0.46046,     0.46146,     0.46246,     0.46346,     0.46446,     0.46547,     0.46647,     0.46747,     0.46847,     0.46947,     0.47047,     0.47147,     0.47247,     0.47347,     0.47447,     0.47548,     0.47648,     0.47748,     0.47848,     0.47948,\n",
       "           0.48048,     0.48148,     0.48248,     0.48348,     0.48448,     0.48549,     0.48649,     0.48749,     0.48849,     0.48949,     0.49049,     0.49149,     0.49249,     0.49349,     0.49449,      0.4955,      0.4965,      0.4975,      0.4985,      0.4995,      0.5005,      0.5015,      0.5025,      0.5035,\n",
       "            0.5045,     0.50551,     0.50651,     0.50751,     0.50851,     0.50951,     0.51051,     0.51151,     0.51251,     0.51351,     0.51451,     0.51552,     0.51652,     0.51752,     0.51852,     0.51952,     0.52052,     0.52152,     0.52252,     0.52352,     0.52452,     0.52553,     0.52653,     0.52753,\n",
       "           0.52853,     0.52953,     0.53053,     0.53153,     0.53253,     0.53353,     0.53453,     0.53554,     0.53654,     0.53754,     0.53854,     0.53954,     0.54054,     0.54154,     0.54254,     0.54354,     0.54454,     0.54555,     0.54655,     0.54755,     0.54855,     0.54955,     0.55055,     0.55155,\n",
       "           0.55255,     0.55355,     0.55455,     0.55556,     0.55656,     0.55756,     0.55856,     0.55956,     0.56056,     0.56156,     0.56256,     0.56356,     0.56456,     0.56557,     0.56657,     0.56757,     0.56857,     0.56957,     0.57057,     0.57157,     0.57257,     0.57357,     0.57457,     0.57558,\n",
       "           0.57658,     0.57758,     0.57858,     0.57958,     0.58058,     0.58158,     0.58258,     0.58358,     0.58458,     0.58559,     0.58659,     0.58759,     0.58859,     0.58959,     0.59059,     0.59159,     0.59259,     0.59359,     0.59459,      0.5956,      0.5966,      0.5976,      0.5986,      0.5996,\n",
       "            0.6006,      0.6016,      0.6026,      0.6036,      0.6046,     0.60561,     0.60661,     0.60761,     0.60861,     0.60961,     0.61061,     0.61161,     0.61261,     0.61361,     0.61461,     0.61562,     0.61662,     0.61762,     0.61862,     0.61962,     0.62062,     0.62162,     0.62262,     0.62362,\n",
       "           0.62462,     0.62563,     0.62663,     0.62763,     0.62863,     0.62963,     0.63063,     0.63163,     0.63263,     0.63363,     0.63463,     0.63564,     0.63664,     0.63764,     0.63864,     0.63964,     0.64064,     0.64164,     0.64264,     0.64364,     0.64464,     0.64565,     0.64665,     0.64765,\n",
       "           0.64865,     0.64965,     0.65065,     0.65165,     0.65265,     0.65365,     0.65465,     0.65566,     0.65666,     0.65766,     0.65866,     0.65966,     0.66066,     0.66166,     0.66266,     0.66366,     0.66466,     0.66567,     0.66667,     0.66767,     0.66867,     0.66967,     0.67067,     0.67167,\n",
       "           0.67267,     0.67367,     0.67467,     0.67568,     0.67668,     0.67768,     0.67868,     0.67968,     0.68068,     0.68168,     0.68268,     0.68368,     0.68468,     0.68569,     0.68669,     0.68769,     0.68869,     0.68969,     0.69069,     0.69169,     0.69269,     0.69369,     0.69469,      0.6957,\n",
       "            0.6967,      0.6977,      0.6987,      0.6997,      0.7007,      0.7017,      0.7027,      0.7037,      0.7047,     0.70571,     0.70671,     0.70771,     0.70871,     0.70971,     0.71071,     0.71171,     0.71271,     0.71371,     0.71471,     0.71572,     0.71672,     0.71772,     0.71872,     0.71972,\n",
       "           0.72072,     0.72172,     0.72272,     0.72372,     0.72472,     0.72573,     0.72673,     0.72773,     0.72873,     0.72973,     0.73073,     0.73173,     0.73273,     0.73373,     0.73473,     0.73574,     0.73674,     0.73774,     0.73874,     0.73974,     0.74074,     0.74174,     0.74274,     0.74374,\n",
       "           0.74474,     0.74575,     0.74675,     0.74775,     0.74875,     0.74975,     0.75075,     0.75175,     0.75275,     0.75375,     0.75475,     0.75576,     0.75676,     0.75776,     0.75876,     0.75976,     0.76076,     0.76176,     0.76276,     0.76376,     0.76476,     0.76577,     0.76677,     0.76777,\n",
       "           0.76877,     0.76977,     0.77077,     0.77177,     0.77277,     0.77377,     0.77477,     0.77578,     0.77678,     0.77778,     0.77878,     0.77978,     0.78078,     0.78178,     0.78278,     0.78378,     0.78478,     0.78579,     0.78679,     0.78779,     0.78879,     0.78979,     0.79079,     0.79179,\n",
       "           0.79279,     0.79379,     0.79479,      0.7958,      0.7968,      0.7978,      0.7988,      0.7998,      0.8008,      0.8018,      0.8028,      0.8038,      0.8048,     0.80581,     0.80681,     0.80781,     0.80881,     0.80981,     0.81081,     0.81181,     0.81281,     0.81381,     0.81481,     0.81582,\n",
       "           0.81682,     0.81782,     0.81882,     0.81982,     0.82082,     0.82182,     0.82282,     0.82382,     0.82482,     0.82583,     0.82683,     0.82783,     0.82883,     0.82983,     0.83083,     0.83183,     0.83283,     0.83383,     0.83483,     0.83584,     0.83684,     0.83784,     0.83884,     0.83984,\n",
       "           0.84084,     0.84184,     0.84284,     0.84384,     0.84484,     0.84585,     0.84685,     0.84785,     0.84885,     0.84985,     0.85085,     0.85185,     0.85285,     0.85385,     0.85485,     0.85586,     0.85686,     0.85786,     0.85886,     0.85986,     0.86086,     0.86186,     0.86286,     0.86386,\n",
       "           0.86486,     0.86587,     0.86687,     0.86787,     0.86887,     0.86987,     0.87087,     0.87187,     0.87287,     0.87387,     0.87487,     0.87588,     0.87688,     0.87788,     0.87888,     0.87988,     0.88088,     0.88188,     0.88288,     0.88388,     0.88488,     0.88589,     0.88689,     0.88789,\n",
       "           0.88889,     0.88989,     0.89089,     0.89189,     0.89289,     0.89389,     0.89489,      0.8959,      0.8969,      0.8979,      0.8989,      0.8999,      0.9009,      0.9019,      0.9029,      0.9039,      0.9049,     0.90591,     0.90691,     0.90791,     0.90891,     0.90991,     0.91091,     0.91191,\n",
       "           0.91291,     0.91391,     0.91491,     0.91592,     0.91692,     0.91792,     0.91892,     0.91992,     0.92092,     0.92192,     0.92292,     0.92392,     0.92492,     0.92593,     0.92693,     0.92793,     0.92893,     0.92993,     0.93093,     0.93193,     0.93293,     0.93393,     0.93493,     0.93594,\n",
       "           0.93694,     0.93794,     0.93894,     0.93994,     0.94094,     0.94194,     0.94294,     0.94394,     0.94494,     0.94595,     0.94695,     0.94795,     0.94895,     0.94995,     0.95095,     0.95195,     0.95295,     0.95395,     0.95495,     0.95596,     0.95696,     0.95796,     0.95896,     0.95996,\n",
       "           0.96096,     0.96196,     0.96296,     0.96396,     0.96496,     0.96597,     0.96697,     0.96797,     0.96897,     0.96997,     0.97097,     0.97197,     0.97297,     0.97397,     0.97497,     0.97598,     0.97698,     0.97798,     0.97898,     0.97998,     0.98098,     0.98198,     0.98298,     0.98398,\n",
       "           0.98498,     0.98599,     0.98699,     0.98799,     0.98899,     0.98999,     0.99099,     0.99199,     0.99299,     0.99399,     0.99499,       0.996,       0.997,       0.998,       0.999,           1]), array([[   0.093314,    0.093314,     0.12493,     0.14944,     0.16877,     0.18529,     0.19978,     0.21164,     0.22428,     0.23486,     0.24611,     0.25619,     0.26575,     0.27345,     0.28267,     0.29085,     0.29912,     0.30813,      0.3149,     0.32318,     0.33018,     0.33784,     0.34271,\n",
       "            0.34804,     0.35306,     0.35976,      0.3653,     0.37052,     0.37522,     0.37922,     0.38329,     0.38745,     0.39121,     0.39534,     0.39991,     0.40383,     0.40854,     0.41131,     0.41495,     0.41762,     0.42138,     0.42514,     0.42813,     0.43222,     0.43556,     0.43818,\n",
       "            0.44098,     0.44506,     0.44745,     0.44986,     0.45413,     0.45736,      0.4609,     0.46423,     0.46732,     0.47051,     0.47357,     0.47605,     0.47812,     0.48106,     0.48303,     0.48604,     0.48839,     0.49116,     0.49372,     0.49608,     0.49759,     0.49927,     0.50236,\n",
       "            0.50398,     0.50574,     0.50786,     0.50918,      0.5103,      0.5127,     0.51359,     0.51515,     0.51718,     0.51858,     0.52127,     0.52346,     0.52553,     0.52694,     0.52881,     0.53018,     0.53303,     0.53483,      0.5366,     0.53775,     0.53975,     0.54092,     0.54269,\n",
       "             0.5436,     0.54574,     0.54702,     0.54811,     0.55008,     0.55201,     0.55248,     0.55332,     0.55385,     0.55557,     0.55636,     0.55781,      0.5587,     0.55959,     0.56132,     0.56286,     0.56374,     0.56456,     0.56658,     0.56755,     0.56913,     0.56919,     0.56976,\n",
       "             0.5702,     0.57068,     0.57109,     0.57161,     0.57183,     0.57311,     0.57396,     0.57411,       0.575,     0.57554,     0.57627,     0.57757,      0.5784,      0.5792,     0.58065,     0.58079,      0.5815,     0.58205,     0.58325,      0.5845,     0.58435,     0.58455,     0.58542,\n",
       "            0.58548,     0.58621,     0.58735,     0.58707,      0.5876,     0.58825,     0.58914,     0.58895,     0.59019,     0.59048,     0.59141,     0.59138,     0.59172,     0.59263,     0.59308,     0.59326,     0.59301,      0.5932,      0.5942,      0.5942,     0.59441,      0.5946,     0.59463,\n",
       "            0.59545,     0.59549,     0.59543,     0.59649,     0.59732,      0.5975,     0.59843,     0.59891,     0.59918,     0.59948,     0.59989,     0.60083,     0.60122,     0.60114,     0.60095,     0.60077,     0.60012,     0.60062,     0.60104,     0.60135,     0.60116,     0.60136,     0.60178,\n",
       "            0.60208,     0.60252,     0.60294,     0.60307,      0.6035,     0.60382,     0.60476,     0.60487,     0.60554,      0.6059,     0.60631,     0.60615,     0.60612,     0.60659,     0.60699,     0.60672,     0.60734,     0.60764,     0.60838,     0.60868,     0.60921,     0.60948,     0.61045,\n",
       "            0.61016,     0.61012,     0.61029,     0.61107,     0.61105,     0.61146,     0.61159,     0.61189,      0.6123,     0.61247,     0.61283,     0.61352,     0.61316,     0.61369,     0.61452,     0.61509,     0.61525,     0.61529,     0.61484,     0.61465,     0.61497,     0.61604,     0.61624,\n",
       "            0.61682,     0.61684,     0.61718,     0.61743,     0.61767,     0.61897,     0.61923,     0.61945,     0.61915,     0.61945,     0.62061,     0.62179,     0.62192,     0.62281,     0.62278,      0.6221,     0.62209,     0.62284,     0.62329,     0.62314,     0.62375,     0.62447,     0.62513,\n",
       "            0.62587,     0.62596,      0.6262,     0.62637,     0.62654,     0.62673,     0.62716,      0.6275,     0.62856,       0.629,      0.6292,     0.62937,     0.62983,     0.62972,     0.62984,     0.62988,     0.63002,     0.63025,     0.62993,     0.62981,     0.62969,     0.62964,     0.62967,\n",
       "            0.63006,     0.63016,     0.63032,     0.62956,     0.63035,     0.63019,     0.63018,     0.62982,     0.62963,     0.62933,      0.6301,     0.63028,     0.63014,     0.63061,     0.63085,     0.63097,     0.63117,     0.63109,      0.6315,     0.63151,     0.63151,     0.63079,     0.63084,\n",
       "            0.63055,     0.63075,     0.63069,      0.6308,     0.63004,     0.63058,     0.63064,     0.63145,     0.63179,     0.63179,     0.63238,     0.63247,     0.63275,     0.63267,     0.63252,     0.63282,     0.63249,     0.63232,     0.63217,       0.632,     0.63315,     0.63277,     0.63186,\n",
       "            0.63182,     0.63204,     0.63289,     0.63298,     0.63347,     0.63346,     0.63389,     0.63424,     0.63404,     0.63373,      0.6335,     0.63356,     0.63363,     0.63316,     0.63264,     0.63277,     0.63311,     0.63343,     0.63326,      0.6336,      0.6334,     0.63352,     0.63338,\n",
       "            0.63377,     0.63336,     0.63341,     0.63305,     0.63323,     0.63304,     0.63317,     0.63346,     0.63286,     0.63302,     0.63351,      0.6333,     0.63322,     0.63276,     0.63304,     0.63301,     0.63258,     0.63244,     0.63313,     0.63305,     0.63333,     0.63376,     0.63417,\n",
       "            0.63449,     0.63356,     0.63286,     0.63231,     0.63229,      0.6319,     0.63176,     0.63184,     0.63254,     0.63263,     0.63343,     0.63375,     0.63323,     0.63361,     0.63253,     0.63131,     0.63148,     0.63087,     0.63078,     0.63066,     0.63055,     0.62991,     0.62963,\n",
       "            0.62961,      0.6299,     0.62975,     0.62992,     0.63009,     0.63041,     0.63068,     0.63087,     0.63104,      0.6307,     0.63031,     0.62992,     0.62956,     0.62965,     0.62946,     0.62927,     0.62892,     0.62901,     0.62911,     0.62879,     0.62772,     0.62784,     0.62849,\n",
       "            0.62833,     0.62819,     0.62797,     0.62811,     0.62827,     0.62844,     0.62861,     0.62801,     0.62736,     0.62749,     0.62647,      0.6268,     0.62661,     0.62672,     0.62653,     0.62643,     0.62646,     0.62618,     0.62616,     0.62632,     0.62577,     0.62544,     0.62523,\n",
       "            0.62492,     0.62525,     0.62558,     0.62555,       0.625,     0.62497,     0.62442,     0.62475,     0.62456,     0.62472,     0.62473,     0.62436,     0.62414,     0.62444,     0.62385,     0.62366,     0.62411,     0.62344,     0.62361,     0.62325,     0.62342,     0.62392,     0.62409,\n",
       "            0.62426,     0.62406,     0.62473,      0.6249,      0.6254,     0.62537,     0.62518,     0.62478,     0.62457,     0.62436,     0.62366,     0.62341,     0.62347,     0.62336,     0.62262,     0.62274,     0.62302,     0.62285,     0.62315,     0.62206,     0.62148,      0.6211,     0.62032,\n",
       "            0.61978,     0.61995,     0.61984,     0.61914,     0.61894,      0.6189,     0.61911,     0.61799,     0.61723,     0.61647,     0.61627,     0.61661,     0.61664,     0.61645,     0.61641,     0.61692,     0.61645,     0.61614,     0.61648,     0.61651,     0.61612,     0.61586,     0.61586,\n",
       "             0.6158,     0.61504,     0.61521,     0.61498,     0.61422,     0.61426,     0.61399,     0.61284,     0.61292,     0.61319,     0.61328,     0.61353,     0.61361,     0.61281,     0.61184,     0.61218,     0.61224,     0.61229,     0.61236,     0.61244,     0.61254,      0.6115,     0.61131,\n",
       "            0.61073,     0.61053,     0.60968,     0.60985,     0.60924,     0.60918,     0.60886,     0.60866,     0.60841,     0.60837,     0.60798,     0.60778,     0.60778,     0.60764,     0.60757,     0.60641,     0.60637,     0.60616,     0.60556,      0.6053,      0.6051,     0.60402,     0.60336,\n",
       "            0.60236,     0.60207,     0.60178,     0.60138,      0.6011,     0.59955,     0.59931,     0.59862,     0.59841,     0.59799,     0.59779,     0.59629,     0.59578,     0.59587,     0.59618,     0.59635,     0.59573,     0.59526,     0.59446,      0.5945,     0.59467,      0.5947,     0.59456,\n",
       "              0.594,     0.59296,     0.59255,     0.59231,      0.5919,      0.5909,     0.59084,     0.58985,     0.58943,     0.58915,     0.58894,      0.5886,     0.58819,     0.58795,     0.58754,     0.58713,     0.58705,       0.586,     0.58558,      0.5855,     0.58485,     0.58491,     0.58318,\n",
       "            0.58236,     0.58182,     0.58211,      0.5822,     0.58233,     0.58216,     0.58205,     0.58213,     0.58108,     0.58062,     0.58021,     0.57925,     0.57931,     0.57936,     0.57934,     0.57913,     0.57843,     0.57801,     0.57677,     0.57632,     0.57548,     0.57424,     0.57432,\n",
       "            0.57257,     0.57215,     0.57131,     0.57001,     0.56955,     0.56934,     0.56898,     0.56806,     0.56721,     0.56611,     0.56531,     0.56486,     0.56411,     0.56386,     0.56395,     0.56404,     0.56416,     0.56392,     0.56323,     0.56171,     0.56151,     0.56069,     0.56077,\n",
       "            0.56033,      0.5598,     0.55936,     0.55909,     0.55882,      0.5585,     0.55764,     0.55678,     0.55634,     0.55533,     0.55499,     0.55508,      0.5547,     0.55298,     0.55182,     0.55135,     0.55118,     0.55096,      0.5496,     0.54918,     0.54895,       0.548,     0.54678,\n",
       "            0.54619,     0.54617,     0.54546,     0.54469,     0.54347,     0.54322,     0.54216,     0.54152,     0.54036,     0.54046,     0.53967,     0.53878,     0.53855,     0.53667,     0.53551,      0.5356,     0.53393,     0.53392,      0.5337,     0.53288,     0.53191,     0.53073,     0.53016,\n",
       "            0.52886,     0.52864,     0.52834,     0.52791,     0.52785,     0.52526,     0.52511,     0.52495,     0.52298,      0.5228,     0.52262,      0.5223,     0.52189,     0.52099,     0.52076,     0.51879,     0.51712,     0.51657,     0.51429,     0.51382,     0.51282,     0.51235,     0.51121,\n",
       "             0.5095,     0.50903,     0.50808,     0.50803,     0.50716,     0.50638,     0.50552,      0.5049,     0.50434,     0.50169,     0.50138,     0.50088,      0.5004,     0.49984,     0.49696,     0.49493,     0.49469,     0.49395,     0.49363,     0.49247,     0.49109,     0.49076,     0.49045,\n",
       "             0.4875,      0.4868,     0.48628,     0.48483,     0.48402,     0.48356,     0.48378,     0.48374,     0.48354,     0.48245,     0.48224,      0.4823,     0.48218,     0.48121,     0.47982,     0.47918,      0.4781,       0.478,     0.47635,     0.47579,     0.47289,      0.4699,     0.46768,\n",
       "            0.46693,     0.46545,     0.46434,     0.46309,     0.46254,     0.46193,     0.46159,     0.46125,     0.45836,     0.45724,     0.45671,     0.45587,     0.45553,     0.45509,     0.45441,       0.453,     0.45178,     0.45121,     0.44965,     0.44931,     0.44641,     0.44386,     0.44396,\n",
       "            0.44357,     0.44283,     0.44265,      0.4409,     0.43901,     0.43729,     0.43448,     0.43412,     0.43157,     0.43104,     0.42762,       0.427,     0.42496,     0.42331,     0.42124,     0.41956,      0.4192,     0.41876,     0.41748,     0.41508,     0.41397,     0.41267,     0.41159,\n",
       "             0.4091,     0.40502,     0.40383,     0.40208,     0.40226,     0.40134,     0.39889,     0.39762,     0.39447,     0.39259,     0.39182,     0.39065,      0.3877,     0.38733,     0.38594,     0.38437,     0.38286,     0.38006,     0.37925,     0.37757,     0.37634,     0.37477,     0.37218,\n",
       "            0.37117,     0.37014,     0.36745,     0.36557,     0.36374,     0.35938,     0.35816,     0.35786,     0.35738,     0.35589,     0.35503,     0.35385,     0.35094,      0.3486,     0.34513,     0.34447,     0.34106,     0.33655,     0.33584,     0.33357,     0.33189,      0.3302,      0.3272,\n",
       "            0.32358,     0.32116,     0.31692,     0.31508,     0.31323,     0.31138,      0.3101,     0.30645,     0.30152,     0.29409,     0.29227,     0.28952,     0.28549,     0.28055,     0.28022,     0.27911,     0.27718,     0.27335,     0.26922,     0.26701,     0.26505,     0.25858,     0.25401,\n",
       "            0.25073,     0.24546,     0.24284,     0.24154,     0.24019,     0.23694,     0.23557,     0.23288,     0.22951,     0.22747,     0.22517,      0.2227,     0.22064,     0.21527,     0.21251,     0.20838,     0.20441,     0.20281,     0.20009,     0.19599,     0.19447,     0.18885,     0.18671,\n",
       "            0.17718,     0.17541,     0.17074,     0.16461,     0.15952,     0.15586,     0.15007,     0.14776,     0.14332,     0.13811,      0.1342,     0.13066,     0.12556,     0.12384,     0.12079,     0.11924,     0.11466,     0.10929,     0.10465,    0.099552,    0.097681,    0.093746,    0.087882,\n",
       "           0.083595,    0.083058,    0.077245,    0.074772,    0.069965,    0.062728,    0.057053,    0.052968,    0.049679,    0.045562,    0.043911,    0.041387,    0.038058,    0.035544,    0.033746,    0.032155,    0.029147,     0.02709,    0.025908,    0.025339,    0.018624,    0.016882,    0.014406,\n",
       "           0.013974,    0.013385,    0.011779,    0.010765,   0.0090289,   0.0074794,   0.0063974,    0.005312,   0.0037589,   0.0015988,   0.0012485,  0.00089819,           0,           0,           0,           0,           0,           0,           0,           0,           0,           0,           0,\n",
       "                  0,           0,           0,           0,           0,           0,           0,           0,           0,           0,           0,           0,           0,           0,           0,           0,           0,           0,           0,           0,           0,           0,           0,\n",
       "                  0,           0,           0,           0,           0,           0,           0,           0,           0,           0,           0]]), 'Confidence', 'F1'], [array([          0,    0.001001,    0.002002,    0.003003,    0.004004,    0.005005,    0.006006,    0.007007,    0.008008,    0.009009,     0.01001,    0.011011,    0.012012,    0.013013,    0.014014,    0.015015,    0.016016,    0.017017,    0.018018,    0.019019,     0.02002,    0.021021,    0.022022,    0.023023,\n",
       "          0.024024,    0.025025,    0.026026,    0.027027,    0.028028,    0.029029,     0.03003,    0.031031,    0.032032,    0.033033,    0.034034,    0.035035,    0.036036,    0.037037,    0.038038,    0.039039,     0.04004,    0.041041,    0.042042,    0.043043,    0.044044,    0.045045,    0.046046,    0.047047,\n",
       "          0.048048,    0.049049,     0.05005,    0.051051,    0.052052,    0.053053,    0.054054,    0.055055,    0.056056,    0.057057,    0.058058,    0.059059,     0.06006,    0.061061,    0.062062,    0.063063,    0.064064,    0.065065,    0.066066,    0.067067,    0.068068,    0.069069,     0.07007,    0.071071,\n",
       "          0.072072,    0.073073,    0.074074,    0.075075,    0.076076,    0.077077,    0.078078,    0.079079,     0.08008,    0.081081,    0.082082,    0.083083,    0.084084,    0.085085,    0.086086,    0.087087,    0.088088,    0.089089,     0.09009,    0.091091,    0.092092,    0.093093,    0.094094,    0.095095,\n",
       "          0.096096,    0.097097,    0.098098,    0.099099,      0.1001,      0.1011,      0.1021,      0.1031,      0.1041,     0.10511,     0.10611,     0.10711,     0.10811,     0.10911,     0.11011,     0.11111,     0.11211,     0.11311,     0.11411,     0.11512,     0.11612,     0.11712,     0.11812,     0.11912,\n",
       "           0.12012,     0.12112,     0.12212,     0.12312,     0.12412,     0.12513,     0.12613,     0.12713,     0.12813,     0.12913,     0.13013,     0.13113,     0.13213,     0.13313,     0.13413,     0.13514,     0.13614,     0.13714,     0.13814,     0.13914,     0.14014,     0.14114,     0.14214,     0.14314,\n",
       "           0.14414,     0.14515,     0.14615,     0.14715,     0.14815,     0.14915,     0.15015,     0.15115,     0.15215,     0.15315,     0.15415,     0.15516,     0.15616,     0.15716,     0.15816,     0.15916,     0.16016,     0.16116,     0.16216,     0.16316,     0.16416,     0.16517,     0.16617,     0.16717,\n",
       "           0.16817,     0.16917,     0.17017,     0.17117,     0.17217,     0.17317,     0.17417,     0.17518,     0.17618,     0.17718,     0.17818,     0.17918,     0.18018,     0.18118,     0.18218,     0.18318,     0.18418,     0.18519,     0.18619,     0.18719,     0.18819,     0.18919,     0.19019,     0.19119,\n",
       "           0.19219,     0.19319,     0.19419,      0.1952,      0.1962,      0.1972,      0.1982,      0.1992,      0.2002,      0.2012,      0.2022,      0.2032,      0.2042,     0.20521,     0.20621,     0.20721,     0.20821,     0.20921,     0.21021,     0.21121,     0.21221,     0.21321,     0.21421,     0.21522,\n",
       "           0.21622,     0.21722,     0.21822,     0.21922,     0.22022,     0.22122,     0.22222,     0.22322,     0.22422,     0.22523,     0.22623,     0.22723,     0.22823,     0.22923,     0.23023,     0.23123,     0.23223,     0.23323,     0.23423,     0.23524,     0.23624,     0.23724,     0.23824,     0.23924,\n",
       "           0.24024,     0.24124,     0.24224,     0.24324,     0.24424,     0.24525,     0.24625,     0.24725,     0.24825,     0.24925,     0.25025,     0.25125,     0.25225,     0.25325,     0.25425,     0.25526,     0.25626,     0.25726,     0.25826,     0.25926,     0.26026,     0.26126,     0.26226,     0.26326,\n",
       "           0.26426,     0.26527,     0.26627,     0.26727,     0.26827,     0.26927,     0.27027,     0.27127,     0.27227,     0.27327,     0.27427,     0.27528,     0.27628,     0.27728,     0.27828,     0.27928,     0.28028,     0.28128,     0.28228,     0.28328,     0.28428,     0.28529,     0.28629,     0.28729,\n",
       "           0.28829,     0.28929,     0.29029,     0.29129,     0.29229,     0.29329,     0.29429,      0.2953,      0.2963,      0.2973,      0.2983,      0.2993,      0.3003,      0.3013,      0.3023,      0.3033,      0.3043,     0.30531,     0.30631,     0.30731,     0.30831,     0.30931,     0.31031,     0.31131,\n",
       "           0.31231,     0.31331,     0.31431,     0.31532,     0.31632,     0.31732,     0.31832,     0.31932,     0.32032,     0.32132,     0.32232,     0.32332,     0.32432,     0.32533,     0.32633,     0.32733,     0.32833,     0.32933,     0.33033,     0.33133,     0.33233,     0.33333,     0.33433,     0.33534,\n",
       "           0.33634,     0.33734,     0.33834,     0.33934,     0.34034,     0.34134,     0.34234,     0.34334,     0.34434,     0.34535,     0.34635,     0.34735,     0.34835,     0.34935,     0.35035,     0.35135,     0.35235,     0.35335,     0.35435,     0.35536,     0.35636,     0.35736,     0.35836,     0.35936,\n",
       "           0.36036,     0.36136,     0.36236,     0.36336,     0.36436,     0.36537,     0.36637,     0.36737,     0.36837,     0.36937,     0.37037,     0.37137,     0.37237,     0.37337,     0.37437,     0.37538,     0.37638,     0.37738,     0.37838,     0.37938,     0.38038,     0.38138,     0.38238,     0.38338,\n",
       "           0.38438,     0.38539,     0.38639,     0.38739,     0.38839,     0.38939,     0.39039,     0.39139,     0.39239,     0.39339,     0.39439,      0.3954,      0.3964,      0.3974,      0.3984,      0.3994,      0.4004,      0.4014,      0.4024,      0.4034,      0.4044,     0.40541,     0.40641,     0.40741,\n",
       "           0.40841,     0.40941,     0.41041,     0.41141,     0.41241,     0.41341,     0.41441,     0.41542,     0.41642,     0.41742,     0.41842,     0.41942,     0.42042,     0.42142,     0.42242,     0.42342,     0.42442,     0.42543,     0.42643,     0.42743,     0.42843,     0.42943,     0.43043,     0.43143,\n",
       "           0.43243,     0.43343,     0.43443,     0.43544,     0.43644,     0.43744,     0.43844,     0.43944,     0.44044,     0.44144,     0.44244,     0.44344,     0.44444,     0.44545,     0.44645,     0.44745,     0.44845,     0.44945,     0.45045,     0.45145,     0.45245,     0.45345,     0.45445,     0.45546,\n",
       "           0.45646,     0.45746,     0.45846,     0.45946,     0.46046,     0.46146,     0.46246,     0.46346,     0.46446,     0.46547,     0.46647,     0.46747,     0.46847,     0.46947,     0.47047,     0.47147,     0.47247,     0.47347,     0.47447,     0.47548,     0.47648,     0.47748,     0.47848,     0.47948,\n",
       "           0.48048,     0.48148,     0.48248,     0.48348,     0.48448,     0.48549,     0.48649,     0.48749,     0.48849,     0.48949,     0.49049,     0.49149,     0.49249,     0.49349,     0.49449,      0.4955,      0.4965,      0.4975,      0.4985,      0.4995,      0.5005,      0.5015,      0.5025,      0.5035,\n",
       "            0.5045,     0.50551,     0.50651,     0.50751,     0.50851,     0.50951,     0.51051,     0.51151,     0.51251,     0.51351,     0.51451,     0.51552,     0.51652,     0.51752,     0.51852,     0.51952,     0.52052,     0.52152,     0.52252,     0.52352,     0.52452,     0.52553,     0.52653,     0.52753,\n",
       "           0.52853,     0.52953,     0.53053,     0.53153,     0.53253,     0.53353,     0.53453,     0.53554,     0.53654,     0.53754,     0.53854,     0.53954,     0.54054,     0.54154,     0.54254,     0.54354,     0.54454,     0.54555,     0.54655,     0.54755,     0.54855,     0.54955,     0.55055,     0.55155,\n",
       "           0.55255,     0.55355,     0.55455,     0.55556,     0.55656,     0.55756,     0.55856,     0.55956,     0.56056,     0.56156,     0.56256,     0.56356,     0.56456,     0.56557,     0.56657,     0.56757,     0.56857,     0.56957,     0.57057,     0.57157,     0.57257,     0.57357,     0.57457,     0.57558,\n",
       "           0.57658,     0.57758,     0.57858,     0.57958,     0.58058,     0.58158,     0.58258,     0.58358,     0.58458,     0.58559,     0.58659,     0.58759,     0.58859,     0.58959,     0.59059,     0.59159,     0.59259,     0.59359,     0.59459,      0.5956,      0.5966,      0.5976,      0.5986,      0.5996,\n",
       "            0.6006,      0.6016,      0.6026,      0.6036,      0.6046,     0.60561,     0.60661,     0.60761,     0.60861,     0.60961,     0.61061,     0.61161,     0.61261,     0.61361,     0.61461,     0.61562,     0.61662,     0.61762,     0.61862,     0.61962,     0.62062,     0.62162,     0.62262,     0.62362,\n",
       "           0.62462,     0.62563,     0.62663,     0.62763,     0.62863,     0.62963,     0.63063,     0.63163,     0.63263,     0.63363,     0.63463,     0.63564,     0.63664,     0.63764,     0.63864,     0.63964,     0.64064,     0.64164,     0.64264,     0.64364,     0.64464,     0.64565,     0.64665,     0.64765,\n",
       "           0.64865,     0.64965,     0.65065,     0.65165,     0.65265,     0.65365,     0.65465,     0.65566,     0.65666,     0.65766,     0.65866,     0.65966,     0.66066,     0.66166,     0.66266,     0.66366,     0.66466,     0.66567,     0.66667,     0.66767,     0.66867,     0.66967,     0.67067,     0.67167,\n",
       "           0.67267,     0.67367,     0.67467,     0.67568,     0.67668,     0.67768,     0.67868,     0.67968,     0.68068,     0.68168,     0.68268,     0.68368,     0.68468,     0.68569,     0.68669,     0.68769,     0.68869,     0.68969,     0.69069,     0.69169,     0.69269,     0.69369,     0.69469,      0.6957,\n",
       "            0.6967,      0.6977,      0.6987,      0.6997,      0.7007,      0.7017,      0.7027,      0.7037,      0.7047,     0.70571,     0.70671,     0.70771,     0.70871,     0.70971,     0.71071,     0.71171,     0.71271,     0.71371,     0.71471,     0.71572,     0.71672,     0.71772,     0.71872,     0.71972,\n",
       "           0.72072,     0.72172,     0.72272,     0.72372,     0.72472,     0.72573,     0.72673,     0.72773,     0.72873,     0.72973,     0.73073,     0.73173,     0.73273,     0.73373,     0.73473,     0.73574,     0.73674,     0.73774,     0.73874,     0.73974,     0.74074,     0.74174,     0.74274,     0.74374,\n",
       "           0.74474,     0.74575,     0.74675,     0.74775,     0.74875,     0.74975,     0.75075,     0.75175,     0.75275,     0.75375,     0.75475,     0.75576,     0.75676,     0.75776,     0.75876,     0.75976,     0.76076,     0.76176,     0.76276,     0.76376,     0.76476,     0.76577,     0.76677,     0.76777,\n",
       "           0.76877,     0.76977,     0.77077,     0.77177,     0.77277,     0.77377,     0.77477,     0.77578,     0.77678,     0.77778,     0.77878,     0.77978,     0.78078,     0.78178,     0.78278,     0.78378,     0.78478,     0.78579,     0.78679,     0.78779,     0.78879,     0.78979,     0.79079,     0.79179,\n",
       "           0.79279,     0.79379,     0.79479,      0.7958,      0.7968,      0.7978,      0.7988,      0.7998,      0.8008,      0.8018,      0.8028,      0.8038,      0.8048,     0.80581,     0.80681,     0.80781,     0.80881,     0.80981,     0.81081,     0.81181,     0.81281,     0.81381,     0.81481,     0.81582,\n",
       "           0.81682,     0.81782,     0.81882,     0.81982,     0.82082,     0.82182,     0.82282,     0.82382,     0.82482,     0.82583,     0.82683,     0.82783,     0.82883,     0.82983,     0.83083,     0.83183,     0.83283,     0.83383,     0.83483,     0.83584,     0.83684,     0.83784,     0.83884,     0.83984,\n",
       "           0.84084,     0.84184,     0.84284,     0.84384,     0.84484,     0.84585,     0.84685,     0.84785,     0.84885,     0.84985,     0.85085,     0.85185,     0.85285,     0.85385,     0.85485,     0.85586,     0.85686,     0.85786,     0.85886,     0.85986,     0.86086,     0.86186,     0.86286,     0.86386,\n",
       "           0.86486,     0.86587,     0.86687,     0.86787,     0.86887,     0.86987,     0.87087,     0.87187,     0.87287,     0.87387,     0.87487,     0.87588,     0.87688,     0.87788,     0.87888,     0.87988,     0.88088,     0.88188,     0.88288,     0.88388,     0.88488,     0.88589,     0.88689,     0.88789,\n",
       "           0.88889,     0.88989,     0.89089,     0.89189,     0.89289,     0.89389,     0.89489,      0.8959,      0.8969,      0.8979,      0.8989,      0.8999,      0.9009,      0.9019,      0.9029,      0.9039,      0.9049,     0.90591,     0.90691,     0.90791,     0.90891,     0.90991,     0.91091,     0.91191,\n",
       "           0.91291,     0.91391,     0.91491,     0.91592,     0.91692,     0.91792,     0.91892,     0.91992,     0.92092,     0.92192,     0.92292,     0.92392,     0.92492,     0.92593,     0.92693,     0.92793,     0.92893,     0.92993,     0.93093,     0.93193,     0.93293,     0.93393,     0.93493,     0.93594,\n",
       "           0.93694,     0.93794,     0.93894,     0.93994,     0.94094,     0.94194,     0.94294,     0.94394,     0.94494,     0.94595,     0.94695,     0.94795,     0.94895,     0.94995,     0.95095,     0.95195,     0.95295,     0.95395,     0.95495,     0.95596,     0.95696,     0.95796,     0.95896,     0.95996,\n",
       "           0.96096,     0.96196,     0.96296,     0.96396,     0.96496,     0.96597,     0.96697,     0.96797,     0.96897,     0.96997,     0.97097,     0.97197,     0.97297,     0.97397,     0.97497,     0.97598,     0.97698,     0.97798,     0.97898,     0.97998,     0.98098,     0.98198,     0.98298,     0.98398,\n",
       "           0.98498,     0.98599,     0.98699,     0.98799,     0.98899,     0.98999,     0.99099,     0.99199,     0.99299,     0.99399,     0.99499,       0.996,       0.997,       0.998,       0.999,           1]), array([[   0.049297,    0.049297,    0.067362,    0.081907,    0.093791,     0.10423,     0.11364,     0.12152,     0.13002,     0.13735,     0.14526,     0.15252,     0.15949,     0.16532,     0.17223,      0.1785,     0.18488,      0.1919,     0.19731,     0.20395,     0.20965,     0.21593,     0.22038,\n",
       "            0.22502,     0.22951,     0.23532,     0.24038,     0.24511,     0.24948,     0.25345,      0.2572,     0.26126,     0.26497,     0.26899,      0.2733,     0.27722,     0.28186,     0.28488,     0.28851,      0.2913,     0.29497,     0.29874,     0.30206,     0.30637,     0.31004,     0.31326,\n",
       "            0.31636,     0.32083,     0.32366,     0.32663,     0.33124,     0.33496,     0.33908,     0.34297,     0.34645,     0.35007,     0.35378,     0.35666,     0.35932,     0.36287,     0.36534,     0.36891,     0.37162,     0.37496,     0.37819,      0.3811,     0.38309,     0.38536,     0.38919,\n",
       "            0.39128,      0.3938,     0.39665,      0.3984,      0.4006,     0.40357,     0.40538,     0.40733,      0.4103,     0.41238,     0.41609,      0.4192,     0.42186,     0.42384,     0.42643,     0.42869,     0.43277,     0.43514,     0.43749,     0.43902,      0.4417,     0.44432,     0.44689,\n",
       "            0.44867,     0.45159,     0.45372,     0.45559,     0.45852,      0.4614,     0.46264,     0.46381,     0.46496,     0.46758,     0.46891,     0.47117,     0.47327,     0.47516,     0.47788,     0.48011,     0.48155,     0.48345,     0.48665,     0.48853,     0.49109,     0.49186,     0.49318,\n",
       "            0.49476,     0.49618,     0.49773,       0.499,     0.49981,     0.50201,     0.50366,     0.50453,     0.50665,     0.50799,     0.50988,     0.51192,     0.51322,     0.51501,     0.51756,     0.51857,     0.52014,     0.52247,     0.52468,      0.5267,     0.52722,     0.52873,     0.53043,\n",
       "             0.5315,     0.53287,     0.53512,     0.53516,     0.53634,     0.53771,     0.53948,     0.54036,     0.54248,     0.54355,     0.54512,     0.54692,     0.54781,     0.54937,     0.55109,     0.55171,     0.55224,     0.55289,     0.55495,     0.55562,     0.55628,     0.55792,     0.55822,\n",
       "            0.55997,     0.56149,     0.56165,     0.56394,     0.56543,     0.56678,     0.56845,     0.57037,     0.57192,     0.57353,     0.57499,     0.57673,     0.57781,     0.57839,      0.5793,     0.58046,     0.58019,     0.58112,     0.58228,      0.5837,     0.58402,     0.58502,     0.58608,\n",
       "            0.58691,     0.58813,     0.58933,     0.59035,     0.59119,     0.59219,     0.59441,     0.59461,     0.59631,     0.59822,     0.59902,      0.6001,     0.60153,     0.60245,     0.60367,     0.60397,      0.6052,     0.60623,     0.60769,     0.60872,     0.60978,     0.61031,     0.61227,\n",
       "            0.61299,     0.61383,     0.61456,      0.6163,       0.617,     0.61872,     0.61945,     0.62096,     0.62226,     0.62308,     0.62381,      0.6257,     0.62626,     0.62793,     0.62967,     0.63133,     0.63216,     0.63286,     0.63304,     0.63327,     0.63444,     0.63673,     0.63715,\n",
       "            0.63887,     0.63942,     0.64014,     0.64096,      0.6417,      0.6445,     0.64507,     0.64656,     0.64692,     0.64807,     0.65063,     0.65323,     0.65456,     0.65654,     0.65689,     0.65725,     0.65809,     0.65978,     0.66133,     0.66141,     0.66345,     0.66508,     0.66658,\n",
       "            0.66881,     0.66984,     0.67069,     0.67163,     0.67258,     0.67303,     0.67515,     0.67594,     0.67841,     0.67943,     0.67989,     0.68087,     0.68254,     0.68284,     0.68357,       0.685,     0.68591,     0.68676,     0.68688,      0.6872,     0.68785,     0.68861,     0.68928,\n",
       "            0.69054,     0.69106,     0.69204,     0.69206,     0.69397,     0.69421,     0.69483,     0.69466,     0.69457,     0.69521,     0.69774,     0.69818,     0.69845,     0.70025,     0.70084,     0.70113,     0.70163,     0.70196,      0.7031,     0.70377,     0.70441,      0.7045,     0.70601,\n",
       "            0.70659,     0.70842,     0.70891,     0.70986,     0.70996,     0.71134,     0.71216,     0.71423,      0.7151,     0.71646,     0.71799,     0.71822,     0.71962,     0.71968,     0.71961,     0.72051,     0.72089,     0.72179,     0.72232,      0.7226,     0.72578,     0.72605,     0.72618,\n",
       "            0.72641,      0.7276,     0.73071,     0.73095,     0.73225,     0.73265,     0.73411,     0.73505,     0.73601,     0.73666,     0.73755,     0.73772,      0.7379,     0.73806,     0.73818,     0.73936,      0.7403,     0.74118,     0.74147,     0.74241,     0.74264,     0.74536,      0.7457,\n",
       "            0.74693,     0.74675,     0.74734,     0.74771,     0.74843,      0.7503,     0.75148,     0.75234,     0.75221,     0.75266,     0.75406,     0.75428,      0.7545,      0.7543,     0.75518,     0.75594,     0.75575,     0.75593,     0.75829,     0.75903,     0.76017,     0.76139,     0.76258,\n",
       "            0.76352,     0.76337,     0.76325,     0.76313,      0.7642,     0.76404,      0.7641,     0.76434,     0.76725,     0.76752,     0.76987,     0.77083,     0.77103,     0.77241,     0.77251,     0.77244,     0.77293,     0.77336,     0.77374,     0.77369,     0.77365,     0.77339,      0.7737,\n",
       "            0.77453,     0.77548,     0.77587,     0.77639,     0.77783,     0.77882,     0.78003,     0.78116,     0.78167,     0.78218,     0.78203,     0.78275,      0.7826,     0.78301,     0.78338,     0.78376,     0.78457,     0.78483,     0.78515,     0.78536,     0.78494,     0.78601,     0.78805,\n",
       "             0.7885,     0.78867,     0.78933,     0.79044,     0.79127,      0.7918,     0.79233,     0.79221,     0.79233,     0.79384,      0.7935,     0.79456,     0.79496,     0.79538,     0.79531,     0.79538,     0.79575,     0.79764,     0.79857,     0.79912,     0.79939,     0.79957,     0.79949,\n",
       "             0.7997,     0.80078,     0.80187,     0.80282,     0.80311,     0.80407,     0.80436,     0.80546,     0.80589,     0.80645,     0.80747,     0.80733,     0.80774,     0.80982,     0.81111,     0.81155,     0.81318,     0.81301,       0.814,     0.81459,     0.81516,     0.81687,     0.81745,\n",
       "            0.81803,     0.81849,     0.82078,     0.82137,      0.8231,     0.82414,     0.82461,     0.82554,     0.82563,     0.82609,     0.82625,      0.8263,     0.82675,     0.82734,     0.82709,     0.82873,     0.82984,     0.83037,     0.83153,     0.83119,     0.83154,     0.83142,     0.83225,\n",
       "            0.83266,     0.83328,     0.83428,     0.83525,     0.83575,     0.83686,     0.83793,     0.83757,     0.83733,     0.83709,     0.83721,     0.83846,     0.83883,     0.83877,       0.839,     0.84088,     0.84104,      0.8418,     0.84307,     0.84392,      0.8438,     0.84465,     0.84545,\n",
       "             0.8466,     0.84636,     0.84741,     0.84751,     0.84728,     0.84776,      0.8478,     0.84745,     0.84798,       0.849,     0.84933,      0.8503,     0.85063,     0.85159,     0.85192,     0.85322,     0.85344,     0.85367,      0.8539,     0.85424,     0.85462,     0.85483,     0.85477,\n",
       "             0.8546,     0.85454,     0.85447,     0.85515,       0.856,     0.85721,     0.85712,     0.85706,     0.85788,     0.85913,     0.85935,     0.85929,     0.85963,     0.85988,     0.86022,     0.86078,     0.86117,     0.86176,      0.8618,     0.86173,     0.86167,     0.86185,      0.8636,\n",
       "            0.86398,     0.86402,     0.86588,     0.86577,     0.86628,     0.86657,     0.86716,     0.86696,     0.86691,     0.86745,      0.8674,     0.86698,     0.86705,     0.86741,     0.86872,     0.86945,     0.86949,      0.8707,     0.87049,     0.87103,     0.87177,     0.87326,     0.87449,\n",
       "            0.87512,     0.87553,     0.87542,     0.87605,     0.87594,     0.87568,     0.87636,      0.8761,     0.87599,     0.87592,     0.87586,     0.87577,     0.87567,      0.8763,     0.87619,     0.87609,     0.87747,      0.8779,     0.87779,     0.87919,     0.87974,     0.88019,     0.88002,\n",
       "            0.87981,     0.88003,     0.88138,     0.88177,     0.88238,     0.88265,     0.88284,     0.88324,     0.88311,     0.88372,     0.88362,     0.88417,     0.88444,      0.8847,     0.88487,     0.88482,     0.88465,     0.88454,     0.88497,     0.88486,     0.88465,     0.88434,     0.88662,\n",
       "            0.88769,     0.88758,     0.88738,     0.88706,     0.88695,     0.88689,     0.88681,     0.88811,      0.8879,      0.8884,     0.88882,     0.88965,     0.88947,     0.88955,     0.88997,     0.89045,     0.89101,     0.89177,     0.89239,     0.89284,     0.89597,     0.89583,      0.8966,\n",
       "             0.8973,      0.8988,     0.89871,     0.89946,     0.90022,     0.90179,      0.9016,     0.90141,     0.90131,     0.90109,     0.90184,      0.9026,     0.90261,     0.90223,     0.90198,     0.90356,     0.90437,     0.90432,     0.90658,     0.90649,     0.90644,      0.9071,     0.90771,\n",
       "            0.90758,      0.9082,      0.9083,     0.90814,     0.90788,      0.9081,     0.90848,     0.91011,     0.91076,      0.9116,     0.91191,     0.91222,     0.91218,     0.91179,     0.91248,     0.91296,     0.91322,     0.91396,     0.91392,     0.91375,     0.91448,     0.91516,     0.91505,\n",
       "            0.91479,     0.91475,     0.91469,     0.91585,     0.91646,     0.91595,     0.91592,     0.91588,     0.91549,     0.91545,     0.91543,     0.91631,     0.91635,       0.917,     0.91695,     0.91656,      0.9172,     0.91709,     0.91761,     0.91752,      0.9183,     0.91821,     0.91861,\n",
       "            0.91863,     0.91854,     0.92035,     0.92118,     0.92118,     0.92204,     0.92391,     0.92432,     0.92677,     0.92733,     0.92727,     0.92783,     0.92815,     0.92805,     0.92753,     0.92823,     0.92818,     0.92805,     0.92799,     0.92778,     0.92753,     0.92747,      0.9285,\n",
       "            0.92905,     0.92893,     0.92883,     0.92967,     0.92952,     0.92954,     0.93122,     0.93169,     0.93165,     0.93178,     0.93254,     0.93419,     0.93477,     0.93658,     0.93779,     0.93769,     0.93751,     0.93865,     0.93839,      0.9383,     0.93783,     0.93734,     0.93698,\n",
       "            0.93686,     0.93666,     0.93762,     0.93741,     0.93732,     0.93722,     0.93716,     0.93711,     0.93906,     0.93888,     0.93879,     0.93865,      0.9386,     0.94099,     0.94088,     0.94442,     0.94423,     0.94415,     0.94518,     0.94513,     0.94598,     0.94562,     0.94653,\n",
       "            0.94817,     0.94806,     0.94935,     0.94911,     0.94884,     0.94859,     0.94819,     0.94814,     0.94777,     0.94769,     0.94856,     0.94847,     0.94817,     0.94792,     0.94762,     0.94877,     0.94872,     0.94959,     0.94988,     0.94954,     0.94938,     0.94918,     0.94903,\n",
       "            0.94865,     0.94951,     0.94934,     0.95123,     0.95321,     0.95347,     0.95313,     0.95295,     0.95405,     0.95534,     0.95524,     0.95508,     0.95468,     0.95462,     0.95443,     0.95421,       0.954,      0.9536,     0.95348,     0.95324,     0.95635,      0.9578,     0.95778,\n",
       "             0.9624,       0.964,     0.96368,     0.96346,     0.96325,     0.96451,      0.9657,     0.96794,     0.96971,     0.96956,     0.96947,     0.96935,     0.96905,     0.96881,     0.96844,     0.96837,     0.96993,     0.97142,     0.97135,     0.97312,     0.97498,     0.97687,     0.97662,\n",
       "            0.97631,     0.97611,     0.97573,     0.97557,      0.9754,     0.97523,     0.97512,     0.97477,      0.9743,     0.97355,     0.97359,     0.97546,     0.97749,     0.97704,     0.97701,      0.9769,     0.97672,     0.97635,     0.97723,     0.97835,     0.97817,     0.97755,      0.9771,\n",
       "            0.97676,     0.97621,     0.97886,     0.97873,      0.9786,     0.98131,     0.98119,     0.98095,     0.98064,     0.98044,     0.98022,     0.97998,     0.97977,     0.98262,     0.98237,     0.98198,      0.9816,     0.98144,     0.98487,     0.98452,     0.98439,     0.98388,     0.98368,\n",
       "            0.98699,     0.98685,     0.98646,     0.98591,     0.98543,     0.98506,     0.98445,     0.98419,     0.98367,     0.98302,     0.98826,     0.98792,      0.9874,     0.98722,     0.98688,      0.9867,     0.98614,     0.98543,     0.98476,     0.98395,     0.99174,     0.99138,     0.99078,\n",
       "                  1,           1,           1,           1,           1,           1,           1,           1,           1,           1,           1,           1,           1,           1,           1,           1,           1,           1,           1,           1,           1,           1,           1,\n",
       "                  1,           1,           1,           1,           1,           1,           1,           1,           1,           1,           1,           1,           1,           1,           1,           1,           1,           1,           1,           1,           1,           1,           1,\n",
       "                  1,           1,           1,           1,           1,           1,           1,           1,           1,           1,           1,           1,           1,           1,           1,           1,           1,           1,           1,           1,           1,           1,           1,\n",
       "                  1,           1,           1,           1,           1,           1,           1,           1,           1,           1,           1]]), 'Confidence', 'Precision'], [array([          0,    0.001001,    0.002002,    0.003003,    0.004004,    0.005005,    0.006006,    0.007007,    0.008008,    0.009009,     0.01001,    0.011011,    0.012012,    0.013013,    0.014014,    0.015015,    0.016016,    0.017017,    0.018018,    0.019019,     0.02002,    0.021021,    0.022022,    0.023023,\n",
       "          0.024024,    0.025025,    0.026026,    0.027027,    0.028028,    0.029029,     0.03003,    0.031031,    0.032032,    0.033033,    0.034034,    0.035035,    0.036036,    0.037037,    0.038038,    0.039039,     0.04004,    0.041041,    0.042042,    0.043043,    0.044044,    0.045045,    0.046046,    0.047047,\n",
       "          0.048048,    0.049049,     0.05005,    0.051051,    0.052052,    0.053053,    0.054054,    0.055055,    0.056056,    0.057057,    0.058058,    0.059059,     0.06006,    0.061061,    0.062062,    0.063063,    0.064064,    0.065065,    0.066066,    0.067067,    0.068068,    0.069069,     0.07007,    0.071071,\n",
       "          0.072072,    0.073073,    0.074074,    0.075075,    0.076076,    0.077077,    0.078078,    0.079079,     0.08008,    0.081081,    0.082082,    0.083083,    0.084084,    0.085085,    0.086086,    0.087087,    0.088088,    0.089089,     0.09009,    0.091091,    0.092092,    0.093093,    0.094094,    0.095095,\n",
       "          0.096096,    0.097097,    0.098098,    0.099099,      0.1001,      0.1011,      0.1021,      0.1031,      0.1041,     0.10511,     0.10611,     0.10711,     0.10811,     0.10911,     0.11011,     0.11111,     0.11211,     0.11311,     0.11411,     0.11512,     0.11612,     0.11712,     0.11812,     0.11912,\n",
       "           0.12012,     0.12112,     0.12212,     0.12312,     0.12412,     0.12513,     0.12613,     0.12713,     0.12813,     0.12913,     0.13013,     0.13113,     0.13213,     0.13313,     0.13413,     0.13514,     0.13614,     0.13714,     0.13814,     0.13914,     0.14014,     0.14114,     0.14214,     0.14314,\n",
       "           0.14414,     0.14515,     0.14615,     0.14715,     0.14815,     0.14915,     0.15015,     0.15115,     0.15215,     0.15315,     0.15415,     0.15516,     0.15616,     0.15716,     0.15816,     0.15916,     0.16016,     0.16116,     0.16216,     0.16316,     0.16416,     0.16517,     0.16617,     0.16717,\n",
       "           0.16817,     0.16917,     0.17017,     0.17117,     0.17217,     0.17317,     0.17417,     0.17518,     0.17618,     0.17718,     0.17818,     0.17918,     0.18018,     0.18118,     0.18218,     0.18318,     0.18418,     0.18519,     0.18619,     0.18719,     0.18819,     0.18919,     0.19019,     0.19119,\n",
       "           0.19219,     0.19319,     0.19419,      0.1952,      0.1962,      0.1972,      0.1982,      0.1992,      0.2002,      0.2012,      0.2022,      0.2032,      0.2042,     0.20521,     0.20621,     0.20721,     0.20821,     0.20921,     0.21021,     0.21121,     0.21221,     0.21321,     0.21421,     0.21522,\n",
       "           0.21622,     0.21722,     0.21822,     0.21922,     0.22022,     0.22122,     0.22222,     0.22322,     0.22422,     0.22523,     0.22623,     0.22723,     0.22823,     0.22923,     0.23023,     0.23123,     0.23223,     0.23323,     0.23423,     0.23524,     0.23624,     0.23724,     0.23824,     0.23924,\n",
       "           0.24024,     0.24124,     0.24224,     0.24324,     0.24424,     0.24525,     0.24625,     0.24725,     0.24825,     0.24925,     0.25025,     0.25125,     0.25225,     0.25325,     0.25425,     0.25526,     0.25626,     0.25726,     0.25826,     0.25926,     0.26026,     0.26126,     0.26226,     0.26326,\n",
       "           0.26426,     0.26527,     0.26627,     0.26727,     0.26827,     0.26927,     0.27027,     0.27127,     0.27227,     0.27327,     0.27427,     0.27528,     0.27628,     0.27728,     0.27828,     0.27928,     0.28028,     0.28128,     0.28228,     0.28328,     0.28428,     0.28529,     0.28629,     0.28729,\n",
       "           0.28829,     0.28929,     0.29029,     0.29129,     0.29229,     0.29329,     0.29429,      0.2953,      0.2963,      0.2973,      0.2983,      0.2993,      0.3003,      0.3013,      0.3023,      0.3033,      0.3043,     0.30531,     0.30631,     0.30731,     0.30831,     0.30931,     0.31031,     0.31131,\n",
       "           0.31231,     0.31331,     0.31431,     0.31532,     0.31632,     0.31732,     0.31832,     0.31932,     0.32032,     0.32132,     0.32232,     0.32332,     0.32432,     0.32533,     0.32633,     0.32733,     0.32833,     0.32933,     0.33033,     0.33133,     0.33233,     0.33333,     0.33433,     0.33534,\n",
       "           0.33634,     0.33734,     0.33834,     0.33934,     0.34034,     0.34134,     0.34234,     0.34334,     0.34434,     0.34535,     0.34635,     0.34735,     0.34835,     0.34935,     0.35035,     0.35135,     0.35235,     0.35335,     0.35435,     0.35536,     0.35636,     0.35736,     0.35836,     0.35936,\n",
       "           0.36036,     0.36136,     0.36236,     0.36336,     0.36436,     0.36537,     0.36637,     0.36737,     0.36837,     0.36937,     0.37037,     0.37137,     0.37237,     0.37337,     0.37437,     0.37538,     0.37638,     0.37738,     0.37838,     0.37938,     0.38038,     0.38138,     0.38238,     0.38338,\n",
       "           0.38438,     0.38539,     0.38639,     0.38739,     0.38839,     0.38939,     0.39039,     0.39139,     0.39239,     0.39339,     0.39439,      0.3954,      0.3964,      0.3974,      0.3984,      0.3994,      0.4004,      0.4014,      0.4024,      0.4034,      0.4044,     0.40541,     0.40641,     0.40741,\n",
       "           0.40841,     0.40941,     0.41041,     0.41141,     0.41241,     0.41341,     0.41441,     0.41542,     0.41642,     0.41742,     0.41842,     0.41942,     0.42042,     0.42142,     0.42242,     0.42342,     0.42442,     0.42543,     0.42643,     0.42743,     0.42843,     0.42943,     0.43043,     0.43143,\n",
       "           0.43243,     0.43343,     0.43443,     0.43544,     0.43644,     0.43744,     0.43844,     0.43944,     0.44044,     0.44144,     0.44244,     0.44344,     0.44444,     0.44545,     0.44645,     0.44745,     0.44845,     0.44945,     0.45045,     0.45145,     0.45245,     0.45345,     0.45445,     0.45546,\n",
       "           0.45646,     0.45746,     0.45846,     0.45946,     0.46046,     0.46146,     0.46246,     0.46346,     0.46446,     0.46547,     0.46647,     0.46747,     0.46847,     0.46947,     0.47047,     0.47147,     0.47247,     0.47347,     0.47447,     0.47548,     0.47648,     0.47748,     0.47848,     0.47948,\n",
       "           0.48048,     0.48148,     0.48248,     0.48348,     0.48448,     0.48549,     0.48649,     0.48749,     0.48849,     0.48949,     0.49049,     0.49149,     0.49249,     0.49349,     0.49449,      0.4955,      0.4965,      0.4975,      0.4985,      0.4995,      0.5005,      0.5015,      0.5025,      0.5035,\n",
       "            0.5045,     0.50551,     0.50651,     0.50751,     0.50851,     0.50951,     0.51051,     0.51151,     0.51251,     0.51351,     0.51451,     0.51552,     0.51652,     0.51752,     0.51852,     0.51952,     0.52052,     0.52152,     0.52252,     0.52352,     0.52452,     0.52553,     0.52653,     0.52753,\n",
       "           0.52853,     0.52953,     0.53053,     0.53153,     0.53253,     0.53353,     0.53453,     0.53554,     0.53654,     0.53754,     0.53854,     0.53954,     0.54054,     0.54154,     0.54254,     0.54354,     0.54454,     0.54555,     0.54655,     0.54755,     0.54855,     0.54955,     0.55055,     0.55155,\n",
       "           0.55255,     0.55355,     0.55455,     0.55556,     0.55656,     0.55756,     0.55856,     0.55956,     0.56056,     0.56156,     0.56256,     0.56356,     0.56456,     0.56557,     0.56657,     0.56757,     0.56857,     0.56957,     0.57057,     0.57157,     0.57257,     0.57357,     0.57457,     0.57558,\n",
       "           0.57658,     0.57758,     0.57858,     0.57958,     0.58058,     0.58158,     0.58258,     0.58358,     0.58458,     0.58559,     0.58659,     0.58759,     0.58859,     0.58959,     0.59059,     0.59159,     0.59259,     0.59359,     0.59459,      0.5956,      0.5966,      0.5976,      0.5986,      0.5996,\n",
       "            0.6006,      0.6016,      0.6026,      0.6036,      0.6046,     0.60561,     0.60661,     0.60761,     0.60861,     0.60961,     0.61061,     0.61161,     0.61261,     0.61361,     0.61461,     0.61562,     0.61662,     0.61762,     0.61862,     0.61962,     0.62062,     0.62162,     0.62262,     0.62362,\n",
       "           0.62462,     0.62563,     0.62663,     0.62763,     0.62863,     0.62963,     0.63063,     0.63163,     0.63263,     0.63363,     0.63463,     0.63564,     0.63664,     0.63764,     0.63864,     0.63964,     0.64064,     0.64164,     0.64264,     0.64364,     0.64464,     0.64565,     0.64665,     0.64765,\n",
       "           0.64865,     0.64965,     0.65065,     0.65165,     0.65265,     0.65365,     0.65465,     0.65566,     0.65666,     0.65766,     0.65866,     0.65966,     0.66066,     0.66166,     0.66266,     0.66366,     0.66466,     0.66567,     0.66667,     0.66767,     0.66867,     0.66967,     0.67067,     0.67167,\n",
       "           0.67267,     0.67367,     0.67467,     0.67568,     0.67668,     0.67768,     0.67868,     0.67968,     0.68068,     0.68168,     0.68268,     0.68368,     0.68468,     0.68569,     0.68669,     0.68769,     0.68869,     0.68969,     0.69069,     0.69169,     0.69269,     0.69369,     0.69469,      0.6957,\n",
       "            0.6967,      0.6977,      0.6987,      0.6997,      0.7007,      0.7017,      0.7027,      0.7037,      0.7047,     0.70571,     0.70671,     0.70771,     0.70871,     0.70971,     0.71071,     0.71171,     0.71271,     0.71371,     0.71471,     0.71572,     0.71672,     0.71772,     0.71872,     0.71972,\n",
       "           0.72072,     0.72172,     0.72272,     0.72372,     0.72472,     0.72573,     0.72673,     0.72773,     0.72873,     0.72973,     0.73073,     0.73173,     0.73273,     0.73373,     0.73473,     0.73574,     0.73674,     0.73774,     0.73874,     0.73974,     0.74074,     0.74174,     0.74274,     0.74374,\n",
       "           0.74474,     0.74575,     0.74675,     0.74775,     0.74875,     0.74975,     0.75075,     0.75175,     0.75275,     0.75375,     0.75475,     0.75576,     0.75676,     0.75776,     0.75876,     0.75976,     0.76076,     0.76176,     0.76276,     0.76376,     0.76476,     0.76577,     0.76677,     0.76777,\n",
       "           0.76877,     0.76977,     0.77077,     0.77177,     0.77277,     0.77377,     0.77477,     0.77578,     0.77678,     0.77778,     0.77878,     0.77978,     0.78078,     0.78178,     0.78278,     0.78378,     0.78478,     0.78579,     0.78679,     0.78779,     0.78879,     0.78979,     0.79079,     0.79179,\n",
       "           0.79279,     0.79379,     0.79479,      0.7958,      0.7968,      0.7978,      0.7988,      0.7998,      0.8008,      0.8018,      0.8028,      0.8038,      0.8048,     0.80581,     0.80681,     0.80781,     0.80881,     0.80981,     0.81081,     0.81181,     0.81281,     0.81381,     0.81481,     0.81582,\n",
       "           0.81682,     0.81782,     0.81882,     0.81982,     0.82082,     0.82182,     0.82282,     0.82382,     0.82482,     0.82583,     0.82683,     0.82783,     0.82883,     0.82983,     0.83083,     0.83183,     0.83283,     0.83383,     0.83483,     0.83584,     0.83684,     0.83784,     0.83884,     0.83984,\n",
       "           0.84084,     0.84184,     0.84284,     0.84384,     0.84484,     0.84585,     0.84685,     0.84785,     0.84885,     0.84985,     0.85085,     0.85185,     0.85285,     0.85385,     0.85485,     0.85586,     0.85686,     0.85786,     0.85886,     0.85986,     0.86086,     0.86186,     0.86286,     0.86386,\n",
       "           0.86486,     0.86587,     0.86687,     0.86787,     0.86887,     0.86987,     0.87087,     0.87187,     0.87287,     0.87387,     0.87487,     0.87588,     0.87688,     0.87788,     0.87888,     0.87988,     0.88088,     0.88188,     0.88288,     0.88388,     0.88488,     0.88589,     0.88689,     0.88789,\n",
       "           0.88889,     0.88989,     0.89089,     0.89189,     0.89289,     0.89389,     0.89489,      0.8959,      0.8969,      0.8979,      0.8989,      0.8999,      0.9009,      0.9019,      0.9029,      0.9039,      0.9049,     0.90591,     0.90691,     0.90791,     0.90891,     0.90991,     0.91091,     0.91191,\n",
       "           0.91291,     0.91391,     0.91491,     0.91592,     0.91692,     0.91792,     0.91892,     0.91992,     0.92092,     0.92192,     0.92292,     0.92392,     0.92492,     0.92593,     0.92693,     0.92793,     0.92893,     0.92993,     0.93093,     0.93193,     0.93293,     0.93393,     0.93493,     0.93594,\n",
       "           0.93694,     0.93794,     0.93894,     0.93994,     0.94094,     0.94194,     0.94294,     0.94394,     0.94494,     0.94595,     0.94695,     0.94795,     0.94895,     0.94995,     0.95095,     0.95195,     0.95295,     0.95395,     0.95495,     0.95596,     0.95696,     0.95796,     0.95896,     0.95996,\n",
       "           0.96096,     0.96196,     0.96296,     0.96396,     0.96496,     0.96597,     0.96697,     0.96797,     0.96897,     0.96997,     0.97097,     0.97197,     0.97297,     0.97397,     0.97497,     0.97598,     0.97698,     0.97798,     0.97898,     0.97998,     0.98098,     0.98198,     0.98298,     0.98398,\n",
       "           0.98498,     0.98599,     0.98699,     0.98799,     0.98899,     0.98999,     0.99099,     0.99199,     0.99299,     0.99399,     0.99499,       0.996,       0.997,       0.998,       0.999,           1]), array([[    0.87126,     0.87126,     0.85928,     0.85158,     0.84132,     0.83362,     0.82592,     0.81908,     0.81523,     0.80967,     0.80496,     0.79983,     0.79641,     0.79042,     0.78785,     0.78486,     0.78272,     0.78144,      0.7793,     0.77802,     0.77673,     0.77588,     0.77032,\n",
       "            0.76775,     0.76476,     0.76347,     0.76048,     0.75877,     0.75651,     0.75278,     0.75192,     0.74936,     0.74722,     0.74551,     0.74508,     0.74337,     0.74209,     0.73952,     0.73867,     0.73738,     0.73738,     0.73695,     0.73482,     0.73353,     0.73182,     0.72883,\n",
       "            0.72754,     0.72626,     0.72455,     0.72241,     0.72198,      0.7207,     0.71933,     0.71814,     0.71771,     0.71728,       0.716,     0.71562,     0.71429,     0.71343,     0.71257,     0.71215,     0.71215,     0.71172,     0.71086,     0.71044,      0.7097,     0.70876,      0.7083,\n",
       "            0.70787,     0.70659,     0.70573,      0.7053,     0.70274,     0.70274,      0.7006,      0.7006,     0.69935,     0.69846,      0.6976,     0.69675,     0.69675,     0.69632,     0.69589,     0.69461,     0.69376,     0.69376,     0.69376,     0.69376,     0.69376,     0.69118,     0.69076,\n",
       "            0.68948,     0.68948,     0.68862,     0.68777,     0.68734,     0.68691,     0.68563,     0.68563,     0.68477,     0.68435,     0.68392,     0.68349,     0.68178,      0.6805,     0.68007,     0.68007,     0.67975,     0.67836,     0.67793,     0.67707,     0.67665,     0.67536,     0.67451,\n",
       "             0.6728,     0.67151,      0.6698,     0.66895,     0.66809,     0.66766,     0.66708,     0.66595,     0.66467,     0.66382,     0.66253,     0.66253,     0.66253,     0.66168,     0.66125,     0.65997,     0.65928,     0.65697,     0.65654,     0.65654,     0.65536,     0.65355,     0.65312,\n",
       "            0.65167,     0.65141,     0.65088,     0.65013,      0.6497,     0.64927,     0.64886,     0.64713,     0.64711,     0.64628,     0.64628,     0.64371,     0.64328,     0.64328,       0.642,     0.64157,     0.64029,     0.63986,     0.63944,     0.63854,     0.63815,     0.63644,     0.63612,\n",
       "            0.63574,     0.63388,     0.63353,     0.63302,     0.63302,     0.63174,     0.63174,     0.63045,     0.62917,     0.62789,     0.62703,     0.62703,      0.6266,     0.62575,     0.62429,     0.62256,     0.62147,     0.62147,     0.62104,      0.6201,     0.61933,     0.61864,     0.61834,\n",
       "            0.61805,     0.61762,     0.61719,     0.61634,     0.61634,     0.61591,     0.61548,     0.61548,     0.61506,     0.61377,     0.61377,     0.61231,     0.61078,     0.61078,     0.61035,      0.6095,      0.6095,     0.60907,     0.60907,     0.60864,     0.60864,     0.60864,     0.60864,\n",
       "            0.60736,     0.60646,     0.60607,     0.60593,     0.60522,     0.60436,     0.60393,     0.60308,     0.60265,     0.60222,     0.60222,      0.6018,      0.6006,     0.60009,     0.60009,     0.59966,     0.59923,     0.59867,     0.59766,     0.59709,     0.59666,     0.59666,     0.59666,\n",
       "            0.59624,     0.59581,     0.59581,     0.59557,     0.59538,     0.59538,     0.59538,     0.59453,     0.59367,     0.59324,     0.59324,     0.59324,     0.59239,     0.59239,     0.59204,     0.59053,     0.58982,     0.58982,     0.58939,     0.58905,     0.58854,     0.58854,     0.58854,\n",
       "            0.58811,     0.58748,     0.58725,     0.58683,      0.5864,      0.5864,     0.58554,     0.58554,     0.58554,     0.58554,     0.58554,     0.58512,     0.58469,     0.58426,     0.58395,     0.58298,     0.58255,     0.58233,     0.58169,     0.58127,     0.58059,     0.57998,     0.57956,\n",
       "            0.57932,     0.57913,      0.5787,     0.57742,     0.57742,     0.57699,     0.57653,     0.57605,      0.5758,     0.57485,     0.57442,     0.57442,     0.57399,     0.57357,     0.57357,     0.57357,     0.57357,     0.57321,     0.57314,     0.57271,     0.57228,     0.57104,     0.57015,\n",
       "            0.56929,     0.56843,     0.56801,     0.56758,      0.5663,      0.5663,     0.56587,     0.56587,     0.56587,     0.56501,     0.56501,     0.56501,     0.56459,     0.56443,     0.56424,     0.56416,      0.5634,     0.56259,     0.56202,     0.56159,     0.56149,     0.56074,     0.55922,\n",
       "            0.55902,     0.55867,     0.55817,     0.55817,     0.55817,     0.55792,     0.55774,     0.55774,     0.55688,     0.55603,     0.55518,     0.55518,     0.55518,     0.55437,      0.5535,     0.55304,     0.55304,     0.55304,     0.55261,     0.55261,     0.55218,     0.55086,     0.55047,\n",
       "            0.55039,     0.54987,     0.54962,     0.54888,     0.54876,     0.54748,     0.54705,     0.54702,     0.54619,     0.54619,     0.54619,     0.54577,     0.54553,     0.54495,     0.54491,     0.54448,     0.54393,     0.54363,     0.54344,     0.54294,     0.54277,     0.54277,     0.54277,\n",
       "            0.54277,     0.54149,     0.54052,     0.53978,     0.53922,     0.53873,     0.53849,     0.53849,     0.53807,     0.53807,     0.53807,     0.53807,     0.53721,     0.53709,      0.5355,     0.53379,     0.53379,     0.53271,     0.53241,     0.53227,     0.53212,     0.53134,      0.5308,\n",
       "            0.53037,     0.53034,     0.52994,     0.52994,     0.52951,     0.52951,     0.52933,     0.52908,     0.52908,     0.52837,     0.52789,     0.52703,     0.52659,     0.52652,     0.52609,     0.52566,     0.52481,     0.52481,     0.52481,     0.52427,     0.52297,     0.52267,     0.52267,\n",
       "            0.52224,     0.52197,     0.52139,     0.52109,     0.52096,     0.52096,     0.52096,     0.52019,     0.51925,     0.51878,     0.51754,     0.51754,     0.51711,     0.51707,     0.51685,     0.51668,     0.51657,      0.5154,     0.51497,     0.51497,     0.51411,     0.51359,     0.51334,\n",
       "            0.51283,     0.51283,     0.51283,      0.5124,     0.51155,     0.51112,     0.51027,     0.51027,     0.50984,     0.50984,     0.50944,       0.509,     0.50855,     0.50813,     0.50684,     0.50642,     0.50638,     0.50556,      0.5054,      0.5047,      0.5047,      0.5047,      0.5047,\n",
       "             0.5047,     0.50428,     0.50428,     0.50428,     0.50428,     0.50385,     0.50342,     0.50257,     0.50226,     0.50182,     0.50086,     0.50052,     0.50043,     0.50007,      0.4992,     0.49877,     0.49872,     0.49832,     0.49829,     0.49701,     0.49615,     0.49571,     0.49441,\n",
       "            0.49358,     0.49358,      0.4931,     0.49187,     0.49145,     0.49102,     0.49092,     0.48962,     0.48876,     0.48789,      0.4876,      0.4876,     0.48751,     0.48729,     0.48717,     0.48717,     0.48653,     0.48589,     0.48589,     0.48564,     0.48521,      0.4846,     0.48433,\n",
       "            0.48389,     0.48302,     0.48289,     0.48258,     0.48171,     0.48161,     0.48126,     0.47997,      0.4799,      0.4799,      0.4799,      0.4799,      0.4799,     0.47861,     0.47733,     0.47733,     0.47733,     0.47733,     0.47733,     0.47733,     0.47733,     0.47601,     0.47579,\n",
       "            0.47514,     0.47492,     0.47391,     0.47391,     0.47291,     0.47247,     0.47212,      0.4719,     0.47134,     0.47092,     0.47038,     0.47016,     0.47006,     0.46982,     0.46963,     0.46809,     0.46792,     0.46749,     0.46677,     0.46649,     0.46627,     0.46493,     0.46364,\n",
       "            0.46236,       0.462,     0.46114,      0.4607,     0.46022,     0.45832,     0.45789,     0.45712,      0.4569,     0.45626,     0.45604,     0.45441,     0.45381,     0.45381,     0.45381,     0.45381,     0.45307,     0.45221,     0.45134,     0.45124,     0.45124,     0.45088,     0.45038,\n",
       "            0.44958,     0.44828,     0.44784,     0.44741,     0.44697,     0.44589,     0.44565,     0.44458,     0.44414,     0.44384,     0.44362,     0.44326,     0.44282,     0.44238,     0.44194,      0.4415,     0.44107,     0.43977,     0.43933,     0.43889,     0.43803,     0.43798,     0.43608,\n",
       "            0.43522,     0.43456,     0.43456,     0.43456,     0.43456,     0.43431,     0.43413,     0.43413,     0.43299,     0.43234,      0.4319,     0.43071,     0.43071,     0.43071,     0.43064,     0.43042,      0.4297,     0.42926,     0.42779,     0.42731,     0.42645,     0.42515,     0.42472,\n",
       "            0.42257,     0.42213,     0.42126,     0.41992,     0.41945,     0.41923,     0.41887,     0.41757,     0.41671,     0.41541,     0.41446,      0.4138,     0.41303,     0.41275,     0.41275,     0.41275,     0.41275,     0.41233,     0.41146,     0.40975,     0.40888,     0.40804,     0.40796,\n",
       "            0.40735,     0.40648,     0.40605,     0.40561,     0.40517,     0.40452,     0.40365,     0.40278,     0.40235,     0.40133,     0.40083,     0.40077,     0.40038,     0.39866,      0.3975,     0.39671,     0.39638,     0.39616,     0.39433,     0.39391,     0.39369,     0.39258,     0.39122,\n",
       "            0.39064,      0.3905,     0.38976,       0.389,     0.38781,     0.38751,     0.38636,     0.38543,     0.38414,     0.38409,     0.38323,     0.38228,     0.38206,     0.38023,     0.37896,     0.37896,     0.37725,     0.37711,     0.37689,      0.3761,     0.37502,     0.37373,     0.37319,\n",
       "            0.37195,     0.37173,     0.37145,     0.37083,     0.37067,     0.36821,     0.36806,     0.36792,     0.36604,     0.36587,      0.3657,     0.36525,     0.36484,     0.36386,     0.36364,     0.36179,     0.36007,     0.35954,     0.35726,     0.35683,     0.35575,     0.35531,     0.35415,\n",
       "            0.35251,     0.35207,      0.3509,     0.35073,      0.3499,     0.34903,     0.34795,     0.34731,     0.34643,     0.34386,     0.34357,     0.34303,     0.34254,     0.34203,     0.33941,     0.33742,      0.3372,     0.33654,     0.33624,     0.33519,     0.33395,     0.33366,     0.33324,\n",
       "            0.33045,     0.32982,     0.32935,     0.32792,     0.32719,     0.32678,     0.32678,     0.32667,      0.3265,     0.32549,     0.32521,     0.32506,     0.32488,     0.32378,     0.32238,     0.32182,     0.32086,     0.32064,     0.31919,     0.31869,     0.31615,     0.31354,      0.3116,\n",
       "            0.31095,     0.30967,     0.30858,      0.3075,     0.30702,      0.3065,      0.3062,     0.30591,     0.30317,     0.30221,     0.30176,     0.30104,     0.30074,     0.30012,     0.29953,     0.29796,     0.29693,     0.29644,       0.295,     0.29471,     0.29213,     0.28999,     0.28999,\n",
       "             0.2895,     0.28888,     0.28861,     0.28715,     0.28557,     0.28413,      0.2818,     0.28151,      0.2794,     0.27896,     0.27603,     0.27552,     0.27385,      0.2725,     0.27081,     0.26933,     0.26904,     0.26861,     0.26753,     0.26559,      0.2647,     0.26365,     0.26278,\n",
       "            0.26078,     0.25741,     0.25646,     0.25492,     0.25492,     0.25416,     0.25223,     0.25122,     0.24864,     0.24706,     0.24645,     0.24554,     0.24324,     0.24295,     0.24188,     0.24066,     0.23948,     0.23732,      0.2367,     0.23541,     0.23426,     0.23296,     0.23097,\n",
       "            0.22992,     0.22905,       0.227,     0.22558,      0.2242,     0.22083,     0.21985,     0.21951,     0.21906,     0.21794,      0.2173,     0.21643,     0.21427,     0.21254,     0.20998,      0.2095,     0.20691,     0.20353,     0.20302,     0.20129,     0.19998,     0.19868,     0.19652,\n",
       "            0.19393,      0.1922,     0.18918,     0.18788,     0.18657,     0.18527,     0.18437,      0.1818,     0.17836,     0.17321,     0.17194,     0.16999,     0.16715,     0.16379,     0.16357,     0.16281,     0.16151,     0.15892,     0.15612,      0.1546,      0.1533,       0.149,     0.14598,\n",
       "            0.14382,     0.14038,     0.13861,     0.13777,     0.13689,     0.13473,     0.13386,     0.13212,     0.12996,     0.12866,     0.12719,     0.12562,     0.12432,     0.12087,     0.11914,     0.11655,     0.11408,     0.11309,     0.11136,     0.10883,     0.10789,     0.10445,     0.10315,\n",
       "           0.097328,     0.09626,    0.093457,    0.089801,    0.086786,    0.084626,    0.081224,    0.079878,     0.07729,    0.074275,    0.071986,    0.069955,    0.067045,    0.066063,     0.06433,    0.063454,    0.060866,     0.05785,    0.055263,    0.052428,     0.05137,    0.049199,     0.04598,\n",
       "            0.04362,    0.043328,    0.040174,    0.038838,    0.036251,     0.03238,    0.029364,    0.027204,    0.025472,    0.023312,    0.022448,    0.021131,    0.019398,    0.018094,    0.017163,     0.01634,    0.014789,    0.013731,    0.013124,    0.012832,   0.0093997,   0.0085128,   0.0072554,\n",
       "          0.0070362,   0.0067377,   0.0059244,   0.0054117,   0.0045349,   0.0037538,   0.0032089,   0.0026631,    0.001883,  0.00080003,  0.00062466,  0.00044929,           0,           0,           0,           0,           0,           0,           0,           0,           0,           0,           0,\n",
       "                  0,           0,           0,           0,           0,           0,           0,           0,           0,           0,           0,           0,           0,           0,           0,           0,           0,           0,           0,           0,           0,           0,           0,\n",
       "                  0,           0,           0,           0,           0,           0,           0,           0,           0,           0,           0]]), 'Confidence', 'Recall']]\n",
       "fitness: 0.4305234312824179\n",
       "keys: ['metrics/precision(B)', 'metrics/recall(B)', 'metrics/mAP50(B)', 'metrics/mAP50-95(B)']\n",
       "maps: array([    0.40764])\n",
       "names: {0: 'person'}\n",
       "plot: True\n",
       "results_dict: {'metrics/precision(B)': 0.740302660418539, 'metrics/recall(B)': 0.5530367835757057, 'metrics/mAP50(B)': 0.6364596421755656, 'metrics/mAP50-95(B)': 0.4076416300720681, 'fitness': 0.4305234312824179}\n",
       "save_dir: PosixPath('runs/train')\n",
       "speed: {'preprocess': 0.16076731999964977, 'inference': 1.698869346997526, 'loss': 0.0005129899982421193, 'postprocess': 1.3115219860010257}\n",
       "task: 'detect'"
      ]
     },
     "execution_count": 10,
     "metadata": {},
     "output_type": "execute_result"
    }
   ],
   "source": [
    "model.train(\n",
    "  data=data_yaml_path,\n",
    "  epochs=epochs,\n",
    "  batch=16,\n",
    "  imgsz=640,\n",
    "  device=device,\n",
    "  project=output_path,\n",
    ")"
   ]
  },
  {
   "cell_type": "code",
   "execution_count": 11,
   "id": "eef5cfaf",
   "metadata": {
    "execution": {
     "iopub.execute_input": "2025-03-13T01:52:25.386308Z",
     "iopub.status.busy": "2025-03-13T01:52:25.385957Z",
     "iopub.status.idle": "2025-03-13T01:52:26.314406Z",
     "shell.execute_reply": "2025-03-13T01:52:26.313511Z"
    },
    "id": "GGLvixVnY1KK",
    "outputId": "af3c7752-d1fe-47d9-e1f1-6565a204f473",
    "papermill": {
     "duration": 3.764265,
     "end_time": "2025-03-13T01:52:26.315846",
     "exception": false,
     "start_time": "2025-03-13T01:52:22.551581",
     "status": "completed"
    },
    "tags": []
   },
   "outputs": [
    {
     "data": {
      "text/plain": [
       "'/kaggle/working/yolo_results.zip'"
      ]
     },
     "execution_count": 11,
     "metadata": {},
     "output_type": "execute_result"
    }
   ],
   "source": [
    "import shutil\n",
    "\n",
    "zip_file = \"yolo_results.zip\"\n",
    "\n",
    "# create zip file\n",
    "shutil.make_archive(zip_file.replace('.zip', ''), 'zip', output_path)"
   ]
  },
  {
   "cell_type": "markdown",
   "id": "e601a68c",
   "metadata": {
    "id": "5ZRJWUfgOrDZ",
    "papermill": {
     "duration": 2.959465,
     "end_time": "2025-03-13T01:52:32.201189",
     "exception": false,
     "start_time": "2025-03-13T01:52:29.241724",
     "status": "completed"
    },
    "tags": []
   },
   "source": [
    "### References:\n",
    "\n",
    "1. https://docs.voxel51.com/tutorials/yolov8.html"
   ]
  }
 ],
 "metadata": {
  "accelerator": "GPU",
  "colab": {
   "gpuType": "T4",
   "provenance": []
  },
  "kaggle": {
   "accelerator": "nvidiaTeslaT4",
   "dataSources": [
    {
     "datasetId": 205791,
     "sourceId": 451400,
     "sourceType": "datasetVersion"
    }
   ],
   "dockerImageVersionId": 30919,
   "isGpuEnabled": true,
   "isInternetEnabled": true,
   "language": "python",
   "sourceType": "notebook"
  },
  "kernelspec": {
   "display_name": "Python 3",
   "name": "python3"
  },
  "language_info": {
   "codemirror_mode": {
    "name": "ipython",
    "version": 3
   },
   "file_extension": ".py",
   "mimetype": "text/x-python",
   "name": "python",
   "nbconvert_exporter": "python",
   "pygments_lexer": "ipython3",
   "version": "3.10.12"
  },
  "papermill": {
   "default_parameters": {},
   "duration": 4974.211786,
   "end_time": "2025-03-13T01:52:38.843797",
   "environment_variables": {},
   "exception": null,
   "input_path": "__notebook__.ipynb",
   "output_path": "__notebook__.ipynb",
   "parameters": {},
   "start_time": "2025-03-13T00:29:44.632011",
   "version": "2.6.0"
  }
 },
 "nbformat": 4,
 "nbformat_minor": 5
}
